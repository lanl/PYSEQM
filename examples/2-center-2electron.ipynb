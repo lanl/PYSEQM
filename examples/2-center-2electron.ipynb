{
 "cells": [
  {
   "cell_type": "code",
   "execution_count": 1,
   "metadata": {},
   "outputs": [
    {
     "name": "stdout",
     "output_type": "stream",
     "text": [
      "Decorating your function! <function KSA_XL_BOMD.one_step at 0x7fd5707f53f0>\n"
     ]
    }
   ],
   "source": [
    "%load_ext autoreload\n",
    "%autoreload 2\n",
    "\n",
    "import torch\n",
    "import seqm\n",
    "import importlib\n",
    "\n",
    "from seqm.seqm_functions.constants import Constants\n",
    "from seqm.Molecule import Molecule\n",
    "from seqm.ElectronicStructure import Electronic_Structure\n",
    "\n",
    "# importlib.reload(seqm.ElectronicStructure)\n",
    "\n",
    "torch.set_default_dtype(torch.float64)\n",
    "if torch.cuda.is_available():\n",
    "    device = torch.device('cuda')\n",
    "else:\n",
    "    device = torch.device('cpu')\n",
    "    \n",
    "    "
   ]
  },
  {
   "cell_type": "code",
   "execution_count": 22,
   "metadata": {},
   "outputs": [
    {
     "name": "stdout",
     "output_type": "stream",
     "text": [
      "Coordinates shape torch.Size([1, 4, 3])\n",
      "Species shape torch.Size([1, 4])\n",
      "Molecule(\n",
      "  (const): Constants()\n",
      "  (parser): Parser()\n",
      ")\n",
      "CPU times: user 4.28 ms, sys: 7.44 ms, total: 11.7 ms\n",
      "Wall time: 11.9 ms\n"
     ]
    }
   ],
   "source": [
    "%%time\n",
    "\n",
    "### create molecule object:\n",
    "species = torch.as_tensor([[8,6,1,1]], dtype=torch.int64, device=device)\n",
    "\n",
    "coordinates = torch.tensor([\n",
    "                            [\n",
    "                               [0.00,    0.00,    0.00],\n",
    "                               [1.22,    0.00,    0.00],\n",
    "                               [1.82,    0.94,    0.00],\n",
    "                               [1.82,   -0.94,    0.00]\n",
    "                            ]\n",
    "                            ], device=device)\n",
    "\n",
    "print('Coordinates shape', coordinates.shape)\n",
    "print('Species shape', species.shape)\n",
    "const = Constants().to(device)\n",
    "\n",
    "elements = [0]+sorted(set(species.reshape(-1).tolist()))\n",
    "\n",
    "seqm_parameters = {\n",
    "                   'method' : 'AM1',  # AM1, MNDO, PM#\n",
    "                   'scf_eps' : 1.0e-6,  # unit eV, change of electric energy, as nuclear energy doesnt' change during SCF\n",
    "                   'scf_converger' : [2,0.0], # converger used for scf loop\n",
    "                                         # [0, 0.1], [0, alpha] constant mixing, P = alpha*P + (1.0-alpha)*Pnew\n",
    "                                         # [1], adaptive mixing\n",
    "                                         # [2], adaptive mixing, then pulay\n",
    "                   'sp2' : [False, 1.0e-5],  # whether to use sp2 algorithm in scf loop,\n",
    "                                            #[True, eps] or [False], eps for SP2 conve criteria\n",
    "                   'elements' : elements, #[0,1,6,8],\n",
    "                   'learned' : [], # learned parameters name list, e.g ['U_ss']\n",
    "                   #'parameter_file_dir' : '../seqm/params/', # file directory for other required parameters\n",
    "                   'pair_outer_cutoff' : 1.0e10, # consistent with the unit on coordinates\n",
    "                   'eig' : True\n",
    "                   }\n",
    "\n",
    "molecules = seqm.Molecule.Molecule(const, seqm_parameters, coordinates, species).to(device)\n",
    "\n",
    "print(molecules)"
   ]
  },
  {
   "cell_type": "code",
   "execution_count": 24,
   "metadata": {},
   "outputs": [
    {
     "name": "stdout",
     "output_type": "stream",
     "text": [
      "tore Parameter containing:\n",
      "tensor([0., 1., 0., 1., 2., 3., 4., 5., 6., 7., 0., 1., 2., 3., 4., 5., 6., 7.,\n",
      "        0.], device='cuda:0')\n",
      "qn Parameter containing:\n",
      "tensor([0., 1., 0., 2., 2., 2., 2., 2., 2., 2., 0., 3., 3., 3., 3., 3., 3., 3.,\n",
      "        0.], device='cuda:0')\n"
     ]
    }
   ],
   "source": [
    "### Create electronic structure driver:\n",
    "esdriver = Electronic_Structure(seqm_parameters).to(device)\n",
    "\n",
    "### Run esdriver on molecules:\n",
    "esdriver(molecules)"
   ]
  },
  {
   "cell_type": "code",
   "execution_count": null,
   "metadata": {},
   "outputs": [],
   "source": [
    "print()"
   ]
  },
  {
   "cell_type": "code",
   "execution_count": 9,
   "metadata": {},
   "outputs": [],
   "source": [
    "xis = torch.arange(0, 21, dtype=torch.float64, device=device)"
   ]
  },
  {
   "cell_type": "code",
   "execution_count": 7,
   "metadata": {},
   "outputs": [
    {
     "data": {
      "text/plain": [
       "21"
      ]
     },
     "execution_count": 7,
     "metadata": {},
     "output_type": "execute_result"
    }
   ],
   "source": [
    "xis.size(0)"
   ]
  },
  {
   "cell_type": "code",
   "execution_count": 3,
   "metadata": {},
   "outputs": [],
   "source": [
    "tri_idx = torch.triu_indices(int(6), int(6))\n"
   ]
  },
  {
   "cell_type": "code",
   "execution_count": 6,
   "metadata": {},
   "outputs": [],
   "source": [
    "xis_tri = torch.zeros((6, 6), device=device)"
   ]
  },
  {
   "cell_type": "code",
   "execution_count": 4,
   "metadata": {},
   "outputs": [
    {
     "data": {
      "text/plain": [
       "tensor([[0, 0, 0, 0, 0, 0, 1, 1, 1, 1, 1, 2, 2, 2, 2, 3, 3, 3, 4, 4, 5],\n",
       "        [0, 1, 2, 3, 4, 5, 1, 2, 3, 4, 5, 2, 3, 4, 5, 3, 4, 5, 4, 5, 5]])"
      ]
     },
     "execution_count": 4,
     "metadata": {},
     "output_type": "execute_result"
    }
   ],
   "source": [
    "tri_idx"
   ]
  },
  {
   "cell_type": "code",
   "execution_count": 17,
   "metadata": {},
   "outputs": [],
   "source": [
    "xis_tri = torch.zeros((6, 6), device=device)\n"
   ]
  },
  {
   "cell_type": "code",
   "execution_count": 10,
   "metadata": {},
   "outputs": [],
   "source": [
    "xis_tri[tri_idx[0], tri_idx[1]] = xis"
   ]
  },
  {
   "cell_type": "code",
   "execution_count": 13,
   "metadata": {},
   "outputs": [
    {
     "data": {
      "text/plain": [
       "torch.Size([2, 21])"
      ]
     },
     "execution_count": 13,
     "metadata": {},
     "output_type": "execute_result"
    }
   ],
   "source": [
    "tri_idx.shape"
   ]
  },
  {
   "cell_type": "code",
   "execution_count": 11,
   "metadata": {},
   "outputs": [
    {
     "data": {
      "text/plain": [
       "tensor([[ 0.,  1.,  2.,  3.,  4.,  5.],\n",
       "        [ 0.,  6.,  7.,  8.,  9., 10.],\n",
       "        [ 0.,  0., 11., 12., 13., 14.],\n",
       "        [ 0.,  0.,  0., 15., 16., 17.],\n",
       "        [ 0.,  0.,  0.,  0., 18., 19.],\n",
       "        [ 0.,  0.,  0.,  0.,  0., 20.]], device='cuda:0')"
      ]
     },
     "execution_count": 11,
     "metadata": {},
     "output_type": "execute_result"
    }
   ],
   "source": [
    "xis_tri"
   ]
  },
  {
   "cell_type": "code",
   "execution_count": 18,
   "metadata": {},
   "outputs": [],
   "source": [
    " xis_full = xis_tri + xis_tri.T - torch.diag(torch.diag(xis_tri))"
   ]
  },
  {
   "cell_type": "code",
   "execution_count": 24,
   "metadata": {},
   "outputs": [
    {
     "data": {
      "text/plain": [
       "torch.Size([6, 6])"
      ]
     },
     "execution_count": 24,
     "metadata": {},
     "output_type": "execute_result"
    }
   ],
   "source": [
    " xis_full.shape"
   ]
  },
  {
   "cell_type": "code",
   "execution_count": 19,
   "metadata": {},
   "outputs": [
    {
     "data": {
      "text/plain": [
       "tensor([[True, True, True, True, True, True],\n",
       "        [True, True, True, True, True, True],\n",
       "        [True, True, True, True, True, True],\n",
       "        [True, True, True, True, True, True],\n",
       "        [True, True, True, True, True, True],\n",
       "        [True, True, True, True, True, True]], device='cuda:0')"
      ]
     },
     "execution_count": 19,
     "metadata": {},
     "output_type": "execute_result"
    }
   ],
   "source": [
    " xis_full == xis_full.T"
   ]
  },
  {
   "cell_type": "code",
   "execution_count": 31,
   "metadata": {},
   "outputs": [],
   "source": [
    "from seqm.seqm_functions.pack import unpack"
   ]
  },
  {
   "cell_type": "code",
   "execution_count": null,
   "metadata": {},
   "outputs": [],
   "source": [
    "pack.packone()"
   ]
  },
  {
   "cell_type": "code",
   "execution_count": 27,
   "metadata": {},
   "outputs": [],
   "source": [
    "P = pack.unpackone(xis_full, 1, 2, 12)"
   ]
  },
  {
   "cell_type": "code",
   "execution_count": 28,
   "metadata": {},
   "outputs": [
    {
     "data": {
      "text/plain": [
       "tensor([[ 0.,  1.,  0.,  0.,  0.,  2.,  0.,  0.,  0.,  0.,  0.,  0.],\n",
       "        [ 1.,  6.,  0.,  0.,  0.,  7.,  0.,  0.,  0.,  0.,  0.,  0.],\n",
       "        [ 0.,  0.,  0.,  0.,  0.,  0.,  0.,  0.,  0.,  0.,  0.,  0.],\n",
       "        [ 0.,  0.,  0.,  0.,  0.,  0.,  0.,  0.,  0.,  0.,  0.,  0.],\n",
       "        [ 0.,  0.,  0.,  0.,  0.,  0.,  0.,  0.,  0.,  0.,  0.,  0.],\n",
       "        [ 2.,  7.,  0.,  0.,  0., 11.,  0.,  0.,  0.,  0.,  0.,  0.],\n",
       "        [ 0.,  0.,  0.,  0.,  0.,  0.,  0.,  0.,  0.,  0.,  0.,  0.],\n",
       "        [ 0.,  0.,  0.,  0.,  0.,  0.,  0.,  0.,  0.,  0.,  0.,  0.],\n",
       "        [ 0.,  0.,  0.,  0.,  0.,  0.,  0.,  0.,  0.,  0.,  0.,  0.],\n",
       "        [ 0.,  0.,  0.,  0.,  0.,  0.,  0.,  0.,  0.,  0.,  0.,  0.],\n",
       "        [ 0.,  0.,  0.,  0.,  0.,  0.,  0.,  0.,  0.,  0.,  0.,  0.],\n",
       "        [ 0.,  0.,  0.,  0.,  0.,  0.,  0.,  0.,  0.,  0.,  0.,  0.]],\n",
       "       device='cuda:0')"
      ]
     },
     "execution_count": 28,
     "metadata": {},
     "output_type": "execute_result"
    }
   ],
   "source": [
    "P"
   ]
  },
  {
   "cell_type": "code",
   "execution_count": 30,
   "metadata": {},
   "outputs": [
    {
     "data": {
      "text/plain": [
       "torch.Size([12, 12])"
      ]
     },
     "execution_count": 30,
     "metadata": {},
     "output_type": "execute_result"
    }
   ],
   "source": [
    "P.shape"
   ]
  },
  {
   "cell_type": "code",
   "execution_count": 117,
   "metadata": {},
   "outputs": [],
   "source": [
    "M = torch.tensor([[[    -0.00000,      1.47817,     -0.00000,     -0.00000,     -0.00000,      0.00000,      0.00000,      0.00000,     -0.00000,      0.00000,      0.00000,      0.00000],\n",
    "         [     1.47817,     -0.00000,      0.00000,      2.92233,     -2.74748,      0.00000,      0.00000,      0.00000,     -2.74748,      0.00000,      0.00000,      0.00000],\n",
    "         [    -0.00000,      0.00000,     -0.00000,     -0.00000,      0.00000,      0.00000,      0.00000,      0.00000,      0.00000,      0.00000,      0.00000,      0.00000],\n",
    "         [    -0.00000,      2.92233,     -0.00000,     -0.00000,      0.00000,      0.00000,      0.00000,      0.00000,      0.00000,      0.00000,      0.00000,      0.00000],\n",
    "         [    -0.00000,     -2.74748,      0.00000,      0.00000,      0.00000,      0.00000,      0.00000,      0.00000,      0.00000,      0.00000,      0.00000,      0.00000],\n",
    "         [     0.00000,      0.00000,      0.00000,      0.00000,      0.00000,      0.00000,      0.00000,      0.00000,      0.00000,      0.00000,      0.00000,      0.00000],\n",
    "         [     0.00000,      0.00000,      0.00000,      0.00000,      0.00000,      0.00000,      0.00000,      0.00000,      0.00000,      0.00000,      0.00000,      0.00000],\n",
    "         [     0.00000,      0.00000,      0.00000,      0.00000,      0.00000,      0.00000,      0.00000,      0.00000,      0.00000,      0.00000,      0.00000,      0.00000],\n",
    "         [    -0.00000,     -2.74748,      0.00000,      0.00000,      0.00000,      0.00000,      0.00000,      0.00000,     -0.00000,      0.00000,      0.00000,      0.00000],\n",
    "         [     0.00000,      0.00000,      0.00000,      0.00000,      0.00000,      0.00000,      0.00000,      0.00000,      0.00000,      0.00000,      0.00000,      0.00000],\n",
    "         [     0.00000,      0.00000,      0.00000,      0.00000,      0.00000,      0.00000,      0.00000,      0.00000,      0.00000,      0.00000,      0.00000,      0.00000],\n",
    "         [     0.00000,      0.00000,      0.00000,      0.00000,      0.00000,      0.00000,      0.00000,      0.00000,      0.00000,      0.00000,      0.00000,      0.00000]]])"
   ]
  },
  {
   "cell_type": "code",
   "execution_count": 119,
   "metadata": {},
   "outputs": [
    {
     "data": {
      "text/plain": [
       "torch.Size([1, 12, 12])"
      ]
     },
     "execution_count": 119,
     "metadata": {},
     "output_type": "execute_result"
    }
   ],
   "source": [
    "M.shape"
   ]
  },
  {
   "cell_type": "code",
   "execution_count": 121,
   "metadata": {},
   "outputs": [],
   "source": [
    "nHeavy = torch.tensor([1])\n",
    "nHydro = torch.tensor([2])"
   ]
  },
  {
   "cell_type": "code",
   "execution_count": 122,
   "metadata": {},
   "outputs": [],
   "source": [
    "P = pack.pack(M, nHeavy, nHydro)"
   ]
  },
  {
   "cell_type": "code",
   "execution_count": 123,
   "metadata": {},
   "outputs": [
    {
     "data": {
      "text/plain": [
       "tensor([[[-0.00000,  1.47817, -0.00000, -0.00000, -0.00000, -0.00000],\n",
       "         [ 1.47817, -0.00000,  0.00000,  2.92233, -2.74748, -2.74748],\n",
       "         [-0.00000,  0.00000, -0.00000, -0.00000,  0.00000,  0.00000],\n",
       "         [-0.00000,  2.92233, -0.00000, -0.00000,  0.00000,  0.00000],\n",
       "         [-0.00000, -2.74748,  0.00000,  0.00000,  0.00000,  0.00000],\n",
       "         [-0.00000, -2.74748,  0.00000,  0.00000,  0.00000, -0.00000]]])"
      ]
     },
     "execution_count": 123,
     "metadata": {},
     "output_type": "execute_result"
    }
   ],
   "source": [
    "P"
   ]
  },
  {
   "cell_type": "code",
   "execution_count": 45,
   "metadata": {},
   "outputs": [
    {
     "name": "stdout",
     "output_type": "stream",
     "text": [
      "tensor([ 0.0000,  1.4780,  0.0000, -0.0000,  0.0000,  0.0000, -0.0000,  2.9226,\n",
      "        -0.0000,  0.0000, -0.0000, -2.7474,  0.0000,  0.0000,  0.0000,  0.0000,\n",
      "        -2.7474,  0.0000,  0.0000, -0.0000,  0.0000])\n"
     ]
    }
   ],
   "source": [
    "values = [\n",
    "    0.00000, 1.47797, 0.00000, -0.00000, 0.00000, 0.00000, -0.00000, 2.92263,\n",
    "    -0.00000, 0.00000, -0.00000, -2.74742, 0.00000, 0.00000, 0.00000, 0.00000,\n",
    "    -2.74742, 0.00000, 0.00000, -0.00000, 0.00000\n",
    "]\n",
    "\n",
    "tensor = torch.tensor(values)\n",
    "\n",
    "print(tensor)"
   ]
  },
  {
   "cell_type": "code",
   "execution_count": 60,
   "metadata": {},
   "outputs": [
    {
     "data": {
      "text/plain": [
       "[0.0,\n",
       " 1.47797,\n",
       " 0.0,\n",
       " -0.0,\n",
       " 0.0,\n",
       " 0.0,\n",
       " -0.0,\n",
       " 2.92263,\n",
       " -0.0,\n",
       " 0.0,\n",
       " -0.0,\n",
       " -2.74742,\n",
       " 0.0,\n",
       " 0.0,\n",
       " 0.0,\n",
       " 0.0,\n",
       " -2.74742,\n",
       " 0.0,\n",
       " 0.0,\n",
       " -0.0,\n",
       " 0.0]"
      ]
     },
     "execution_count": 60,
     "metadata": {},
     "output_type": "execute_result"
    }
   ],
   "source": [
    "values"
   ]
  },
  {
   "cell_type": "code",
   "execution_count": 98,
   "metadata": {},
   "outputs": [
    {
     "name": "stdout",
     "output_type": "stream",
     "text": [
      "j 0\n",
      "j 0\n",
      "j 1\n",
      "j 0\n",
      "j 1\n",
      "j 2\n",
      "j 0\n",
      "j 1\n",
      "j 2\n",
      "j 3\n",
      "j 0\n",
      "j 1\n",
      "j 2\n",
      "j 3\n",
      "j 4\n"
     ]
    }
   ],
   "source": [
    "# tri_idx = torch.triu_indices(int(6), int(6), offset=0)\n",
    "eta = torch.zeros((6, 6), device='cpu') \n",
    "\n",
    "l = 0\n",
    "for i in range(0, 6):\n",
    "    for j in range(i):\n",
    "        l += 1\n",
    "        print('j', j)\n",
    "        eta[i,j] += values[l-1]\n",
    "        eta[j,i] += values[l-1]\n",
    "    l += 1 \n",
    "    eta[i,i] += values[l-1]\n",
    "# l = 0       \n",
    "# for i in range(0, 6):      \n",
    "        \n",
    "#         \n",
    "#xis_tri[tri_idx[0], tri_idx[1]] = tensor"
   ]
  },
  {
   "cell_type": "code",
   "execution_count": 99,
   "metadata": {},
   "outputs": [
    {
     "data": {
      "text/plain": [
       "tensor([[ 0.0000,  1.4780,  0.0000,  0.0000,  0.0000,  0.0000],\n",
       "        [ 1.4780,  0.0000,  0.0000,  2.9226, -2.7474, -2.7474],\n",
       "        [ 0.0000,  0.0000,  0.0000,  0.0000,  0.0000,  0.0000],\n",
       "        [ 0.0000,  2.9226,  0.0000,  0.0000,  0.0000,  0.0000],\n",
       "        [ 0.0000, -2.7474,  0.0000,  0.0000,  0.0000,  0.0000],\n",
       "        [ 0.0000, -2.7474,  0.0000,  0.0000,  0.0000,  0.0000]])"
      ]
     },
     "execution_count": 99,
     "metadata": {},
     "output_type": "execute_result"
    }
   ],
   "source": [
    "eta"
   ]
  },
  {
   "cell_type": "code",
   "execution_count": 309,
   "metadata": {},
   "outputs": [],
   "source": [
    " sym = torch.tensor([[0.00000,    1.47797,   -0.00000,   -0.00000,   -0.00000,   0.00000],   \n",
    "                    [1.47797,    0.00000,    0.00000,   2.92263,   -2.74742,   -2.74742],   \n",
    "                    [-0.00000,    0.00000,    0.00000,   -0.00000,    0.00000,    0.00000],   \n",
    "                    [-0.00000,    2.92263,   -0.00000,    0.00000,    0.00000,    0.00000],   \n",
    "                    [-0.00000,   -2.74742,    0.00000,    0.00000,    0.00000,   -0.00000],   \n",
    "                    [0.00000,   -2.74742,    0.00000,    0.00000 ,  -0.00000,    0.00000]])"
   ]
  },
  {
   "cell_type": "code",
   "execution_count": null,
   "metadata": {},
   "outputs": [],
   "source": []
  },
  {
   "cell_type": "code",
   "execution_count": 310,
   "metadata": {},
   "outputs": [],
   "source": [
    "antisym = torch.tensor([[0.00000,   -0.19859,   -0.00000,    0.00000,    0.00000,    0.00000],   \n",
    "                        [3.15453,    0.00000,    0.00000,    6.19148,   -5.49484,   -5.49484],   \n",
    "                        [-0.00000,   -0.00000,    0.00000,   -0.00000,    0.00000,    0.00000],   \n",
    "                        [-0.00000,   -0.34623,   -0.00000,    0.00000,    0.00000,    0.00000],   \n",
    "                        [-0.00000,    0.00000,   -0.00000,   -0.00000,    0.00000,    0.00000],   \n",
    "                        [0.00000,    0.00000,   -0.00000,    0.00000,   -0.00000,    0.00000]])"
   ]
  },
  {
   "cell_type": "code",
   "execution_count": 311,
   "metadata": {},
   "outputs": [
    {
     "data": {
      "text/plain": [
       "tensor([[ 0.00000, -1.67656,  0.00000,  0.00000,  0.00000,  0.00000],\n",
       "        [ 1.67656,  0.00000,  0.00000,  3.26885, -2.74742, -2.74742],\n",
       "        [ 0.00000, -0.00000,  0.00000,  0.00000,  0.00000,  0.00000],\n",
       "        [ 0.00000, -3.26886,  0.00000,  0.00000,  0.00000,  0.00000],\n",
       "        [ 0.00000,  2.74742, -0.00000, -0.00000,  0.00000,  0.00000],\n",
       "        [ 0.00000,  2.74742, -0.00000,  0.00000,  0.00000,  0.00000]])"
      ]
     },
     "execution_count": 311,
     "metadata": {},
     "output_type": "execute_result"
    }
   ],
   "source": [
    "antisym - sym"
   ]
  },
  {
   "cell_type": "code",
   "execution_count": 325,
   "metadata": {},
   "outputs": [],
   "source": [
    "ar = torch.tensor([0.00000, 1.47797, 0.00000, -0.00000, 0.00000, 0.00000, -0.00000   ,2.92263   ,-0.00000   ,0.00000   ,-0.00000   ,-2.74742   , 0.00000   , 0.00000    ,0.00000    ,0.00000   ,-2.74742    ,0.00000    ,0.00000   ,-0.00000   ,0.00000])"
   ]
  },
  {
   "cell_type": "code",
   "execution_count": 344,
   "metadata": {},
   "outputs": [
    {
     "data": {
      "text/plain": [
       "torch.Size([21])"
      ]
     },
     "execution_count": 344,
     "metadata": {},
     "output_type": "execute_result"
    }
   ],
   "source": [
    "ar.size()"
   ]
  },
  {
   "cell_type": "code",
   "execution_count": 345,
   "metadata": {},
   "outputs": [],
   "source": [
    "matrix = torch.zeros(6,6)\n",
    "\n",
    "matrix2 = torch.zeros(6,6)"
   ]
  },
  {
   "cell_type": "code",
   "execution_count": 346,
   "metadata": {},
   "outputs": [],
   "source": [
    "l = 0\n",
    "for i in range(0, 6): # TODO\" vectorize\n",
    "    for j in range(0,i):\n",
    "        l += 1\n",
    "        matrix[i,j] += ar[l-1]\n",
    "        matrix[j,i] += ar[l-1]\n",
    "    l += 1 \n",
    "    matrix[i,j] += ar[l-1]"
   ]
  },
  {
   "cell_type": "code",
   "execution_count": 332,
   "metadata": {},
   "outputs": [
    {
     "name": "stdout",
     "output_type": "stream",
     "text": [
      "tensor([[ 0.00000,  1.47797,  0.00000,  0.00000,  0.00000,  0.00000],\n",
      "        [ 1.47797,  0.00000,  0.00000,  2.92263, -2.74742, -2.74742],\n",
      "        [ 0.00000,  0.00000,  0.00000,  0.00000,  0.00000,  0.00000],\n",
      "        [ 0.00000,  2.92263,  0.00000,  0.00000,  0.00000,  0.00000],\n",
      "        [ 0.00000, -2.74742,  0.00000,  0.00000,  0.00000,  0.00000],\n",
      "        [ 0.00000, -2.74742,  0.00000,  0.00000,  0.00000,  0.00000]])\n"
     ]
    }
   ],
   "source": [
    "print(matrix)"
   ]
  },
  {
   "cell_type": "code",
   "execution_count": 333,
   "metadata": {},
   "outputs": [],
   "source": [
    "l = 0\n",
    "for i in range(0, 6): # TODO\" vectorize\n",
    "    for j in range(0,i):\n",
    "        l += 1\n",
    "        matrix2[i,j] += ar[l-1]\n",
    "        matrix2[j,i] -= ar[l-1]\n",
    "    l += 1 "
   ]
  },
  {
   "cell_type": "code",
   "execution_count": 334,
   "metadata": {},
   "outputs": [
    {
     "data": {
      "text/plain": [
       "tensor([[ 0.00000, -1.47797,  0.00000,  0.00000,  0.00000,  0.00000],\n",
       "        [ 1.47797,  0.00000,  0.00000, -2.92263,  2.74742,  2.74742],\n",
       "        [ 0.00000,  0.00000,  0.00000,  0.00000,  0.00000,  0.00000],\n",
       "        [ 0.00000,  2.92263,  0.00000,  0.00000,  0.00000,  0.00000],\n",
       "        [ 0.00000, -2.74742,  0.00000,  0.00000,  0.00000,  0.00000],\n",
       "        [ 0.00000, -2.74742,  0.00000,  0.00000,  0.00000,  0.00000]])"
      ]
     },
     "execution_count": 334,
     "metadata": {},
     "output_type": "execute_result"
    }
   ],
   "source": [
    "matrix2"
   ]
  },
  {
   "cell_type": "code",
   "execution_count": 336,
   "metadata": {},
   "outputs": [
    {
     "data": {
      "text/plain": [
       "tensor([[ 0.00000,  0.00000,  0.00000,  0.00000,  0.00000,  0.00000],\n",
       "        [ 2.95594,  0.00000,  0.00000,  0.00000,  0.00000,  0.00000],\n",
       "        [ 0.00000,  0.00000,  0.00000,  0.00000,  0.00000,  0.00000],\n",
       "        [ 0.00000,  5.84526,  0.00000,  0.00000,  0.00000,  0.00000],\n",
       "        [ 0.00000, -5.49484,  0.00000,  0.00000,  0.00000,  0.00000],\n",
       "        [ 0.00000, -5.49484,  0.00000,  0.00000,  0.00000,  0.00000]])"
      ]
     },
     "execution_count": 336,
     "metadata": {},
     "output_type": "execute_result"
    }
   ],
   "source": [
    "matrix + matrix2"
   ]
  },
  {
   "cell_type": "code",
   "execution_count": null,
   "metadata": {},
   "outputs": [],
   "source": []
  },
  {
   "cell_type": "code",
   "execution_count": 340,
   "metadata": {},
   "outputs": [
    {
     "name": "stdout",
     "output_type": "stream",
     "text": [
      "tensor([ 0.00000,  0.83828,  0.00000, -0.00000, -0.00000,  0.00000, -0.00000, -1.63443,  0.00000,  0.00000, -0.00000,  1.37371, -0.00000, -0.00000,  0.00000,  0.00000,  1.37371, -0.00000, -0.00000,\n",
      "        -0.00000,  0.00000])\n"
     ]
    }
   ],
   "source": [
    "values = [0.00000, 0.83828, 0.00000, -0.00000, -0.00000, 0.00000, -0.00000, -1.63443, 0.00000, 0.00000, -0.00000,\n",
    "          1.37371, -0.00000, -0.00000, 0.00000, 0.00000, 1.37371, -0.00000, -0.00000, -0.00000, 0.00000]\n",
    "\n",
    "# Convert the list to a Torch tensor\n",
    "tensor = torch.tensor(values)\n",
    "\n",
    "print(tensor)\n",
    "\n",
    "\n",
    "\n",
    "\n"
   ]
  },
  {
   "cell_type": "code",
   "execution_count": 341,
   "metadata": {},
   "outputs": [
    {
     "data": {
      "text/plain": [
       "torch.Size([21])"
      ]
     },
     "execution_count": 341,
     "metadata": {},
     "output_type": "execute_result"
    }
   ],
   "source": [
    "tensor.size()"
   ]
  },
  {
   "cell_type": "code",
   "execution_count": 347,
   "metadata": {},
   "outputs": [],
   "source": [
    "l=0\n",
    "matrix3 = torch.zeros(6,6)\n",
    "for i in range(0, 6): # TODO\" vectorize\n",
    "    for j in range(0,i):\n",
    "        l += 1\n",
    "        matrix3[i,j] += tensor[l-1]\n",
    "        matrix3[j,i] -= tensor[l-1]\n",
    "    l += 1 \n"
   ]
  },
  {
   "cell_type": "code",
   "execution_count": 348,
   "metadata": {},
   "outputs": [
    {
     "data": {
      "text/plain": [
       "tensor([[ 0.00000, -0.83828,  0.00000,  0.00000,  0.00000,  0.00000],\n",
       "        [ 0.83828,  0.00000,  0.00000,  1.63443, -1.37371, -1.37371],\n",
       "        [ 0.00000,  0.00000,  0.00000,  0.00000,  0.00000,  0.00000],\n",
       "        [ 0.00000, -1.63443,  0.00000,  0.00000,  0.00000,  0.00000],\n",
       "        [ 0.00000,  1.37371,  0.00000,  0.00000,  0.00000,  0.00000],\n",
       "        [ 0.00000,  1.37371,  0.00000,  0.00000,  0.00000,  0.00000]])"
      ]
     },
     "execution_count": 348,
     "metadata": {},
     "output_type": "execute_result"
    }
   ],
   "source": [
    "matrix3"
   ]
  },
  {
   "cell_type": "code",
   "execution_count": 365,
   "metadata": {},
   "outputs": [
    {
     "name": "stdout",
     "output_type": "stream",
     "text": [
      "tensor([[ 0., -1., -2.],\n",
      "        [ 1.,  0., -1.],\n",
      "        [ 2.,  1.,  0.]])\n"
     ]
    }
   ],
   "source": [
    "# Input tensor\n",
    "tensor = torch.tensor([[1, 2, 3],\n",
    "                       [4, 5, 6],\n",
    "                       [7, 8, 9]])\n",
    "\n",
    "# Antisymmetrize the tensor along dimensions 0 and 1\n",
    "antisym_tensor = 0.5 * (torch.einsum('ij->ij', tensor) - torch.einsum('ji->ij', tensor))\n",
    "\n",
    "print(antisym_tensor)"
   ]
  },
  {
   "cell_type": "code",
   "execution_count": 361,
   "metadata": {},
   "outputs": [],
   "source": [
    "ind = torch.tril_indices(3, 3)"
   ]
  },
  {
   "cell_type": "code",
   "execution_count": 362,
   "metadata": {},
   "outputs": [
    {
     "data": {
      "text/plain": [
       "tensor([[0, 1, 1, 2, 2, 2],\n",
       "        [0, 0, 1, 0, 1, 2]])"
      ]
     },
     "execution_count": 362,
     "metadata": {},
     "output_type": "execute_result"
    }
   ],
   "source": [
    "ind"
   ]
  },
  {
   "cell_type": "code",
   "execution_count": 366,
   "metadata": {},
   "outputs": [
    {
     "data": {
      "text/plain": [
       "tensor([[1, 2, 3],\n",
       "        [4, 5, 6],\n",
       "        [7, 8, 9]])"
      ]
     },
     "execution_count": 366,
     "metadata": {},
     "output_type": "execute_result"
    }
   ],
   "source": [
    "tensor"
   ]
  },
  {
   "cell_type": "code",
   "execution_count": 367,
   "metadata": {},
   "outputs": [],
   "source": [
    "tensor[ind[0]] = 0"
   ]
  },
  {
   "cell_type": "code",
   "execution_count": 368,
   "metadata": {},
   "outputs": [
    {
     "data": {
      "text/plain": [
       "tensor([[0, 0, 0],\n",
       "        [0, 0, 0],\n",
       "        [0, 0, 0]])"
      ]
     },
     "execution_count": 368,
     "metadata": {},
     "output_type": "execute_result"
    }
   ],
   "source": [
    "tensor"
   ]
  },
  {
   "cell_type": "code",
   "execution_count": 355,
   "metadata": {},
   "outputs": [
    {
     "data": {
      "text/plain": [
       "tensor([[-1, -2, -3],\n",
       "        [-4, -5, -6],\n",
       "        [-7, -8, -9]])"
      ]
     },
     "execution_count": 355,
     "metadata": {},
     "output_type": "execute_result"
    }
   ],
   "source": [
    "tensor"
   ]
  },
  {
   "cell_type": "code",
   "execution_count": 371,
   "metadata": {},
   "outputs": [
    {
     "name": "stdout",
     "output_type": "stream",
     "text": [
      "tensor([[-1,  2,  3],\n",
      "        [-4, -5,  6],\n",
      "        [-7, -8, -9]])\n"
     ]
    }
   ],
   "source": [
    "tensor = torch.tensor([[1, 2, 3],\n",
    "                       [4, 5, 6],\n",
    "                       [7, 8, 9]])\n",
    "\n",
    "# Get the lower triangle indices\n",
    "rows, cols = torch.tril_indices(tensor.shape[0], tensor.shape[1], offset=0)\n",
    "\n",
    "# Multiply the lower triangle elements by -1\n",
    "tensor[rows, cols] *= -1\n",
    "\n",
    "print(tensor)"
   ]
  },
  {
   "cell_type": "code",
   "execution_count": 372,
   "metadata": {},
   "outputs": [
    {
     "name": "stdout",
     "output_type": "stream",
     "text": [
      "tensor([[ 1,  2,  3],\n",
      "        [-4,  5,  6],\n",
      "        [-7, -8,  9]])\n"
     ]
    }
   ],
   "source": [
    "tensor = torch.tensor([[1, 2, 3],\n",
    "                       [4, 5, 6],\n",
    "                       [7, 8, 9]])\n",
    "\n",
    "# Get the lower triangle indices\n",
    "rows, cols = torch.tril_indices(tensor.shape[0], tensor.shape[1])\n",
    "\n",
    "# Multiply the lower triangle elements by -1\n",
    "tensor[rows, cols] *= -1\n",
    "\n",
    "# Add the diagonal elements back\n",
    "tensor[torch.eye(tensor.shape[0]).bool()] *= -1\n",
    "\n",
    "print(tensor)"
   ]
  },
  {
   "cell_type": "code",
   "execution_count": 373,
   "metadata": {},
   "outputs": [
    {
     "name": "stdout",
     "output_type": "stream",
     "text": [
      "Original Matrix:\n",
      "tensor([[1., 2., 3.],\n",
      "        [4., 5., 6.],\n",
      "        [7., 8., 9.]], dtype=torch.float32)\n",
      "Symmetric Part:\n",
      "tensor([[1., 3., 5.],\n",
      "        [3., 5., 7.],\n",
      "        [5., 7., 9.]], dtype=torch.float32)\n",
      "Antisymmetric Part:\n",
      "tensor([[ 0., -1., -2.],\n",
      "        [ 1.,  0., -1.],\n",
      "        [ 2.,  1.,  0.]], dtype=torch.float32)\n"
     ]
    }
   ],
   "source": [
    "matrix = torch.tensor([[1, 2, 3],\n",
    "                       [4, 5, 6],\n",
    "                       [7, 8, 9]], dtype=torch.float32)\n",
    "\n",
    "# Compute the symmetric part\n",
    "symmetric = 0.5 * (matrix + matrix.t())\n",
    "\n",
    "# Compute the antisymmetric part\n",
    "antisymmetric = 0.5 * (matrix - matrix.t())\n",
    "\n",
    "print(\"Original Matrix:\")\n",
    "print(matrix)\n",
    "\n",
    "print(\"Symmetric Part:\")\n",
    "print(symmetric)\n",
    "\n",
    "print(\"Antisymmetric Part:\")\n",
    "print(antisymmetric)"
   ]
  },
  {
   "cell_type": "code",
   "execution_count": 374,
   "metadata": {},
   "outputs": [
    {
     "name": "stdout",
     "output_type": "stream",
     "text": [
      "tensor([[0, 2, 3],\n",
      "        [4, 0, 6],\n",
      "        [7, 8, 0]])\n"
     ]
    }
   ],
   "source": [
    "tensor = torch.tensor([[1, 2, 3],\n",
    "                       [4, 5, 6],\n",
    "                       [7, 8, 9]])\n",
    "\n",
    "# Set the diagonal elements to 0\n",
    "tensor.diagonal().fill_(0)\n",
    "\n",
    "print(tensor)"
   ]
  },
  {
   "cell_type": "code",
   "execution_count": 375,
   "metadata": {},
   "outputs": [
    {
     "name": "stdout",
     "output_type": "stream",
     "text": [
      "tensor([[1., 3., 5.],\n",
      "        [3., 5., 7.],\n",
      "        [5., 7., 9.]])\n"
     ]
    }
   ],
   "source": [
    "import torch\n",
    "\n",
    "# Example matrix\n",
    "M = torch.tensor([[1, 2, 3],\n",
    "                  [4, 5, 6],\n",
    "                  [7, 8, 9]])\n",
    "\n",
    "# Calculate the symmetric matrix\n",
    "symmetric_matrix = 0.5 * (M + M.T)\n",
    "\n",
    "print(symmetric_matrix)"
   ]
  },
  {
   "cell_type": "code",
   "execution_count": null,
   "metadata": {},
   "outputs": [],
   "source": []
  }
 ],
 "metadata": {
  "kernelspec": {
   "display_name": "Python 3 (ipykernel)",
   "language": "python",
   "name": "python3"
  },
  "language_info": {
   "codemirror_mode": {
    "name": "ipython",
    "version": 3
   },
   "file_extension": ".py",
   "mimetype": "text/x-python",
   "name": "python",
   "nbconvert_exporter": "python",
   "pygments_lexer": "ipython3",
   "version": "3.10.10"
  },
  "orig_nbformat": 4
 },
 "nbformat": 4,
 "nbformat_minor": 2
}
