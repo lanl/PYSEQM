{
 "cells": [
  {
   "cell_type": "code",
   "execution_count": 1,
   "metadata": {},
   "outputs": [],
   "source": [
    "import numpy as np\n",
    "import torch\n",
    "import scipy"
   ]
  },
  {
   "cell_type": "code",
   "execution_count": 8,
   "metadata": {},
   "outputs": [
    {
     "ename": "ModuleNotFoundError",
     "evalue": "No module named 'torch'",
     "output_type": "error",
     "traceback": [
      "\u001b[0;31m---------------------------------------------------------------------------\u001b[0m",
      "\u001b[0;31mModuleNotFoundError\u001b[0m                       Traceback (most recent call last)",
      "Cell \u001b[0;32mIn[8], line 1\u001b[0m\n\u001b[0;32m----> 1\u001b[0m \u001b[39mimport\u001b[39;00m \u001b[39mtorch\u001b[39;00m\n\u001b[1;32m      3\u001b[0m \u001b[39m# Create a random non-symmetric 3x3 matrix\u001b[39;00m\n\u001b[1;32m      4\u001b[0m matrix \u001b[39m=\u001b[39m torch\u001b[39m.\u001b[39mrandn(\u001b[39m3\u001b[39m, \u001b[39m3\u001b[39m)\n",
      "\u001b[0;31mModuleNotFoundError\u001b[0m: No module named 'torch'"
     ]
    }
   ],
   "source": [
    "import torch\n",
    "\n",
    "# Create a random non-symmetric 3x3 matrix\n",
    "matrix = torch.randn(3, 3)\n",
    "\n",
    "print(matrix)"
   ]
  },
  {
   "cell_type": "code",
   "execution_count": 3,
   "metadata": {},
   "outputs": [],
   "source": [
    "r_evals, r_vec  = torch.linalg.eig(matrix)"
   ]
  },
  {
   "cell_type": "code",
   "execution_count": 6,
   "metadata": {},
   "outputs": [],
   "source": [
    "r_evals = r_evals.real"
   ]
  },
  {
   "cell_type": "code",
   "execution_count": 7,
   "metadata": {},
   "outputs": [],
   "source": [
    "r_vec = r_vec.real"
   ]
  },
  {
   "cell_type": "code",
   "execution_count": 17,
   "metadata": {},
   "outputs": [
    {
     "data": {
      "text/plain": [
       "tensor([[ 0.2490,  0.9967, -0.8862],\n",
       "        [ 0.4433,  0.0478, -0.4604],\n",
       "        [ 0.8611, -0.0663,  0.0523]])"
      ]
     },
     "execution_count": 17,
     "metadata": {},
     "output_type": "execute_result"
    }
   ],
   "source": [
    "r_vec"
   ]
  },
  {
   "cell_type": "code",
   "execution_count": 18,
   "metadata": {},
   "outputs": [
    {
     "data": {
      "text/plain": [
       "tensor([-2.8666,  0.7185,  0.2705])"
      ]
     },
     "execution_count": 18,
     "metadata": {},
     "output_type": "execute_result"
    }
   ],
   "source": [
    "r_evals"
   ]
  },
  {
   "cell_type": "code",
   "execution_count": 43,
   "metadata": {},
   "outputs": [
    {
     "data": {
      "text/plain": [
       "tensor([[ 0.7268, -0.9412, -0.5543],\n",
       "        [-0.0827,  0.2500, -1.5807],\n",
       "        [-0.2431,  0.1129, -2.8544]])"
      ]
     },
     "execution_count": 43,
     "metadata": {},
     "output_type": "execute_result"
    }
   ],
   "source": [
    "r_vec @ torch.diag(r_evals) @ torch.inverse(r_vec)"
   ]
  },
  {
   "attachments": {},
   "cell_type": "markdown",
   "metadata": {},
   "source": [
    "###     LEFT EIGENVECTORS"
   ]
  },
  {
   "cell_type": "code",
   "execution_count": null,
   "metadata": {},
   "outputs": [],
   "source": [
    "# TODO: reorder eigenvalues and eigenvectors for left side "
   ]
  },
  {
   "cell_type": "code",
   "execution_count": 20,
   "metadata": {},
   "outputs": [],
   "source": [
    "l_evals, l_vec = torch.linalg.eig(matrix.T)"
   ]
  },
  {
   "cell_type": "code",
   "execution_count": 21,
   "metadata": {},
   "outputs": [],
   "source": [
    "l_evals = l_evals.real\n",
    "l_vec = l_vec.real"
   ]
  },
  {
   "cell_type": "code",
   "execution_count": 35,
   "metadata": {},
   "outputs": [
    {
     "data": {
      "text/plain": [
       "tensor([[ 0.4536,  0.0722,  0.0671],\n",
       "        [-0.8389, -0.8951, -0.0159],\n",
       "        [ 0.3008,  0.4400,  0.9976]])"
      ]
     },
     "execution_count": 35,
     "metadata": {},
     "output_type": "execute_result"
    }
   ],
   "source": [
    "l_vec"
   ]
  },
  {
   "cell_type": "code",
   "execution_count": 22,
   "metadata": {},
   "outputs": [
    {
     "data": {
      "text/plain": [
       "tensor([ 0.7185,  0.2705, -2.8666])"
      ]
     },
     "execution_count": 22,
     "metadata": {},
     "output_type": "execute_result"
    }
   ],
   "source": [
    "l_evals"
   ]
  },
  {
   "cell_type": "code",
   "execution_count": 23,
   "metadata": {},
   "outputs": [],
   "source": [
    "_, idx = torch.sort(l_evals)"
   ]
  },
  {
   "cell_type": "code",
   "execution_count": 24,
   "metadata": {},
   "outputs": [
    {
     "data": {
      "text/plain": [
       "tensor([-2.8666,  0.2705,  0.7185])"
      ]
     },
     "execution_count": 24,
     "metadata": {},
     "output_type": "execute_result"
    }
   ],
   "source": [
    "l_evals[idx]"
   ]
  },
  {
   "cell_type": "code",
   "execution_count": 28,
   "metadata": {},
   "outputs": [],
   "source": [
    "mT_rec = l_vec[:, idx] @ torch.diag(l_evals[idx]) @ torch.inverse(l_vec[:, idx])"
   ]
  },
  {
   "cell_type": "code",
   "execution_count": 29,
   "metadata": {},
   "outputs": [
    {
     "data": {
      "text/plain": [
       "tensor([[ 0.7268, -0.0827, -0.2431],\n",
       "        [-0.9412,  0.2500,  0.1129],\n",
       "        [-0.5543, -1.5807, -2.8544]])"
      ]
     },
     "execution_count": 29,
     "metadata": {},
     "output_type": "execute_result"
    }
   ],
   "source": [
    "mT_rec"
   ]
  },
  {
   "cell_type": "code",
   "execution_count": 30,
   "metadata": {},
   "outputs": [
    {
     "data": {
      "text/plain": [
       "tensor([[ 0.7268, -0.9412, -0.5543],\n",
       "        [-0.0827,  0.2500, -1.5807],\n",
       "        [-0.2431,  0.1129, -2.8544]])"
      ]
     },
     "execution_count": 30,
     "metadata": {},
     "output_type": "execute_result"
    }
   ],
   "source": [
    "mT_rec.T"
   ]
  },
  {
   "cell_type": "code",
   "execution_count": 31,
   "metadata": {},
   "outputs": [
    {
     "data": {
      "text/plain": [
       "tensor([[ 0.4393,  0.0403, -0.0690],\n",
       "        [-1.1232, -0.0030,  0.3823],\n",
       "        [ 0.7024,  0.9954, -1.0709]])"
      ]
     },
     "execution_count": 31,
     "metadata": {},
     "output_type": "execute_result"
    }
   ],
   "source": [
    "l_vec[:, idx] @ r_vec"
   ]
  },
  {
   "cell_type": "code",
   "execution_count": 33,
   "metadata": {},
   "outputs": [],
   "source": [
    "w, vl, vr = scipy.linalg.eig(matrix, left=True)"
   ]
  },
  {
   "cell_type": "code",
   "execution_count": 39,
   "metadata": {},
   "outputs": [
    {
     "data": {
      "text/plain": [
       "array([-2.8665645 +0.j,  0.71850705+0.j,  0.2704992 +0.j], dtype=complex64)"
      ]
     },
     "execution_count": 39,
     "metadata": {},
     "output_type": "execute_result"
    }
   ],
   "source": [
    "w"
   ]
  },
  {
   "cell_type": "code",
   "execution_count": 34,
   "metadata": {},
   "outputs": [
    {
     "data": {
      "text/plain": [
       "array([[ 0.06713676,  0.45360634,  0.07221775],\n",
       "       [-0.01585622, -0.8389088 , -0.89509785],\n",
       "       [ 0.9976178 ,  0.30078772,  0.43998227]], dtype=float32)"
      ]
     },
     "execution_count": 34,
     "metadata": {},
     "output_type": "execute_result"
    }
   ],
   "source": [
    "vl"
   ]
  },
  {
   "cell_type": "code",
   "execution_count": 38,
   "metadata": {},
   "outputs": [
    {
     "data": {
      "text/plain": [
       "tensor([[ 0.4536,  0.0722,  0.0671],\n",
       "        [-0.8389, -0.8951, -0.0159],\n",
       "        [ 0.3008,  0.4400,  0.9976]])"
      ]
     },
     "execution_count": 38,
     "metadata": {},
     "output_type": "execute_result"
    }
   ],
   "source": [
    "l_vec"
   ]
  },
  {
   "cell_type": "code",
   "execution_count": 36,
   "metadata": {},
   "outputs": [
    {
     "data": {
      "text/plain": [
       "array([[ 0.24895024,  0.99665254, -0.8861679 ],\n",
       "       [ 0.44334868,  0.04781595, -0.46040115],\n",
       "       [ 0.8610841 , -0.06631196,  0.05231897]], dtype=float32)"
      ]
     },
     "execution_count": 36,
     "metadata": {},
     "output_type": "execute_result"
    }
   ],
   "source": [
    "vr"
   ]
  },
  {
   "cell_type": "code",
   "execution_count": 37,
   "metadata": {},
   "outputs": [
    {
     "data": {
      "text/plain": [
       "tensor([[ 0.2490,  0.9967, -0.8862],\n",
       "        [ 0.4433,  0.0478, -0.4604],\n",
       "        [ 0.8611, -0.0663,  0.0523]])"
      ]
     },
     "execution_count": 37,
     "metadata": {},
     "output_type": "execute_result"
    }
   ],
   "source": [
    "r_vec"
   ]
  },
  {
   "cell_type": "code",
   "execution_count": 40,
   "metadata": {},
   "outputs": [
    {
     "data": {
      "text/plain": [
       "tensor([[-0.5812,  0.3241, -0.1168],\n",
       "        [ 1.7754, -0.6307,  0.3123],\n",
       "        [-3.2363,  0.1830, -0.1128]])"
      ]
     },
     "execution_count": 40,
     "metadata": {},
     "output_type": "execute_result"
    }
   ],
   "source": [
    "l_vec @ matrix @ r_vec"
   ]
  },
  {
   "cell_type": "code",
   "execution_count": 42,
   "metadata": {},
   "outputs": [
    {
     "data": {
      "text/plain": [
       "tensor([[-0.5812,  0.3241, -0.1168],\n",
       "        [ 1.7754, -0.6307,  0.3123],\n",
       "        [-3.2363,  0.1830, -0.1128]])"
      ]
     },
     "execution_count": 42,
     "metadata": {},
     "output_type": "execute_result"
    }
   ],
   "source": [
    "l_vec @ r_vec @ torch.diag(r_evals)"
   ]
  },
  {
   "cell_type": "code",
   "execution_count": 44,
   "metadata": {},
   "outputs": [
    {
     "data": {
      "text/plain": [
       "tensor([[ 0.7268, -0.9412, -0.5543],\n",
       "        [-0.0827,  0.2500, -1.5807],\n",
       "        [-0.2431,  0.1129, -2.8544]])"
      ]
     },
     "execution_count": 44,
     "metadata": {},
     "output_type": "execute_result"
    }
   ],
   "source": [
    "matrix"
   ]
  },
  {
   "cell_type": "code",
   "execution_count": 45,
   "metadata": {},
   "outputs": [
    {
     "data": {
      "text/plain": [
       "tensor([[ 0.7268, -1.8825, -1.6628],\n",
       "        [-0.0827,  0.5001, -4.7422],\n",
       "        [-0.2431,  0.2258, -8.5632]])"
      ]
     },
     "execution_count": 45,
     "metadata": {},
     "output_type": "execute_result"
    }
   ],
   "source": [
    "matrix * torch.tensor([1, 2, 3])"
   ]
  },
  {
   "cell_type": "code",
   "execution_count": 48,
   "metadata": {},
   "outputs": [
    {
     "ename": "IndexError",
     "evalue": "list index out of range",
     "output_type": "error",
     "traceback": [
      "\u001b[0;31m---------------------------------------------------------------------------\u001b[0m",
      "\u001b[0;31mIndexError\u001b[0m                                Traceback (most recent call last)",
      "Cell \u001b[0;32mIn[48], line 11\u001b[0m\n\u001b[1;32m      9\u001b[0m         orb_loc2\u001b[39m.\u001b[39mappend(\u001b[39m0\u001b[39m)\n\u001b[1;32m     10\u001b[0m     \u001b[39melse\u001b[39;00m:\n\u001b[0;32m---> 11\u001b[0m         orb_loc1\u001b[39m.\u001b[39mappend(orb_loc2[\u001b[39m-\u001b[39;49m\u001b[39m1\u001b[39;49m] \u001b[39m+\u001b[39m \u001b[39m1\u001b[39m)\n\u001b[1;32m     12\u001b[0m         orb_loc2\u001b[39m.\u001b[39mappend(orb_loc2[\u001b[39m-\u001b[39m\u001b[39m1\u001b[39m] \u001b[39m+\u001b[39m \u001b[39m4\u001b[39m \u001b[39m-\u001b[39m \u001b[39m1\u001b[39m)\n\u001b[1;32m     14\u001b[0m \u001b[39mprint\u001b[39m(\u001b[39m\"\u001b[39m\u001b[39morb_loc1:\u001b[39m\u001b[39m\"\u001b[39m, orb_loc1)\n",
      "\u001b[0;31mIndexError\u001b[0m: list index out of range"
     ]
    }
   ],
   "source": [
    "atomic_numbers = [8, 1, 1]  # Example atomic numbers for Hydrogen and Oxygen\n",
    "\n",
    "orb_loc1 = []\n",
    "orb_loc2 = []\n",
    "\n",
    "for atomic_number in atomic_numbers:\n",
    "    if atomic_number == 1:\n",
    "        orb_loc1.append(0)\n",
    "        orb_loc2.append(0)\n",
    "    else:\n",
    "        orb_loc1.append(orb_loc2[-1] + 1)\n",
    "        orb_loc2.append(orb_loc2[-1] + 4 - 1)\n",
    "\n",
    "print(\"orb_loc1:\", orb_loc1)\n",
    "print(\"orb_loc2:\", orb_loc2)"
   ]
  },
  {
   "cell_type": "code",
   "execution_count": 51,
   "metadata": {},
   "outputs": [],
   "source": [
    "pascal1 = torch.cumsum(torch.arange(0, 6), dim=0) \n",
    "pascal1 = pascal1 - 1"
   ]
  },
  {
   "cell_type": "code",
   "execution_count": 52,
   "metadata": {},
   "outputs": [
    {
     "data": {
      "text/plain": [
       "tensor([-1,  0,  2,  5,  9, 14])"
      ]
     },
     "execution_count": 52,
     "metadata": {},
     "output_type": "execute_result"
    }
   ],
   "source": [
    "pascal1"
   ]
  },
  {
   "cell_type": "code",
   "execution_count": 70,
   "metadata": {},
   "outputs": [],
   "source": []
  },
  {
   "cell_type": "code",
   "execution_count": 114,
   "metadata": {},
   "outputs": [],
   "source": [
    "from importlib import reload"
   ]
  },
  {
   "cell_type": "code",
   "execution_count": 116,
   "metadata": {},
   "outputs": [
    {
     "data": {
      "text/plain": [
       "<module 'logging' from '/scratch/soft/conda/envs/se_exc/lib/python3.10/logging/__init__.py'>"
      ]
     },
     "execution_count": 116,
     "metadata": {},
     "output_type": "execute_result"
    }
   ],
   "source": [
    "# reload module logging\n",
    "reload(logging)"
   ]
  },
  {
   "cell_type": "code",
   "execution_count": 23,
   "metadata": {},
   "outputs": [
    {
     "name": "stdout",
     "output_type": "stream",
     "text": [
      "The autoreload extension is already loaded. To reload it, use:\n",
      "  %reload_ext autoreload\n"
     ]
    }
   ],
   "source": [
    "%load_ext autoreload\n",
    "%autoreload 2\n",
    "\n",
    "import logging, sys\n",
    "logging.basicConfig(level=logging.DEBUG,\n",
    "                    force = True)\n",
    "logger = logging.getLogger()\n",
    "logger.setLevel(logging.DEBUG)\n",
    "logFormatter = logging.Formatter(fmt='%(funcName)s :: %(lineno)d :: %(levelname)s :: %(message)s')\n",
    "# consoleHandler = logging.StreamHandler()\n",
    "# consoleHandler.setLevel(logging.DEBUG)\n",
    "# consoleHandler.setFormatter(logFormatter)\n",
    "# logger.addHandler(consoleHandler)\n",
    "\n"
   ]
  },
  {
   "cell_type": "code",
   "execution_count": 52,
   "metadata": {},
   "outputs": [
    {
     "name": "stdout",
     "output_type": "stream",
     "text": [
      "This is color!\n"
     ]
    }
   ],
   "source": [
    "from colorama import init as colorama_init\n",
    "from colorama import Fore\n",
    "from colorama import Style\n",
    "\n",
    "print(f\"This is {Fore.GREEN}color{Style.RESET_ALL}!\")"
   ]
  },
  {
   "cell_type": "code",
   "execution_count": 11,
   "metadata": {},
   "outputs": [
    {
     "name": "stdout",
     "output_type": "stream",
     "text": [
      "\u001b[31mhello\u001b[0m \u001b[32mworld\u001b[0m\n",
      "\u001b[31mhello red world\u001b[0m\n"
     ]
    }
   ],
   "source": [
    "from termcolor import colored\n",
    "print(colored('hello', 'red'), colored('world', 'green'))\n",
    "print(colored(\"hello red world\", 'red'))"
   ]
  },
  {
   "cell_type": "code",
   "execution_count": 23,
   "metadata": {},
   "outputs": [
    {
     "name": "stdout",
     "output_type": "stream",
     "text": [
      "\u001b[4m\u001b[1m\u001b[47m\u001b[31mhello red world\u001b[0m\n"
     ]
    }
   ],
   "source": [
    "print(colored(\"hello red world\", 'red', 'on_white', attrs=['bold', 'underline']))"
   ]
  },
  {
   "cell_type": "code",
   "execution_count": 5,
   "metadata": {},
   "outputs": [],
   "source": [
    "import logging\n",
    "logging.basicConfig(level=logging.DEBUG, \n",
    "                    format='%(funcName)s :: %(lineno)d :: %(levelname)s :: %(message)s')\n",
    "\n",
    "QM_LEVEL_NUM = evel=logging.DEBUG - 5\n",
    "logging.addLevelName(QM_LEVEL_NUM, \"FATAL\")\n",
    "def qm(self, message, *args, **kwargs):\n",
    "    if self.isEnabledFor(QM_LEVEL_NUM):\n",
    "        self._log(QM_LEVEL_NUM, message, args, **kwargs) \n",
    "        \n",
    "logging.Logger.qm = qm     \n",
    "logger = logging.getLogger()\n",
    "logger.setLevel(logging.DEBUG)"
   ]
  },
  {
   "cell_type": "code",
   "execution_count": 6,
   "metadata": {},
   "outputs": [],
   "source": [
    "logger.qm(\"test\")"
   ]
  },
  {
   "cell_type": "code",
   "execution_count": 14,
   "metadata": {},
   "outputs": [],
   "source": [
    "def format_tensor(tensor):\n",
    "    return '\\n' + str(colored(tensor, 'red'))"
   ]
  },
  {
   "cell_type": "code",
   "execution_count": 15,
   "metadata": {},
   "outputs": [
    {
     "name": "stderr",
     "output_type": "stream",
     "text": [
      "<module> :: 1 :: INFO :: Hello world \n",
      "\u001b[31mtensor([[ 0.7164, -0.1639, -0.7737],\n",
      "        [-0.0483, -1.3250,  0.4045],\n",
      "        [-1.6294, -0.8557, -0.9866]])\u001b[0m\n",
      "\n"
     ]
    }
   ],
   "source": [
    "logging.info(\"Hello world %s\\n\", format_tensor(matrix))"
   ]
  },
  {
   "cell_type": "code",
   "execution_count": 9,
   "metadata": {},
   "outputs": [],
   "source": [
    "matrix = torch.randn(3, 3)"
   ]
  },
  {
   "cell_type": "code",
   "execution_count": 99,
   "metadata": {},
   "outputs": [
    {
     "name": "stderr",
     "output_type": "stream",
     "text": [
      "ERROR:root:Exception occurred\n",
      "Traceback (most recent call last):\n",
      "  File \"/tmp/ipykernel_552085/2100013069.py\", line 4, in <module>\n",
      "    c = a / b\n",
      "ZeroDivisionError: division by zero\n",
      "INFO:root:Hello world\n",
      "DEBUG:root:Hello world\n"
     ]
    }
   ],
   "source": [
    "\n",
    "a = 5\n",
    "b = 0\n",
    "try:\n",
    "  c = a / b\n",
    "except Exception as e:\n",
    "\n",
    "  logging.exception(\"Exception occurred\")\n",
    "  \n",
    "logging.info(\"Hello world\")\n",
    "logging.debug(\"Hello world\")"
   ]
  },
  {
   "cell_type": "code",
   "execution_count": 107,
   "metadata": {},
   "outputs": [
    {
     "name": "stderr",
     "output_type": "stream",
     "text": [
      "DEBUG:root:Hello world\n"
     ]
    }
   ],
   "source": [
    "logging.debug(\"Hello world\")"
   ]
  },
  {
   "cell_type": "code",
   "execution_count": 108,
   "metadata": {},
   "outputs": [
    {
     "name": "stderr",
     "output_type": "stream",
     "text": [
      "ERROR:root:name raised an error\n"
     ]
    }
   ],
   "source": [
    "logging.error('%s raised an error', 'name')"
   ]
  },
  {
   "cell_type": "code",
   "execution_count": 109,
   "metadata": {},
   "outputs": [
    {
     "name": "stderr",
     "output_type": "stream",
     "text": [
      "WARNING:root:You are learning Python logging!\n"
     ]
    }
   ],
   "source": [
    "import logging\n",
    "# Format the log message\n",
    "logging.basicConfig(format='%(asctime)s %(levelname)s:%(name)s:%(message)s')\n",
    "# Emit a warning message\n",
    "logging.warning('You are learning Python logging!')"
   ]
  },
  {
   "cell_type": "code",
   "execution_count": 24,
   "metadata": {},
   "outputs": [
    {
     "name": "stdout",
     "output_type": "stream",
     "text": [
      "Name: John, Age: 30\n"
     ]
    }
   ],
   "source": [
    "name = \"John\"\n",
    "age = 30\n",
    "\n",
    "log_message = f\"Name: {name!s}, Age: {age!s}\"\n",
    "print(log_message)"
   ]
  },
  {
   "cell_type": "code",
   "execution_count": 28,
   "metadata": {},
   "outputs": [
    {
     "data": {
      "text/plain": [
       "tensor(1.0000)"
      ]
     },
     "execution_count": 28,
     "metadata": {},
     "output_type": "execute_result"
    }
   ],
   "source": [
    "torch.norm(torch.tensor([    0.18390,      0.47971,     0.11075,     -0.44567,      -0.16180,      -0.70265,     -0.07267]))"
   ]
  },
  {
   "cell_type": "code",
   "execution_count": 30,
   "metadata": {},
   "outputs": [],
   "source": [
    "A = torch.tensor([[     0.00019,      0.39385,      0.68065,      0.08393,      0.12593,      0.02553],\n",
    "        [    -0.00305,     -0.85121,      0.31723,      0.07221,     -0.03733,      0.04126],\n",
    "        [     0.99588,     -0.00374,      0.00348,     -0.04622,      0.00885,      0.07131],\n",
    "        [     0.00055,     -0.03038,     -0.09445,     -0.01060,     -0.01580,     -0.01141],\n",
    "        [    -0.00582,     -0.06560,     -0.07990,     -0.02999,     -0.01007,      0.07922],\n",
    "        [    -0.01756,      0.06470,      0.00373,     -0.06577,      0.02665,      0.25105],\n",
    "        [    -0.00898,     -0.12151,      0.12681,     -0.00861,      0.01494,      0.13020],\n",
    "        [     0.04704,     -0.01807,     -0.15131,      0.61237,      0.50253,     -0.11545],\n",
    "        [     0.05169,     -0.12784,      0.17780,      0.21873,     -0.04797,     -0.73203],\n",
    "        [     0.02170,      0.20901,     -0.17349,      0.04403,     -0.02703,     -0.31161],\n",
    "        [     0.00634,     -0.10987,     -0.55207,     -0.05356,     -0.08935,     -0.11011],\n",
    "        [     0.01441,      0.11632,      0.00882,      0.04844,     -0.00403,     -0.20311],\n",
    "        [    -0.00756,     -0.05988,      0.06480,     -0.70860,      0.41245,     -0.32108],\n",
    "        [     0.04057,      0.07037,      0.10241,     -0.02929,     -0.70903,     -0.24095],\n",
    "        [     0.01614,     -0.04040,     -0.00739,     -0.17080,      0.21197,     -0.21081],\n",
    "        [     0.01479,      0.00141,     -0.02137,      0.13435,      0.00750,     -0.03007]])"
   ]
  },
  {
   "cell_type": "code",
   "execution_count": 31,
   "metadata": {},
   "outputs": [],
   "source": [
    "A = torch.tensor(\n",
    "       [[     0.00019,      0.39385,      0.68065,      0.08393,      0.12593,      0.02553],\n",
    "        [    -0.00305,     -0.85121,      0.31723,      0.07221,     -0.03733,      0.04126],\n",
    "        [     0.99588,     -0.00374,      0.00348,     -0.04622,      0.00885,      0.07131],\n",
    "        [     0.00055,     -0.03038,     -0.09445,     -0.01060,     -0.01580,     -0.01141],\n",
    "        [    -0.00582,     -0.06560,     -0.07990,     -0.02999,     -0.01007,      0.07922],\n",
    "        [    -0.01756,      0.06470,      0.00373,     -0.06577,      0.02665,      0.25105],\n",
    "        [    -0.00898,     -0.12151,      0.12681,     -0.00861,      0.01494,      0.13020],\n",
    "        [     0.04704,     -0.01807,     -0.15131,      0.61237,      0.50253,     -0.11545],\n",
    "        [     0.05169,     -0.12784,      0.17780,      0.21873,     -0.04797,     -0.73203],\n",
    "        [     0.02170,      0.20901,     -0.17349,      0.04403,     -0.02703,     -0.31161],\n",
    "        [     0.00634,     -0.10987,     -0.55207,     -0.05356,     -0.08935,     -0.11011],\n",
    "        [     0.01441,      0.11632,      0.00882,      0.04844,     -0.00403,     -0.20311],\n",
    "        [    -0.00756,     -0.05988,      0.06480,     -0.70860,      0.41245,     -0.32108],\n",
    "        [     0.04057,      0.07037,      0.10241,     -0.02929,     -0.70903,     -0.24095],\n",
    "        [     0.01614,     -0.04040,     -0.00739,     -0.17080,      0.21197,     -0.21081],\n",
    "        [     0.01479,      0.00141,     -0.02137,      0.13435,      0.00750,     -0.03007]])"
   ]
  },
  {
   "cell_type": "code",
   "execution_count": 36,
   "metadata": {},
   "outputs": [
    {
     "data": {
      "text/plain": [
       "tensor([-0.0030, -0.8512,  0.3172,  0.0722, -0.0373,  0.0413])"
      ]
     },
     "execution_count": 36,
     "metadata": {},
     "output_type": "execute_result"
    }
   ],
   "source": [
    "A[1, :]"
   ]
  },
  {
   "cell_type": "code",
   "execution_count": 38,
   "metadata": {},
   "outputs": [
    {
     "data": {
      "text/plain": [
       "tensor(0.8012)"
      ]
     },
     "execution_count": 38,
     "metadata": {},
     "output_type": "execute_result"
    }
   ],
   "source": [
    "torch.norm(A[0, :])"
   ]
  },
  {
   "cell_type": "code",
   "execution_count": 39,
   "metadata": {},
   "outputs": [],
   "source": [
    "def orthogonalize_torch(U, eps=1e-15):\n",
    "    \"\"\"\n",
    "    Orthogonalizes the matrix U (d x n) using Gram-Schmidt Orthogonalization.\n",
    "    If the columns of U are linearly dependent with rank(U) = r, the last n-r columns \n",
    "    will be 0.\n",
    "    \n",
    "    Args:\n",
    "        U (numpy.array): A d x n matrix with columns that need to be orthogonalized.\n",
    "        eps (float): Threshold value below which numbers are regarded as 0 (default=1e-15).\n",
    "    \n",
    "    Returns:\n",
    "        (numpy.array): A d x n orthogonal matrix. If the input matrix U's cols were\n",
    "            not linearly independent, then the last n-r cols are zeros.\n",
    "    \n",
    "    Examples:\n",
    "    ```python\n",
    "    >>> import numpy as np\n",
    "    >>> import gram_schmidt as gs\n",
    "    >>> gs.orthogonalize(np.array([[10., 3.], [7., 8.]]))\n",
    "    array([[ 0.81923192, -0.57346234],\n",
    "       [ 0.57346234,  0.81923192]])\n",
    "    >>> gs.orthogonalize(np.array([[10., 3., 4., 8.], [7., 8., 6., 1.]]))\n",
    "    array([[ 0.81923192 -0.57346234  0.          0.        ]\n",
    "       [ 0.57346234  0.81923192  0.          0.        ]])\n",
    "    ```\n",
    "    \"\"\"\n",
    "    \n",
    "    n = len(U[0])\n",
    "    # numpy can readily reference rows using indices, but referencing full rows is a little\n",
    "    # dirty. So, work with transpose(U)\n",
    "    V = U.T\n",
    "    for i in range(n):\n",
    "        prev_basis = V[0:i]     # orthonormal basis before V[i]\n",
    "        coeff_vec = prev_basis @ V[i].T  # each entry is np.dot(V[j], V[i]) for all j < i\n",
    "        # subtract projections of V[i] onto already determined basis V[0:i]\n",
    "        V[i] -= (coeff_vec @ prev_basis).T\n",
    "        if torch.norm(V[i]) < eps:\n",
    "            V[i][V[i] < eps] = 0.   # set the small entries to 0\n",
    "        else:\n",
    "            V[i] /= torch.norm(V[i])\n",
    "    return V.T"
   ]
  },
  {
   "cell_type": "code",
   "execution_count": 40,
   "metadata": {},
   "outputs": [
    {
     "name": "stderr",
     "output_type": "stream",
     "text": [
      "/tmp/ipykernel_587060/3498202963.py:34: UserWarning: The use of `x.T` on tensors of dimension other than 2 to reverse their shape is deprecated and it will throw an error in a future release. Consider `x.mT` to transpose batches of matrices or `x.permute(*torch.arange(x.ndim - 1, -1, -1))` to reverse the dimensions of a tensor. (Triggered internally at /opt/conda/conda-bld/pytorch_1678411187366/work/aten/src/ATen/native/TensorShape.cpp:3571.)\n",
      "  coeff_vec = prev_basis @ V[i].T  # each entry is np.dot(V[j], V[i]) for all j < i\n"
     ]
    }
   ],
   "source": [
    "A_orto = orthogonalize_torch(A)"
   ]
  },
  {
   "cell_type": "code",
   "execution_count": 43,
   "metadata": {},
   "outputs": [
    {
     "data": {
      "text/plain": [
       "tensor([[True, True, True, True, True, True],\n",
       "        [True, True, True, True, True, True],\n",
       "        [True, True, True, True, True, True],\n",
       "        [True, True, True, True, True, True],\n",
       "        [True, True, True, True, True, True],\n",
       "        [True, True, True, True, True, True],\n",
       "        [True, True, True, True, True, True],\n",
       "        [True, True, True, True, True, True],\n",
       "        [True, True, True, True, True, True],\n",
       "        [True, True, True, True, True, True],\n",
       "        [True, True, True, True, True, True],\n",
       "        [True, True, True, True, True, True],\n",
       "        [True, True, True, True, True, True],\n",
       "        [True, True, True, True, True, True],\n",
       "        [True, True, True, True, True, True],\n",
       "        [True, True, True, True, True, True]])"
      ]
     },
     "execution_count": 43,
     "metadata": {},
     "output_type": "execute_result"
    }
   ],
   "source": [
    "A_orto == A"
   ]
  },
  {
   "cell_type": "code",
   "execution_count": 44,
   "metadata": {},
   "outputs": [],
   "source": [
    "R = torch.tensor([[     0.00487,      9.97446,     16.85499,      1.36908,      1.68907,      0.35934],\n",
    "        [    -0.07908,    -21.92047,      7.89247,      1.02650,     -0.20035,      0.36962],\n",
    "        [    25.81744,     -0.08932,      0.06386,     -0.41008,      0.07489,      0.61599],\n",
    "        [     0.01411,     -0.90634,     -2.49518,     -0.18099,     -0.24790,     -0.17374],\n",
    "        [    -0.15499,     -0.65752,     -0.82035,     -0.20654,      0.09200,      0.72623],\n",
    "        [    -0.46512,      0.59608,      0.01199,     -0.62086,      0.14642,      2.40241],\n",
    "        [    -0.23257,     -1.17181,      1.04003,     -0.33873,      0.12309,      1.10003],\n",
    "        [     1.21955,     -0.43131,     -2.77491,      5.43359,      4.25084,     -0.99723],\n",
    "        [     1.33620,     -1.41798,      1.89508,      1.63204,     -0.41887,     -6.21818],\n",
    "        [     0.56070,      1.69008,     -1.56129,      0.78984,     -0.33191,     -2.73018],\n",
    "        [     0.16439,     -1.00996,     -4.75088,      0.23844,      0.09762,     -0.72571],\n",
    "        [     0.37680,      1.12287,      0.05600,      0.51423,     -0.21354,     -1.88172],\n",
    "        [    -0.19604,     -1.42909,      1.18835,     -6.28742,      3.48889,     -2.77344],\n",
    "        [     1.05172,      1.67942,      1.87805,     -0.25985,     -5.99765,     -2.08124],\n",
    "        [     0.41839,     -0.96417,     -0.13556,     -1.51554,      1.79300,     -1.82097],\n",
    "        [     0.38351,      0.03356,     -0.39200,      1.19205,      0.06348,     -0.25972]])"
   ]
  },
  {
   "cell_type": "code",
   "execution_count": 45,
   "metadata": {},
   "outputs": [],
   "source": [
    "V = torch.tensor([[     0.00019,      0.39385,      0.68065,      0.08393,      0.12593,      0.02553],\n",
    "        [    -0.00305,     -0.85121,      0.31723,      0.07221,     -0.03733,      0.04126],\n",
    "        [     0.99588,     -0.00374,      0.00348,     -0.04622,      0.00885,      0.07131],\n",
    "        [     0.00055,     -0.03038,     -0.09445,     -0.01060,     -0.01580,     -0.01141],\n",
    "        [    -0.00582,     -0.06560,     -0.07990,     -0.02999,     -0.01007,      0.07922],\n",
    "        [    -0.01756,      0.06470,      0.00373,     -0.06577,      0.02665,      0.25105],\n",
    "        [    -0.00898,     -0.12151,      0.12681,     -0.00861,      0.01494,      0.13020],\n",
    "        [     0.04704,     -0.01807,     -0.15131,      0.61237,      0.50253,     -0.11545],\n",
    "        [     0.05169,     -0.12784,      0.17780,      0.21873,     -0.04797,     -0.73203],\n",
    "        [     0.02170,      0.20901,     -0.17349,      0.04403,     -0.02703,     -0.31161],\n",
    "        [     0.00634,     -0.10987,     -0.55207,     -0.05356,     -0.08935,     -0.11011],\n",
    "        [     0.01441,      0.11632,      0.00882,      0.04844,     -0.00403,     -0.20311],\n",
    "        [    -0.00756,     -0.05988,      0.06480,     -0.70860,      0.41245,     -0.32108],\n",
    "        [     0.04057,      0.07037,      0.10241,     -0.02929,     -0.70903,     -0.24095],\n",
    "        [     0.01614,     -0.04040,     -0.00739,     -0.17080,      0.21197,     -0.21081],\n",
    "        [     0.01479,      0.00141,     -0.02137,      0.13435,      0.00750,     -0.03007]])"
   ]
  },
  {
   "cell_type": "code",
   "execution_count": 47,
   "metadata": {},
   "outputs": [],
   "source": [
    "V = orthogonalize_torch(V.T)"
   ]
  },
  {
   "cell_type": "code",
   "execution_count": 49,
   "metadata": {},
   "outputs": [],
   "source": [
    "M = V @ R "
   ]
  },
  {
   "cell_type": "code",
   "execution_count": 50,
   "metadata": {},
   "outputs": [],
   "source": [
    "eval, _ = torch.linalg.eig(M)"
   ]
  }
 ],
 "metadata": {
  "kernelspec": {
   "display_name": "Python 3 (ipykernel)",
   "language": "python",
   "name": "python3"
  },
  "orig_nbformat": 4
 },
 "nbformat": 4,
 "nbformat_minor": 2
}
