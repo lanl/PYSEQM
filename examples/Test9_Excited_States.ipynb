{
 "cells": [
  {
   "cell_type": "markdown",
   "metadata": {},
   "source": [
    "# PySEQM Excited State Example\n",
    "This notebook demonstrates how to set up and run excited state electronic structure calculations using PySEQM and PyTorch."
   ]
  },
  {
   "cell_type": "code",
   "execution_count": null,
   "metadata": {},
   "outputs": [],
   "source": [
    "import torch\n",
    "from seqm.seqm_functions.constants import Constants\n",
    "from seqm.Molecule import Molecule\n",
    "from seqm.ElectronicStructure import Electronic_Structure\n",
    "from seqm.seqm_functions.read_xyz import read_xyz\n",
    "\n",
    "torch.set_default_dtype(torch.float64)\n",
    "device = torch.device('cuda' if torch.cuda.is_available() else 'cpu')"
   ]
  },
  {
   "cell_type": "markdown",
   "metadata": {},
   "source": [
    "## Define Molecules (Species and Coordinates)"
   ]
  },
  {
   "cell_type": "code",
   "execution_count": null,
   "metadata": {},
   "outputs": [],
   "source": [
    "species = torch.as_tensor([[8,6,1,1],\n",
    "                           [8,6,1,1],\n",
    "                           [8,8,6,0]],\n",
    "                        dtype=torch.int64, device=device)\n",
    "\n",
    "coordinates = torch.tensor([\n",
    "                              [\n",
    "                              [0.00,    0.00,    0.00],\n",
    "                              [1.22,    0.00,    0.00],\n",
    "                              [1.82,    0.94,    0.00],\n",
    "                              [1.82,   -0.94,    0.00]\n",
    "                              ],\n",
    "                              [\n",
    "                              [0.00,    0.00,    0.00],\n",
    "                              [1.22,    0.00,    0.00],\n",
    "                              [1.82,    0.94,    0.00],\n",
    "                              [1.82,   -0.94,    0.00]\n",
    "                              ],\n",
    "                              [\n",
    "                              [0.00,    0.00,    0.00],\n",
    "                              [1.23,    0.00,    0.00],\n",
    "                              [1.82,    0.94,    0.00],\n",
    "                              [0.0,     0.0,     0.0]\n",
    "                              ]\n",
    "                           ], device=device)"
   ]
  },
  {
   "cell_type": "markdown",
   "metadata": {},
   "source": [
    "## Set Up Constants and Parameters"
   ]
  },
  {
   "cell_type": "code",
   "execution_count": null,
   "metadata": {},
   "outputs": [],
   "source": [
    "species = torch.as_tensor(species, dtype=torch.int64, device=device)[:]\n",
    "coordinates = torch.tensor(coordinates, device=device)[:]\n",
    "const = Constants().to(device)\n",
    "\n",
    "elements = [0] + sorted(set(species.reshape(-1).tolist()))\n",
    "\n",
    "seqm_parameters = {\n",
    "   'method': 'AM1',\n",
    "   'scf_eps': 1.0e-8,\n",
    "   'scf_converger': [2, 0.0],\n",
    "   'sp2': [False, 1.0e-5],\n",
    "   'elements': elements,\n",
    "   'learned': [],\n",
    "   'pair_outer_cutoff': 1.0e8,\n",
    "   'eig': True,\n",
    "   'excited_states': {'n_states': 10},\n",
    "}"
   ]
  },
  {
   "cell_type": "markdown",
   "metadata": {},
   "source": [
    "## Run Excited State Calculation"
   ]
  },
  {
   "cell_type": "code",
   "execution_count": null,
   "metadata": {},
   "outputs": [],
   "source": [
    "molecules = Molecule(const, seqm_parameters, coordinates, species).to(device)\n",
    "esdriver = Electronic_Structure(seqm_parameters).to(device)\n",
    "esdriver(molecules)"
   ]
  }
 ],
 "metadata": {
  "language_info": {
   "name": "python"
  }
 },
 "nbformat": 4,
 "nbformat_minor": 2
}
