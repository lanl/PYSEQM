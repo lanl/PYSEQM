{
 "cells": [
  {
   "cell_type": "markdown",
   "id": "92d836e4-8b96-4f27-9183-4101b05062d2",
   "metadata": {},
   "source": [
    "# Example of BOMD MD (NVE, NVT)"
   ]
  },
  {
   "cell_type": "code",
   "execution_count": 1,
   "id": "a5d16b3b-5b0b-49b7-998e-957f67350f12",
   "metadata": {},
   "outputs": [],
   "source": [
    "import torch\n",
    "from seqm.seqm_functions.constants import Constants\n",
    "from seqm.Molecule import Molecule\n",
    "from seqm.MolecularDynamics import Molecular_Dynamics_Basic, Molecular_Dynamics_Langevin\n",
    "\n",
    "torch.set_default_dtype(torch.float64)\n",
    "\n",
    "if torch.cuda.is_available():\n",
    "    device = torch.device('cuda')\n",
    "else:\n",
    "    device = torch.device('cpu')"
   ]
  },
  {
   "cell_type": "code",
   "execution_count": 2,
   "id": "1104f502-e6e6-46c0-9829-740177ef7b48",
   "metadata": {},
   "outputs": [
    {
     "name": "stdout",
     "output_type": "stream",
     "text": [
      "Step,    Temp,    E(kinetic),  E(potential),  E(total)\n",
      "     1   396.16   2.048326e-01 -4.755799e+02 -4.753750e+02 ||    540.80   2.796143e-01 -1.092097e+02 -1.089301e+02 || \n",
      "     2   378.43   1.956660e-01 -4.755706e+02 -4.753749e+02 ||    678.08   3.505955e-01 -1.092814e+02 -1.089309e+02 || \n",
      "     3   349.19   1.805432e-01 -4.755554e+02 -4.753748e+02 ||    789.80   4.083569e-01 -1.093400e+02 -1.089316e+02 || \n",
      "     4   312.03   1.613320e-01 -4.755360e+02 -4.753747e+02 ||    854.91   4.420220e-01 -1.093742e+02 -1.089322e+02 || \n",
      "     5   271.19   1.402165e-01 -4.755148e+02 -4.753745e+02 ||    857.70   4.434668e-01 -1.093759e+02 -1.089325e+02 || \n",
      "     6   230.82   1.193433e-01 -4.754938e+02 -4.753744e+02 ||    792.53   4.097702e-01 -1.093421e+02 -1.089323e+02 || \n",
      "     7   194.37   1.004972e-01 -4.754749e+02 -4.753744e+02 ||    667.52   3.451344e-01 -1.092768e+02 -1.089316e+02 || \n",
      "     8   164.13   8.486361e-02 -4.754592e+02 -4.753743e+02 ||    505.32   2.612705e-01 -1.091918e+02 -1.089305e+02 || \n",
      "     9   141.03   7.291858e-02 -4.754473e+02 -4.753743e+02 ||    339.39   1.754781e-01 -1.091048e+02 -1.089294e+02 || \n",
      "    10   124.67   6.446102e-02 -4.754388e+02 -4.753744e+02 ||    205.99   1.065058e-01 -1.090349e+02 -1.089284e+02 || \n",
      "CPU times: user 616 ms, sys: 34.1 ms, total: 650 ms\n",
      "Wall time: 655 ms\n"
     ]
    }
   ],
   "source": [
    "%%time\n",
    "species = torch.as_tensor([[8,6,1,1],[5,1,1,1]],dtype=torch.int64, device=device)\n",
    "coordinates = torch.tensor([\n",
    "                  [\n",
    "                   [ 0.00,  0.0,  0.0],\n",
    "                   [ 1.22,  0.0,  0.0],\n",
    "                   [ 1.82,  0.94, 0.0],\n",
    "                   [ 1.82, -0.94, 0.0]\n",
    "                  ],\n",
    "                  [\n",
    "                   [ 0.00,  0.00,  0.00],\n",
    "                   [ 1.20,  0.00,  0.00],\n",
    "                   [-0.60,  1.03,  0.00],\n",
    "                   [-0.60, -1.03,  0.00]\n",
    "                  ]\n",
    "                 ], device=device)\n",
    "\n",
    "const = Constants().to(device)\n",
    "\n",
    "seqm_parameters = {\n",
    "                   'method' : 'AM1',  # AM1, MNDO, PM#\n",
    "                   'scf_eps' : 1.0e-6,  # SCF convergence criterion\n",
    "                   'scf_converger' : [1], # converger used for scf loop\n",
    "                   }\n",
    "\n",
    "output = {\n",
    "'molid': [0,1], # index of the molecules for which MD output is written\n",
    "'prefix': f'Outputs/3_MD_BOMD_Basic',\n",
    "'print every': 1, # print output every N steps \n",
    "\"xyz\": 1,    # write .xyz file every N steps; 0 disables (default)\n",
    "# write an HDF5 file for each molecule\n",
    "\"h5\": {\n",
    "    \"data\": 1,      # write temp, energies, excitations, MO, etc. every N steps; 0 disables\n",
    "    \"coordinates\": 1,   # write coords; 0 disables\n",
    "    \"velocities\": 1,   # write velocities; 0 disables\n",
    "    \"forces\": 1,   # write forces; 0 disables\n",
    "    \"write_mo\": False, # write HOMO-LUMO gap\n",
    "    },\n",
    "\"checkpoint every\": 100, # write a checkpoint file to restart calculations from every N steps\n",
    "}\n",
    "molecule = Molecule(const, seqm_parameters, coordinates, species).to(device)\n",
    "\n",
    "md =  Molecular_Dynamics_Basic(seqm_parameters=seqm_parameters, Temp = 400.0, timestep=0.4, output=output).to(device)\n",
    "_ = md.run(molecule, steps=10)"
   ]
  },
  {
   "cell_type": "markdown",
   "id": "7009434b-aff2-4218-85e2-1fcbc3e01f0b",
   "metadata": {},
   "source": [
    "### *MD_BOMD_BASIC.0.xyz* and *MD_BOMD_BASIC.1.xyz* files with general info for each step are created\n",
    "### *MD_BOMD_BASIC.0.h5* and *MD_BOMD_BASIC.1.h5* are HDF5 files that contain all the data of the molecular dynamics trajectory"
   ]
  },
  {
   "cell_type": "markdown",
   "id": "007a8636",
   "metadata": {},
   "source": [
    "## Excited-state dynamics on a particular excited state.\n",
    "### Excited-state dynamics are performed in the same way as ground-state BOMD. The only difference is that, in seqm_parameters, you need to provide the excited-state input parameters, and choose which excited state (active_state > 0) to run on."
   ]
  },
  {
   "cell_type": "code",
   "execution_count": 4,
   "id": "3d98a1de",
   "metadata": {},
   "outputs": [
    {
     "name": "stdout",
     "output_type": "stream",
     "text": [
      "Step,    Temp,    E(kinetic),  E(potential),  E(total)\n",
      "     1   405.82   2.098231e-01 -4.727443e+02 -4.725345e+02 ||    421.66   2.180145e-01 -4.724303e+02 -4.722123e+02 || \n",
      "     2   405.73   2.097805e-01 -4.727442e+02 -4.725344e+02 ||    476.09   2.461593e-01 -4.724588e+02 -4.722127e+02 || \n",
      "     3   401.96   2.078271e-01 -4.727422e+02 -4.725343e+02 ||    552.19   2.855039e-01 -4.724987e+02 -4.722132e+02 || \n",
      "     4   396.75   2.051346e-01 -4.727394e+02 -4.725343e+02 ||    635.21   3.284286e-01 -4.725421e+02 -4.722137e+02 || \n",
      "     5   391.93   2.026457e-01 -4.727369e+02 -4.725342e+02 ||    709.71   3.669504e-01 -4.725811e+02 -4.722142e+02 || \n",
      "     6   388.61   2.009279e-01 -4.727352e+02 -4.725342e+02 ||    762.92   3.944580e-01 -4.726089e+02 -4.722144e+02 || \n",
      "     7   387.04   2.001165e-01 -4.727344e+02 -4.725343e+02 ||    787.55   4.071927e-01 -4.726217e+02 -4.722145e+02 || \n",
      "     8   386.65   1.999158e-01 -4.727342e+02 -4.725343e+02 ||    783.09   4.048914e-01 -4.726192e+02 -4.722143e+02 || \n",
      "     9   386.11   1.996364e-01 -4.727340e+02 -4.725344e+02 ||    754.74   3.902303e-01 -4.726043e+02 -4.722141e+02 || \n",
      "    10   383.46   1.982648e-01 -4.727327e+02 -4.725344e+02 ||    710.42   3.673138e-01 -4.725811e+02 -4.722138e+02 || \n",
      "CPU times: user 1.02 s, sys: 34.4 ms, total: 1.06 s\n",
      "Wall time: 1.05 s\n"
     ]
    }
   ],
   "source": [
    "%%time\n",
    "species = torch.as_tensor([[8,6,1,1],[8,6,1,1]],dtype=torch.int64, device=device)\n",
    "coordinates = torch.tensor([\n",
    "                  [\n",
    "                   [ 0.00,  0.0,  0.0],\n",
    "                   [ 1.22,  0.0,  0.0],\n",
    "                   [ 1.82,  0.94, 0.0],\n",
    "                   [ 1.82, -0.94, 0.0]\n",
    "                  ],\n",
    "                  [\n",
    "                   [ 0.00,  0.00,  0.00],\n",
    "                   [ 1.20,  0.00,  0.00],\n",
    "                   [1.80,  1.03,  0.00],\n",
    "                   [1.80, -1.03,  0.00]\n",
    "                  ]\n",
    "                 ], device=device)\n",
    "\n",
    "const = Constants().to(device)\n",
    "\n",
    "seqm_parameters = {\n",
    "                   'method' : 'AM1',  \n",
    "                   'scf_eps' : 1.0e-7,  \n",
    "                   'scf_converger' : [1], # converger used for scf loop\n",
    "                   'excited_states': {'n_states':3},\n",
    "                   'active_state': 1,\n",
    "                   }\n",
    "\n",
    "output = {\n",
    "'molid': [0,1], # index of the molecules for which MD output is written\n",
    "'prefix': f'Outputs/3_MD_BOMD_Excited',\n",
    "'print every': 1, # print output every N steps \n",
    "\"xyz\": 1,    # write .xyz file every N steps; 0 disables (default)\n",
    "# write an HDF5 file for each molecule\n",
    "\"h5\": {\n",
    "    \"data\": 1,      # write temp, energies, excitations, MO, etc. every N steps; 0 disables\n",
    "    \"coordinates\": 1,   # write coords; 0 disables\n",
    "    \"velocities\": 1,   # write velocities; 0 disables\n",
    "    \"forces\": 1,   # write forces; 0 disables\n",
    "    \"write_mo\": False, # write HOMO-LUMO gap\n",
    "    },\n",
    "\"checkpoint every\": 100, # write a checkpoint file to restart calculations from every N steps\n",
    "}\n",
    "molecule = Molecule(const, seqm_parameters, coordinates, species).to(device)\n",
    "\n",
    "md =  Molecular_Dynamics_Basic(seqm_parameters=seqm_parameters, Temp = 400.0, timestep=0.4, output=output).to(device)\n",
    "#remove center of mass velocity\n",
    "_ = md.run(molecule, steps=10)"
   ]
  },
  {
   "cell_type": "markdown",
   "id": "c8882565-c2e2-4ca3-9c98-d0744c222606",
   "metadata": {},
   "source": [
    "## Scale velocities to adjust kinetic energy and compenstate the energy shift"
   ]
  },
  {
   "cell_type": "code",
   "execution_count": 5,
   "id": "039fc1c6-a9b8-4bd5-a261-83c400c8c31d",
   "metadata": {},
   "outputs": [
    {
     "name": "stdout",
     "output_type": "stream",
     "text": [
      "Step,    Temp,    E(kinetic),  E(potential),  E(total)\n",
      "     1   302.06   1.561751e-01 -4.742618e+02 -4.741056e+02 ||    383.97   1.985263e-01 -1.084141e+02 -1.082156e+02 || \n",
      "     2   242.59   1.254306e-01 -4.742310e+02 -4.741056e+02 ||    443.57   2.293453e-01 -1.084450e+02 -1.082156e+02 || \n",
      "     3   226.70   1.172152e-01 -4.742228e+02 -4.741056e+02 ||    570.70   2.950730e-01 -1.085107e+02 -1.082156e+02 || \n",
      "     4   263.28   1.361270e-01 -4.742417e+02 -4.741056e+02 ||    752.95   3.893032e-01 -1.086049e+02 -1.082156e+02 || \n",
      "     5   363.19   1.877848e-01 -4.742934e+02 -4.741056e+02 ||    974.09   5.036434e-01 -1.087193e+02 -1.082156e+02 || \n",
      "     6   535.39   2.768156e-01 -4.743824e+02 -4.741056e+02 ||   1214.65   6.280239e-01 -1.088436e+02 -1.082156e+02 || \n",
      "     7   782.05   4.043499e-01 -4.745099e+02 -4.741056e+02 ||   1452.43   7.509643e-01 -1.089666e+02 -1.082156e+02 || \n",
      "     8  1094.70   5.660039e-01 -4.746716e+02 -4.741056e+02 ||   1662.82   8.597428e-01 -1.090754e+02 -1.082156e+02 || \n",
      "     9  1453.04   7.512775e-01 -4.748569e+02 -4.741056e+02 ||   1818.98   9.404845e-01 -1.091561e+02 -1.082156e+02 || \n",
      "    10  1826.99   9.446245e-01 -4.750502e+02 -4.741056e+02 ||   1892.41   9.784520e-01 -1.091941e+02 -1.082156e+02 || \n",
      "CPU times: user 608 ms, sys: 30.9 ms, total: 639 ms\n",
      "Wall time: 631 ms\n"
     ]
    }
   ],
   "source": [
    "%%time\n",
    "species = torch.as_tensor([[8,6,1,1],[5,1,1,1]],dtype=torch.int64, device=device)\n",
    "coordinates = torch.tensor([\n",
    "                  [\n",
    "                   [ 1.40,  0.0,  0.0],\n",
    "                   [ 0.00,  0.0,  0.0],\n",
    "                   [-0.60,  0.94, 0.0],\n",
    "                   [-0.60, -0.94, 0.0]\n",
    "                  ],\n",
    "                  [\n",
    "                   [ 0.00,  0.00,  0.00],\n",
    "                   [ 1.40,  0.00,  0.00],\n",
    "                   [-0.60,  1.03,  0.00],\n",
    "                   [-0.60, -1.03,  0.00]\n",
    "                  ]\n",
    "                 ], device=device)[:]\n",
    "\n",
    "const = Constants().to(device)\n",
    "\n",
    "seqm_parameters = {\n",
    "                   'method' : 'AM1',  # AM1, MNDO, PM#\n",
    "                   'scf_eps' : 1.0e-6,  # unit eV, change of electric energy, as nuclear energy doesnt' change during SCF\n",
    "                   'scf_converger' : [2], # converger used for scf loop\n",
    "                   }\n",
    "\n",
    "output = {\n",
    "'molid': [0,1],\n",
    "'prefix': 'Outputs/3_MD_BOMD_Basic_E_cntrl',\n",
    "'print every': 1,\n",
    "# write a .xyz file\n",
    "\"xyz\": 1,\n",
    "# write an HDF5 file\n",
    "\"h5\": {\n",
    "    \"data\": 1,      # write T/Ek/Ep, excitations, MO, etc.; 0 disables\n",
    "    \"write_mo\": False,\n",
    "    },\n",
    "}\n",
    "molecule = Molecule(const, seqm_parameters, coordinates, species).to(device)\n",
    "\n",
    "md =  Molecular_Dynamics_Basic(seqm_parameters=seqm_parameters, Temp = 400.0, timestep=0.4, output=output).to(device)\n",
    "#remove center of mass velocity\n",
    "_ = md.run(molecule, steps=10, control_energy_shift=True)"
   ]
  },
  {
   "cell_type": "markdown",
   "id": "37fb7512-49d6-4c21-af85-74bbe7473aac",
   "metadata": {},
   "source": [
    "## Scale velocities to control temperature"
   ]
  },
  {
   "cell_type": "code",
   "execution_count": 6,
   "id": "15890b1f-7d82-4540-a295-edc2a73508b1",
   "metadata": {},
   "outputs": [
    {
     "name": "stdout",
     "output_type": "stream",
     "text": [
      "Step,    Temp,    E(kinetic),  E(potential),  E(total)\n",
      "     1   400.00   1.034080e-01 -4.743546e+02 -4.742512e+02 ||    400.00   1.034080e-01 -1.084874e+02 -1.083840e+02 || \n",
      "     2   400.00   1.034080e-01 -4.744150e+02 -4.743116e+02 ||    400.00   1.034080e-01 -1.085724e+02 -1.084690e+02 || \n",
      "     3   400.00   1.034080e-01 -4.744873e+02 -4.743839e+02 ||    400.00   1.034080e-01 -1.086660e+02 -1.085626e+02 || \n",
      "     4   400.00   1.034080e-01 -4.745664e+02 -4.744630e+02 ||    400.00   1.034080e-01 -1.087615e+02 -1.086581e+02 || \n",
      "     5   400.00   1.034080e-01 -4.746485e+02 -4.745451e+02 ||    400.00   1.034080e-01 -1.088549e+02 -1.087515e+02 || \n",
      "     6   400.00   1.034080e-01 -4.747311e+02 -4.746277e+02 ||    400.00   1.034080e-01 -1.089439e+02 -1.088405e+02 || \n",
      "     7   400.00   1.034080e-01 -4.748123e+02 -4.747089e+02 ||    400.00   1.034080e-01 -1.090271e+02 -1.089237e+02 || \n",
      "     8   400.00   1.034080e-01 -4.748909e+02 -4.747875e+02 ||    400.00   1.034080e-01 -1.091037e+02 -1.090003e+02 || \n",
      "     9   400.00   1.034080e-01 -4.749662e+02 -4.748628e+02 ||    400.00   1.034080e-01 -1.091730e+02 -1.090696e+02 || \n",
      "    10   400.00   1.034080e-01 -4.750378e+02 -4.749344e+02 ||    400.00   1.034080e-01 -1.092346e+02 -1.091312e+02 || \n",
      "CPU times: user 646 ms, sys: 33.8 ms, total: 679 ms\n",
      "Wall time: 673 ms\n"
     ]
    }
   ],
   "source": [
    "%%time\n",
    "species = torch.as_tensor([[8,6,1,1],[5,1,1,1]],dtype=torch.int64, device=device)\n",
    "coordinates = torch.tensor([\n",
    "                  [\n",
    "                   [ 1.40,  0.0,  0.0],\n",
    "                   [ 0.00,  0.0,  0.0],\n",
    "                   [-0.60,  0.94, 0.0],\n",
    "                   [-0.60, -0.94, 0.0]\n",
    "                  ],\n",
    "                  [\n",
    "                   [ 0.00,  0.00,  0.00],\n",
    "                   [ 1.40,  0.00,  0.00],\n",
    "                   [-0.60,  1.03,  0.00],\n",
    "                   [-0.60, -1.03,  0.00]\n",
    "                  ]\n",
    "                 ], device=device)[:]\n",
    "\n",
    "const = Constants().to(device)\n",
    "\n",
    "seqm_parameters = {\n",
    "                   'method' : 'AM1',  # AM1, MNDO, PM#\n",
    "                   'scf_eps' : 1.0e-6,  # unit eV, change of electric energy, as nuclear energy doesnt' change during SCF\n",
    "                   'scf_converger' : [2], # converger used for scf loop\n",
    "                   }\n",
    "\n",
    "output = {\n",
    "'molid': [0,1],\n",
    "'prefix': 'Outputs/3_MD_BOMD_Basic_T_cntrl',\n",
    "'print_every': 1,\n",
    "# write a .xyz file\n",
    "\"xyz\": 1,\n",
    "# write an HDF5 file\n",
    "\"h5\": {\n",
    "    \"data\": 1,      # write T/Ek/Ep, excitations, MO, etc.; 0 disables\n",
    "    },\n",
    "}\n",
    "molecule = Molecule(const, seqm_parameters, coordinates, species).to(device)\n",
    "\n",
    "md =  Molecular_Dynamics_Basic(seqm_parameters=seqm_parameters, Temp = 400.0, timestep=0.4, output=output).to(device)\n",
    "#remove center of mass velocity\n",
    "_ = md.run(molecule, 10, scale_vel=[1,400], remove_com=('angular',1))"
   ]
  },
  {
   "cell_type": "markdown",
   "id": "28917924-2e5a-49a9-86fb-f1ea809c45f3",
   "metadata": {},
   "source": [
    "## Langevin Thermostat"
   ]
  },
  {
   "cell_type": "code",
   "execution_count": 7,
   "id": "34485db3-0514-41d2-9507-e4e630dfa1c2",
   "metadata": {},
   "outputs": [
    {
     "name": "stdout",
     "output_type": "stream",
     "text": [
      "Step,    Temp,    E(kinetic),  E(potential),  E(total)\n",
      "     1   432.20   2.234664e-01 -4.755783e+02 -4.753548e+02 ||    356.97   1.845676e-01 -1.091204e+02 -1.089358e+02 || \n",
      "     2   399.08   2.063414e-01 -4.755539e+02 -4.753476e+02 ||    356.73   1.844448e-01 -1.091122e+02 -1.089277e+02 || \n",
      "     3   335.79   1.736176e-01 -4.755118e+02 -4.753382e+02 ||    336.85   1.741670e-01 -1.091122e+02 -1.089381e+02 || \n",
      "     4   237.24   1.226641e-01 -4.754632e+02 -4.753406e+02 ||    395.47   2.044734e-01 -1.091240e+02 -1.089195e+02 || \n",
      "     5   142.16   7.350180e-02 -4.754222e+02 -4.753487e+02 ||    379.64   1.962907e-01 -1.091455e+02 -1.089492e+02 || \n",
      "     6    78.83   4.075932e-02 -4.753971e+02 -4.753563e+02 ||    469.38   2.426857e-01 -1.091701e+02 -1.089274e+02 || \n",
      "     7    80.99   4.187646e-02 -4.753905e+02 -4.753487e+02 ||    508.55   2.629410e-01 -1.091983e+02 -1.089354e+02 || \n",
      "     8   103.66   5.359523e-02 -4.754049e+02 -4.753513e+02 ||    592.90   3.065525e-01 -1.092201e+02 -1.089135e+02 || \n",
      "     9   154.38   7.982187e-02 -4.754350e+02 -4.753552e+02 ||    577.71   2.986997e-01 -1.092327e+02 -1.089340e+02 || \n",
      "    10   240.60   1.244003e-01 -4.754687e+02 -4.753443e+02 ||    481.99   2.492088e-01 -1.092352e+02 -1.089860e+02 || \n",
      "CPU times: user 666 ms, sys: 32.4 ms, total: 699 ms\n",
      "Wall time: 687 ms\n"
     ]
    }
   ],
   "source": [
    "%%time\n",
    "species = torch.as_tensor([[8,6,1,1],[5,1,1,1]],dtype=torch.int64, device=device)\n",
    "coordinates = torch.tensor([\n",
    "                  [\n",
    "                   [ 0.00,  0.0,  0.0],\n",
    "                   [ 1.22,  0.0,  0.0],\n",
    "                   [ 1.82,  0.94, 0.0],\n",
    "                   [ 1.82, -0.94, 0.0]\n",
    "                  ],\n",
    "                  [\n",
    "                   [ 0.00,  0.00,  0.00],\n",
    "                   [ 1.20,  0.00,  0.00],\n",
    "                   [-0.60,  1.03,  0.00],\n",
    "                   [-0.60, -1.03,  0.00]\n",
    "                  ]\n",
    "                 ], device=device)[:]\n",
    "\n",
    "const = Constants().to(device)\n",
    "\n",
    "seqm_parameters = {\n",
    "                   'method' : 'AM1',  # AM1, MNDO, PM#\n",
    "                   'scf_eps' : 1.0e-6,  # unit eV, change of electric energy, as nuclear energy doesnt' change during SCF\n",
    "                   'scf_converger' : [2], # converger used for scf loop\n",
    "                   }\n",
    "\n",
    "output = {\n",
    "'molid': [0,1],\n",
    "'prefix': 'Outputs/3_MD_BOMD_Langevin',\n",
    "'print_every': 1,\n",
    "# write a .xyz file\n",
    "\"xyz\": 1,\n",
    "# write an HDF5 file\n",
    "\"h5\": {\n",
    "    \"data_every\": 1,      # write T/Ek/Ep, excitations, MO, etc.; 0 disables\n",
    "    \"coordinates\": 1,   # write coords; 0 disables\n",
    "    },\n",
    "}\n",
    "molecule = Molecule(const, seqm_parameters, coordinates, species).to(device)\n",
    "\n",
    "# specify damping factor\n",
    "md =  Molecular_Dynamics_Langevin(damp = 50.0, seqm_parameters=seqm_parameters, Temp=400.0, timestep=0.4, output=output).to(device)\n",
    "#remove center of mass velocity\n",
    "_ = md.run(molecule, 10, remove_com=('angular',1))"
   ]
  }
 ],
 "metadata": {
  "kernelspec": {
   "display_name": "base",
   "language": "python",
   "name": "python3"
  },
  "language_info": {
   "codemirror_mode": {
    "name": "ipython",
    "version": 3
   },
   "file_extension": ".py",
   "mimetype": "text/x-python",
   "name": "python",
   "nbconvert_exporter": "python",
   "pygments_lexer": "ipython3",
   "version": "3.11.10"
  }
 },
 "nbformat": 4,
 "nbformat_minor": 5
}
