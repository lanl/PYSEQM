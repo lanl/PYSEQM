{
 "cells": [
  {
   "cell_type": "markdown",
   "id": "5e596866-8ca5-437f-ba60-8024305241d6",
   "metadata": {},
   "source": [
    "# XL-BOMD\n",
    "## see https://aip.scitation.org/doi/full/10.1063/1.3148075 for details."
   ]
  },
  {
   "cell_type": "code",
   "execution_count": 1,
   "id": "e7f5375b-e6f8-43c5-8812-00acdb615df1",
   "metadata": {},
   "outputs": [],
   "source": [
    "import torch\n",
    "from seqm.seqm_functions.constants import Constants\n",
    "from seqm.Molecule import Molecule\n",
    "from seqm.MolecularDynamics import XL_BOMD\n",
    "\n",
    "torch.set_default_dtype(torch.float64)\n",
    "if torch.cuda.is_available():\n",
    "    device = torch.device('cuda')\n",
    "else:\n",
    "    device = torch.device('cpu')"
   ]
  },
  {
   "cell_type": "code",
   "execution_count": 2,
   "id": "7094efd9-0a57-4636-8583-e2d776da3684",
   "metadata": {},
   "outputs": [
    {
     "name": "stdout",
     "output_type": "stream",
     "text": [
      "Doing initialization\n",
      "Step,    Temp,    E(kinetic),  E(potential),  E(total)\n",
      "     1   504.34   2.607617e-01 -1.360431e+00 -1.099670e+00 ||    381.70   1.973523e-01 1.419623e+00 1.616976e+00 || \n",
      "     2   475.22   2.457086e-01 -1.346130e+00 -1.100422e+00 ||    425.18   2.198373e-01 1.396738e+00 1.616576e+00 || \n",
      "     3   426.59   2.205630e-01 -1.321501e+00 -1.100938e+00 ||    480.25   2.483076e-01 1.367714e+00 1.616022e+00 || \n",
      "     4   366.13   1.893041e-01 -1.289250e+00 -1.099946e+00 ||    537.12   2.777116e-01 1.337895e+00 1.615607e+00 || \n",
      "     5   301.16   1.557102e-01 -1.254642e+00 -1.098932e+00 ||    584.59   3.022588e-01 1.313067e+00 1.615326e+00 || \n",
      "     6   238.56   1.233434e-01 -1.221916e+00 -1.098573e+00 ||    612.14   3.164983e-01 1.298646e+00 1.615145e+00 || \n",
      "     7   184.75   9.552514e-02 -1.193993e+00 -1.098468e+00 ||    612.44   3.166569e-01 1.298411e+00 1.615068e+00 || \n",
      "     8   144.65   7.478964e-02 -1.173436e+00 -1.098646e+00 ||    583.81   3.018548e-01 1.313250e+00 1.615105e+00 || \n",
      "     9   120.33   6.221600e-02 -1.161063e+00 -1.098847e+00 ||    531.21   2.746583e-01 1.340655e+00 1.615313e+00 || \n",
      "    10   110.88   5.732880e-02 -1.156357e+00 -1.099028e+00 ||    465.32   2.405909e-01 1.375082e+00 1.615673e+00 || \n",
      "    11   113.31   5.858733e-02 -1.157673e+00 -1.099086e+00 ||    399.63   2.066243e-01 1.409534e+00 1.616159e+00 || \n",
      "    12   123.74   6.398077e-02 -1.163004e+00 -1.099024e+00 ||    346.44   1.791213e-01 1.437480e+00 1.616601e+00 || \n",
      "    13   138.22   7.146492e-02 -1.170582e+00 -1.099117e+00 ||    313.39   1.620342e-01 1.454687e+00 1.616722e+00 || \n",
      "    14   153.48   7.935416e-02 -1.178476e+00 -1.099122e+00 ||    302.03   1.561638e-01 1.460408e+00 1.616571e+00 || \n",
      "    15   167.73   8.672437e-02 -1.185875e+00 -1.099151e+00 ||    309.03   1.597805e-01 1.456546e+00 1.616327e+00 || \n",
      "    16   181.03   9.359907e-02 -1.192868e+00 -1.099269e+00 ||    329.04   1.701248e-01 1.445952e+00 1.616077e+00 || \n",
      "    17   194.83   1.007326e-01 -1.199888e+00 -1.099155e+00 ||    357.46   1.848192e-01 1.431140e+00 1.615959e+00 || \n",
      "    18   211.11   1.091517e-01 -1.208236e+00 -1.099084e+00 ||    391.47   2.024037e-01 1.413552e+00 1.615955e+00 || \n",
      "    19   231.59   1.197434e-01 -1.218856e+00 -1.099113e+00 ||    429.09   2.218583e-01 1.394057e+00 1.615915e+00 || \n",
      "    20   257.10   1.329285e-01 -1.232156e+00 -1.099227e+00 ||    467.37   2.416489e-01 1.374112e+00 1.615761e+00 || \n",
      "CPU times: user 1.05 s, sys: 47.7 ms, total: 1.1 s\n",
      "Wall time: 1.19 s\n"
     ]
    }
   ],
   "source": [
    "%%time\n",
    "torch.manual_seed(0)\n",
    "\n",
    "species = torch.as_tensor([[8,6,1,1],[5,1,1,1]],dtype=torch.int64, device=device)[:]\n",
    "coordinates = torch.tensor([\n",
    "                  [\n",
    "                   [ 0.00,  0.0,  0.0],\n",
    "                   [ 1.22,  0.0,  0.0],\n",
    "                   [ 1.82,  0.94, 0.0],\n",
    "                   [ 1.82, -0.94, 0.0]\n",
    "                  ],\n",
    "                  [\n",
    "                   [ 0.00,  0.00,  0.00],\n",
    "                   [ 1.20,  0.00,  0.00],\n",
    "                   [-0.60,  1.03,  0.00],\n",
    "                   [-0.60, -1.03,  0.00]\n",
    "                  ]\n",
    "                 ], device=device)[:]\n",
    "\n",
    "const = Constants().to(device)\n",
    "\n",
    "seqm_parameters = {\n",
    "                   'method' : 'AM1',  # AM1, MNDO, PM#\n",
    "                   'scf_eps' : 1.0e-6,  # unit eV, change of electric energy, as nuclear energy doesnt' change during SCF\n",
    "                   'scf_converger' : [2], # converger used for scf loop\n",
    "                                         # [0, 0.1], [0, alpha] constant mixing, P = alpha*P + (1.0-alpha)*Pnew\n",
    "                                         # [1], adaptive mixing\n",
    "                                         # [2], adaptive mixing, then pulay\n",
    "                   }\n",
    "\n",
    "molecule = Molecule(const, seqm_parameters, coordinates, species).to(device)\n",
    "\n",
    "# Set k for the dissipative electronic force term. See https://aip.scitation.org/doi/full/10.1063/1.3148075 for details.\n",
    "output={'molid':[0, 1], 'thermo':1, 'dump':1, 'prefix':'Outputs/4_XL-BOMD'}\n",
    "xl_bomd_params={'k':6}\n",
    "\n",
    "md =  XL_BOMD(xl_bomd_params=xl_bomd_params,\n",
    "              seqm_parameters=seqm_parameters, timestep=0.4, output=output).to(device)\n",
    "md.initialize_velocity(molecule, Temperature = 400)\n",
    "#remove center of mass velocity\n",
    "# Info_log flag generates .txt wtih additional info for every step (orbital energies, dipole)\n",
    "_ = md.run(molecule, 20, remove_com=[True, 1], Info_log=True)"
   ]
  },
  {
   "cell_type": "markdown",
   "id": "1d7b5fb6-e384-44c3-af15-e42702387697",
   "metadata": {},
   "source": [
    "## Damping (Langevin)"
   ]
  },
  {
   "cell_type": "code",
   "execution_count": 3,
   "id": "7a854fbc-f561-4fe9-9d6b-9bfde65e4dbd",
   "metadata": {},
   "outputs": [
    {
     "name": "stdout",
     "output_type": "stream",
     "text": [
      "Doing initialization\n",
      "Step,    Temp,    E(kinetic),  E(potential),  E(total)\n",
      "     1   503.18   2.601635e-01 -1.360614e+00 -1.100450e+00 ||    385.34   1.992351e-01 1.420770e+00 1.620005e+00 || \n",
      "     2   486.94   2.517666e-01 -1.345797e+00 -1.094031e+00 ||    428.74   2.216735e-01 1.401220e+00 1.622894e+00 || \n",
      "     3   438.08   2.265071e-01 -1.320381e+00 -1.093874e+00 ||    474.05   2.451010e-01 1.373095e+00 1.618196e+00 || \n",
      "     4   365.93   1.892025e-01 -1.285074e+00 -1.095871e+00 ||    512.14   2.647955e-01 1.345560e+00 1.610355e+00 || \n",
      "     5   289.50   1.496840e-01 -1.249187e+00 -1.099503e+00 ||    536.42   2.773503e-01 1.320193e+00 1.597543e+00 || \n",
      "     6   219.26   1.133658e-01 -1.214387e+00 -1.101022e+00 ||    540.18   2.792936e-01 1.301993e+00 1.581286e+00 || \n",
      "     7   162.50   8.401837e-02 -1.185579e+00 -1.101561e+00 ||    540.03   2.792180e-01 1.294337e+00 1.573555e+00 || \n",
      "     8   139.94   7.235205e-02 -1.166973e+00 -1.094621e+00 ||    533.28   2.757260e-01 1.299902e+00 1.575628e+00 || \n",
      "     9   127.80   6.607621e-02 -1.154893e+00 -1.088816e+00 ||    508.97   2.631601e-01 1.316114e+00 1.579274e+00 || \n",
      "    10   115.28   5.960341e-02 -1.148069e+00 -1.088465e+00 ||    470.41   2.432227e-01 1.343161e+00 1.586384e+00 || \n",
      "CPU times: user 558 ms, sys: 22.8 ms, total: 581 ms\n",
      "Wall time: 608 ms\n"
     ]
    }
   ],
   "source": [
    "%%time\n",
    "torch.manual_seed(0)\n",
    "\n",
    "species = torch.as_tensor([[8,6,1,1],[5,1,1,1]],dtype=torch.int64, device=device)[:]\n",
    "coordinates = torch.tensor([\n",
    "                  [\n",
    "                   [ 0.00,  0.0,  0.0],\n",
    "                   [ 1.22,  0.0,  0.0],\n",
    "                   [ 1.82,  0.94, 0.0],\n",
    "                   [ 1.82, -0.94, 0.0]\n",
    "                  ],\n",
    "                  [\n",
    "                   [ 0.00,  0.00,  0.00],\n",
    "                   [ 1.20,  0.00,  0.00],\n",
    "                   [-0.60,  1.03,  0.00],\n",
    "                   [-0.60, -1.03,  0.00]\n",
    "                  ]\n",
    "                 ], device=device)[:]\n",
    "\n",
    "const = Constants().to(device)\n",
    "\n",
    "elements = [0]+sorted(set(species.reshape(-1).tolist()))\n",
    "seqm_parameters = {\n",
    "                   'method' : 'AM1',  # AM1, MNDO, PM#\n",
    "                   'scf_eps' : 1.0e-6,  # unit eV, change of electric energy, as nuclear energy doesnt' change during SCF\n",
    "                   'scf_converger' : [2,0.0], # converger used for scf loop\n",
    "                                         # [0, 0.1], [0, alpha] constant mixing, P = alpha*P + (1.0-alpha)*Pnew\n",
    "                                         # [1], adaptive mixing\n",
    "                                         # [2], adaptive mixing, then pulay\n",
    "                   'sp2' : [False, 1.0e-5],  # whether to use sp2 algorithm in scf loop,\n",
    "                                            #[True, eps] or [False], eps for SP2 conve criteria\n",
    "                   'elements' : elements, #[0,1,6,8],\n",
    "                   'learned' : [], # learned parameters name list, e.g ['U_ss']\n",
    "                   #'parameter_file_dir' : '../seqm/params/', # file directory for other required parameters\n",
    "                   'pair_outer_cutoff' : 1.0e10, # consistent with the unit on coordinates\n",
    "                   'eig' : True\n",
    "                   }\n",
    "\n",
    "\n",
    "molecule = Molecule(const, seqm_parameters, coordinates, species).to(device)\n",
    "\n",
    "# Set k for the dissipative electronic force term. See https://aip.scitation.org/doi/full/10.1063/1.3148075 for details.\n",
    "output={'molid':[0, 1], 'thermo':1, 'dump':1, 'prefix':'Outputs/4_XL-BOMD_damp'}\n",
    "xl_bomd_params={'k':6}\n",
    "\n",
    "md =  XL_BOMD(xl_bomd_params=xl_bomd_params, damp=100.0,\n",
    "              seqm_parameters=seqm_parameters, Temp=400.0, timestep=0.4, output=output).to(device)\n",
    "md.initialize_velocity(molecule, Temperature = 400)\n",
    "#remove center of mass velocity\n",
    "# Info_log flag generates .txt wtih additional info for every step (orbital energies, dipole)\n",
    "_ = md.run(molecule, 10, remove_com=[True, 1], Info_log=True)"
   ]
  }
 ],
 "metadata": {
  "kernelspec": {
   "display_name": "base",
   "language": "python",
   "name": "python3"
  },
  "language_info": {
   "codemirror_mode": {
    "name": "ipython",
    "version": 3
   },
   "file_extension": ".py",
   "mimetype": "text/x-python",
   "name": "python",
   "nbconvert_exporter": "python",
   "pygments_lexer": "ipython3",
   "version": "3.11.10"
  }
 },
 "nbformat": 4,
 "nbformat_minor": 5
}
