{
 "cells": [
  {
   "cell_type": "markdown",
   "id": "fcfb8b0a-1b5d-4de4-97f1-9228b2dffcbc",
   "metadata": {
    "tags": []
   },
   "source": [
    "# Example of geometry optimization\n",
    "## Batch of two molecules"
   ]
  },
  {
   "cell_type": "code",
   "execution_count": 5,
   "id": "af25061b-d7f2-407c-8cb0-130049fcc6cb",
   "metadata": {},
   "outputs": [],
   "source": [
    "import torch\n",
    "from seqm.seqm_functions.constants import Constants\n",
    "from seqm.Molecule import Molecule\n",
    "from seqm.MolecularDynamics import Geometry_Optimization_SD\n",
    "from seqm.seqm_functions.read_xyz import read_xyz\n",
    "from seqm.seqm_functions.save_xyz import save_xyz\n",
    "torch.set_default_dtype(torch.float64)\n",
    "if torch.cuda.is_available():\n",
    "    device = torch.device('cuda')\n",
    "else:\n",
    "    device = torch.device('cpu')"
   ]
  },
  {
   "cell_type": "code",
   "execution_count": 6,
   "id": "b30a529c-d535-4226-915e-b4aa69cd4600",
   "metadata": {
    "scrolled": true,
    "tags": []
   },
   "outputs": [
    {
     "name": "stdout",
     "output_type": "stream",
     "text": [
      "Step,  Max_Force,      Etot(eV),     dE(eV)\n",
      "1      1.219416e+00 ||-4.402169e+02 -4.402169e+02 ||-4.402169e+02 -4.402169e+02 ||-3.189865e+02 -3.189865e+02 \n",
      "2      1.014750e+00 ||-4.402244e+02 -7.516916e-03 ||-4.402244e+02 -7.516916e-03 ||-3.190117e+02 -2.520887e-02 \n",
      "3      8.513715e-01 ||-4.402275e+02 -3.082785e-03 ||-4.402275e+02 -3.082785e-03 ||-3.190291e+02 -1.740418e-02 \n",
      "4      7.188886e-01 ||-4.402291e+02 -1.595697e-03 ||-4.402291e+02 -1.595697e-03 ||-3.190414e+02 -1.231480e-02 \n",
      "5      6.102487e-01 ||-4.402300e+02 -8.545348e-04 ||-4.402300e+02 -8.545348e-04 ||-3.190503e+02 -8.882842e-03 \n",
      "6      5.204406e-01 ||-4.402304e+02 -4.601459e-04 ||-4.402304e+02 -4.601459e-04 ||-3.190568e+02 -6.501733e-03 \n",
      "7      4.456788e-01 ||-4.402307e+02 -2.481912e-04 ||-4.402307e+02 -2.481912e-04 ||-3.190616e+02 -4.818269e-03 \n",
      "8      3.830912e-01 ||-4.402308e+02 -1.342557e-04 ||-4.402308e+02 -1.342557e-04 ||-3.190652e+02 -3.610380e-03 \n",
      "9      3.304350e-01 ||-4.402309e+02 -7.309691e-05 ||-4.402309e+02 -7.309691e-05 ||-3.190680e+02 -2.732253e-03 \n",
      "10      2.859265e-01 ||-4.402309e+02 -4.026584e-05 ||-4.402309e+02 -4.026584e-05 ||-3.190700e+02 -2.085923e-03 \n",
      "11      2.481314e-01 ||-4.402309e+02 -2.256843e-05 ||-4.402309e+02 -2.256843e-05 ||-3.190717e+02 -1.603623e-03 \n",
      "12      2.159358e-01 ||-4.402309e+02 -1.297741e-05 ||-4.402309e+02 -1.297741e-05 ||-3.190729e+02 -1.240692e-03 \n",
      "13      1.883835e-01 ||-4.402310e+02 -7.730823e-06 ||-4.402310e+02 -7.730823e-06 ||-3.190739e+02 -9.644761e-04 \n",
      "14      1.647046e-01 ||-4.402310e+02 -4.818114e-06 ||-4.402310e+02 -4.818114e-06 ||-3.190746e+02 -7.523787e-04 \n",
      "15      1.442787e-01 ||-4.402310e+02 -3.164973e-06 ||-4.402310e+02 -3.164973e-06 ||-3.190752e+02 -5.883946e-04 \n",
      "16      1.265990e-01 ||-4.402310e+02 -2.197008e-06 ||-4.402310e+02 -2.197008e-06 ||-3.190757e+02 -4.609031e-04 \n",
      "17      1.112481e-01 ||-4.402310e+02 -1.606415e-06 ||-4.402310e+02 -1.606415e-06 ||-3.190760e+02 -3.614136e-04 \n",
      "18      9.788108e-02 ||-4.402310e+02 -1.229619e-06 ||-4.402310e+02 -1.229619e-06 ||-3.190763e+02 -2.835719e-04 \n",
      "19      8.621184e-02 ||-4.402310e+02 -9.712674e-07 ||-4.402310e+02 -9.712674e-07 ||-3.190765e+02 -2.225607e-04 \n",
      "20      7.600183e-02 ||-4.402310e+02 -7.874569e-07 ||-4.402310e+02 -7.874569e-07 ||-3.190767e+02 -1.746888e-04 \n",
      "21      6.705109e-02 ||-4.402310e+02 -6.476677e-07 ||-4.402310e+02 -6.476677e-07 ||-3.190768e+02 -1.371039e-04 \n",
      "22      5.919107e-02 ||-4.402310e+02 -5.391314e-07 ||-4.402310e+02 -5.391314e-07 ||-3.190769e+02 -1.075879e-04 \n",
      "23      5.227894e-02 ||-4.402310e+02 -4.548870e-07 ||-4.402310e+02 -4.548870e-07 ||-3.190770e+02 -8.440798e-05 \n",
      "24      4.620394e-02 ||-4.402310e+02 -3.816147e-07 ||-4.402310e+02 -3.816147e-07 ||-3.190771e+02 -6.625192e-05 \n",
      "25      4.083964e-02 ||-4.402310e+02 -3.256010e-07 ||-4.402310e+02 -3.256010e-07 ||-3.190771e+02 -5.193651e-05 \n",
      "26      3.610708e-02 ||-4.402310e+02 -2.772840e-07 ||-4.402310e+02 -2.772840e-07 ||-3.190772e+02 -4.071036e-05 \n",
      "27      3.192913e-02 ||-4.402310e+02 -2.343463e-07 ||-4.402310e+02 -2.343463e-07 ||-3.190772e+02 -3.190329e-05 \n",
      "28      2.823883e-02 ||-4.402310e+02 -1.993220e-07 ||-4.402310e+02 -1.993220e-07 ||-3.190772e+02 -2.499620e-05 \n",
      "29      2.497786e-02 ||-4.402310e+02 -1.697587e-07 ||-4.402310e+02 -1.697587e-07 ||-3.190773e+02 -1.958071e-05 \n",
      "30      2.209528e-02 ||-4.402310e+02 -1.448689e-07 ||-4.402310e+02 -1.448689e-07 ||-3.190773e+02 -1.533581e-05 \n",
      "31      1.954652e-02 ||-4.402310e+02 -1.235807e-07 ||-4.402310e+02 -1.235807e-07 ||-3.190773e+02 -1.200927e-05 \n",
      "32      1.729245e-02 ||-4.402310e+02 -1.055053e-07 ||-4.402310e+02 -1.055053e-07 ||-3.190773e+02 -9.402968e-06 \n",
      "33      1.529867e-02 ||-4.402310e+02 -9.004259e-08 ||-4.402310e+02 -9.004259e-08 ||-3.190773e+02 -7.361374e-06 \n",
      "34      1.355173e-02 ||-4.402310e+02 -7.687407e-08 ||-4.402310e+02 -7.687407e-08 ||-3.190773e+02 -5.744744e-06 \n",
      "35      1.199043e-02 ||-4.402310e+02 -6.561794e-08 ||-4.402310e+02 -6.561794e-08 ||-3.190773e+02 -4.524463e-06 \n",
      "36      1.060767e-02 ||-4.402310e+02 -5.602260e-08 ||-4.402310e+02 -5.602260e-08 ||-3.190773e+02 -3.539494e-06 \n",
      "37      9.383959e-03 ||-4.402310e+02 -4.782288e-08 ||-4.402310e+02 -4.782288e-08 ||-3.190773e+02 -2.767928e-06 \n",
      "converged with 37 step, Max Force = 9.383959e-03 (eV/Ang), dE = -9.545244e-07 (eV)\n",
      "CPU times: user 2.14 s, sys: 67.3 ms, total: 2.21 s\n",
      "Wall time: 2.19 s\n"
     ]
    }
   ],
   "source": [
    "%%time\n",
    "\n",
    "species = torch.as_tensor([[8,6,1,1],\n",
    "                           [8,6,1,1],\n",
    "                           [8,1,1,0]], # zero-padding for batching\n",
    "                          dtype=torch.int64, device=device)\n",
    "\n",
    "coordinates = torch.tensor([\n",
    "                              [\n",
    "                               [0.00,    0.00,    0.00],\n",
    "                               [1.22,    0.00,    0.00],\n",
    "                               [1.82,    0.94,    0.00],\n",
    "                               [1.82,   -0.94,    0.00]\n",
    "                              ],\n",
    "                              [\n",
    "                               [0.00,    0.00,    0.00],\n",
    "                               [1.22,    0.00,    0.00],\n",
    "                               [1.82,    0.94,    0.00],\n",
    "                               [1.82,   -0.94,    0.00]\n",
    "                              ],\n",
    "                              [\n",
    "                               [ 0.00,    0.00,    0.00],\n",
    "                               [ 0.96,    0.00,    0.00],\n",
    "                               [-0.45,   -0.57,    0.67],\n",
    "                               [0.0,0.0,0.0]            # zero-padding for batching\n",
    "                              ]\n",
    "                            ], device=device)\n",
    "\n",
    "const = Constants().to(device)\n",
    "#may need to add scaling factor for length and energy on const, check constants.py\n",
    "\n",
    "elements = [0]+sorted(set(species.reshape(-1).tolist()))\n",
    "seqm_parameters = {\n",
    "                   'method' : 'PM6_SP', # AM1, MNDO, PM3, PM6, PM6_SP. PM6_SP is PM6 without d-orbitals. Effectively, PM6 for the first two rows of periodic table\n",
    "                   'scf_eps' : 1.0e-6,  # unit eV, change of electric energy, as nuclear energy doesnt' change during SCF\n",
    "                   'scf_converger' : [1,0.0], # converger used for scf loop\n",
    "                                         # [0, 0.1], [0, alpha] constant mixing, P = alpha*P + (1.0-alpha)*Pnew\n",
    "                                         # [1], adaptive mixing\n",
    "                                         # [2], adaptive mixing, then pulay\n",
    "                   'sp2' : [False, 1.0e-5],  # whether to use sp2 algorithm in scf loop,\n",
    "                                            #[True, eps] or [False], eps for SP2 conve criteria\n",
    "                   'elements' : elements, #[0,1,6,8],\n",
    "                   'learned' : [], # learned parameters name list, e.g ['U_ss']\n",
    "                   #'parameter_file_dir' : '../seqm/params/', # file directory for other required parameters\n",
    "                   'pair_outer_cutoff' : 1.0e10, # consistent with the unit on coordinates\n",
    "                   'eig' : True\n",
    "                   }\n",
    "\n",
    "molecule = Molecule(const, seqm_parameters, coordinates, species).to(device)\n",
    "\n",
    "opt =  Geometry_Optimization_SD(seqm_parameters, alpha=0.008, force_tol=1.0e-2, max_evl=40).to(device)\n",
    "max_force, dE =  opt.run(molecule)"
   ]
  },
  {
   "cell_type": "markdown",
   "id": "154e82a3-bb82-4cb4-ba73-e680ce649487",
   "metadata": {},
   "source": [
    "### Final forces and optimized geometry"
   ]
  },
  {
   "cell_type": "code",
   "execution_count": 7,
   "id": "5d4a465c-c235-4388-bffd-ce3182b5a51a",
   "metadata": {},
   "outputs": [
    {
     "data": {
      "text/plain": [
       "tensor([[[ 7.3700e-04, -1.8319e-15, -2.0022e-16],\n",
       "         [ 7.7385e-04, -1.7587e-14,  8.2331e-16],\n",
       "         [-7.5543e-04,  1.2139e-03, -1.2276e-15],\n",
       "         [-7.5543e-04, -1.2139e-03,  6.0452e-16]],\n",
       "\n",
       "        [[ 7.3700e-04, -1.8319e-15, -2.0022e-16],\n",
       "         [ 7.7385e-04, -1.7587e-14,  8.2331e-16],\n",
       "         [-7.5543e-04,  1.2139e-03, -1.2276e-15],\n",
       "         [-7.5543e-04, -1.2139e-03,  6.0452e-16]],\n",
       "\n",
       "        [[-5.5576e-03,  5.8197e-03, -6.8407e-03],\n",
       "         [-3.8264e-03, -5.5583e-03,  6.5334e-03],\n",
       "         [ 9.3840e-03, -2.6143e-04,  3.0729e-04],\n",
       "         [-0.0000e+00, -0.0000e+00, -0.0000e+00]]])"
      ]
     },
     "execution_count": 7,
     "metadata": {},
     "output_type": "execute_result"
    }
   ],
   "source": [
    "molecule.force"
   ]
  },
  {
   "cell_type": "code",
   "execution_count": 8,
   "id": "a504df8b-e33d-4782-868c-c4e086d3bc2d",
   "metadata": {},
   "outputs": [
    {
     "data": {
      "text/plain": [
       "Parameter containing:\n",
       "tensor([[[ 1.5828e-02,  4.8139e-16,  1.7967e-16],\n",
       "         [ 1.2266e+00, -4.0215e-16, -1.0548e-16],\n",
       "         [ 1.8088e+00,  9.3016e-01,  5.2400e-16],\n",
       "         [ 1.8088e+00, -9.3016e-01, -5.9819e-16]],\n",
       "\n",
       "        [[ 1.5828e-02,  4.8139e-16,  1.7967e-16],\n",
       "         [ 1.2266e+00, -4.0215e-16, -1.0548e-16],\n",
       "         [ 1.8088e+00,  9.3016e-01,  5.2400e-16],\n",
       "         [ 1.8088e+00, -9.3016e-01, -5.9819e-16]],\n",
       "\n",
       "        [[-2.6290e-02,  1.5550e-02, -1.8278e-02],\n",
       "         [ 9.1952e-01, -3.1598e-02,  3.7142e-02],\n",
       "         [-3.8323e-01, -5.5395e-01,  6.5114e-01],\n",
       "         [ 0.0000e+00,  0.0000e+00,  0.0000e+00]]], requires_grad=True)"
      ]
     },
     "execution_count": 8,
     "metadata": {},
     "output_type": "execute_result"
    }
   ],
   "source": [
    "molecule.coordinates"
   ]
  },
  {
   "cell_type": "markdown",
   "id": "c8cffcd0-cef3-46e3-adca-f480ac24bd2a",
   "metadata": {
    "tags": []
   },
   "source": [
    "### Save optimized geometries to .xyz files without final forces."
   ]
  },
  {
   "cell_type": "code",
   "execution_count": 9,
   "id": "743749ab-4b83-4e80-9187-ae058890ee07",
   "metadata": {},
   "outputs": [],
   "source": [
    "save_xyz(molecule, 'XYZ', Forces=False)"
   ]
  },
  {
   "cell_type": "markdown",
   "id": "7135cc73-c007-421f-a320-6d78fc013113",
   "metadata": {},
   "source": [
    "## Reading starting geometries from .xyz\n",
    "### Only molecules of the same length are supported for batched xyz_reader."
   ]
  },
  {
   "cell_type": "code",
   "execution_count": 10,
   "id": "6a917094-7115-4f17-9d7d-b851c79551bd",
   "metadata": {
    "scrolled": true,
    "tags": []
   },
   "outputs": [
    {
     "name": "stdout",
     "output_type": "stream",
     "text": [
      "Step,  Max_Force,      Etot(eV),     dE(eV)\n",
      "1      6.242161e-01 ||-3.237053e+03 -3.237053e+03 ||-3.237053e+03 -3.237053e+03 \n",
      "2      2.846753e-01 ||-3.237106e+03 -5.207988e-02 ||-3.237106e+03 -5.207988e-02 \n",
      "3      1.642115e-01 ||-3.237114e+03 -8.720791e-03 ||-3.237114e+03 -8.720791e-03 \n",
      "4      1.090901e-01 ||-3.237117e+03 -3.229136e-03 ||-3.237117e+03 -3.229136e-03 \n",
      "5      7.972116e-02 ||-3.237119e+03 -1.526681e-03 ||-3.237119e+03 -1.526681e-03 \n",
      "6      6.578258e-02 ||-3.237120e+03 -8.114308e-04 ||-3.237120e+03 -8.114309e-04 \n",
      "7      5.700082e-02 ||-3.237120e+03 -4.873348e-04 ||-3.237120e+03 -4.873348e-04 \n",
      "8      5.190370e-02 ||-3.237121e+03 -3.309183e-04 ||-3.237121e+03 -3.309183e-04 \n",
      "9      4.919277e-02 ||-3.237121e+03 -2.542498e-04 ||-3.237121e+03 -2.542498e-04 \n",
      "10      4.607878e-02 ||-3.237121e+03 -2.128771e-04 ||-3.237121e+03 -2.128771e-04 \n",
      "11      4.399420e-02 ||-3.237121e+03 -1.838383e-04 ||-3.237121e+03 -1.838383e-04 \n",
      "12      4.213327e-02 ||-3.237121e+03 -1.655425e-04 ||-3.237121e+03 -1.655425e-04 \n",
      "13      4.040848e-02 ||-3.237122e+03 -1.509495e-04 ||-3.237122e+03 -1.509495e-04 \n",
      "14      3.878770e-02 ||-3.237122e+03 -1.386190e-04 ||-3.237122e+03 -1.386190e-04 \n",
      "15      3.714720e-02 ||-3.237122e+03 -1.273354e-04 ||-3.237122e+03 -1.273354e-04 \n",
      "16      3.575185e-02 ||-3.237122e+03 -1.178522e-04 ||-3.237122e+03 -1.178521e-04 \n",
      "17      3.428419e-02 ||-3.237122e+03 -1.088022e-04 ||-3.237122e+03 -1.088022e-04 \n",
      "18      3.292584e-02 ||-3.237122e+03 -1.005541e-04 ||-3.237122e+03 -1.005541e-04 \n",
      "19      3.164431e-02 ||-3.237122e+03 -9.315939e-05 ||-3.237122e+03 -9.315940e-05 \n",
      "20      3.042770e-02 ||-3.237122e+03 -8.636467e-05 ||-3.237122e+03 -8.636467e-05 \n",
      "21      2.926661e-02 ||-3.237122e+03 -8.010224e-05 ||-3.237122e+03 -8.010224e-05 \n",
      "22      2.815606e-02 ||-3.237123e+03 -7.431773e-05 ||-3.237123e+03 -7.431773e-05 \n",
      "23      2.698631e-02 ||-3.237123e+03 -6.859083e-05 ||-3.237123e+03 -6.859083e-05 \n",
      "24      2.602606e-02 ||-3.237123e+03 -6.390650e-05 ||-3.237123e+03 -6.390650e-05 \n",
      "25      2.497107e-02 ||-3.237123e+03 -5.911439e-05 ||-3.237123e+03 -5.911441e-05 \n",
      "26      2.403516e-02 ||-3.237123e+03 -5.477419e-05 ||-3.237123e+03 -5.477417e-05 \n",
      "27      2.316573e-02 ||-3.237123e+03 -5.088915e-05 ||-3.237123e+03 -5.088916e-05 \n",
      "28      2.233728e-02 ||-3.237123e+03 -4.730887e-05 ||-3.237123e+03 -4.730887e-05 \n",
      "29      2.154379e-02 ||-3.237123e+03 -4.399666e-05 ||-3.237123e+03 -4.399666e-05 \n",
      "30      2.078177e-02 ||-3.237123e+03 -4.092246e-05 ||-3.237123e+03 -4.092247e-05 \n",
      "31      2.004876e-02 ||-3.237123e+03 -3.806793e-05 ||-3.237123e+03 -3.806793e-05 \n",
      "32      1.934293e-02 ||-3.237123e+03 -3.541617e-05 ||-3.237123e+03 -3.541617e-05 \n",
      "33      1.866287e-02 ||-3.237123e+03 -3.295240e-05 ||-3.237123e+03 -3.295240e-05 \n",
      "34      1.790306e-02 ||-3.237123e+03 -3.032863e-05 ||-3.237123e+03 -3.032863e-05 \n",
      "35      1.732607e-02 ||-3.237123e+03 -2.845638e-05 ||-3.237123e+03 -2.845638e-05 \n",
      "36      1.663737e-02 ||-3.237123e+03 -2.624263e-05 ||-3.237123e+03 -2.624263e-05 \n",
      "37      1.611732e-02 ||-3.237123e+03 -2.468828e-05 ||-3.237123e+03 -2.468828e-05 \n",
      "38      1.548307e-02 ||-3.237123e+03 -2.275450e-05 ||-3.237123e+03 -2.275449e-05 \n",
      "39      1.490327e-02 ||-3.237123e+03 -2.110446e-05 ||-3.237123e+03 -2.110446e-05 \n",
      "40      1.435846e-02 ||-3.237123e+03 -1.964354e-05 ||-3.237123e+03 -1.964354e-05 \n",
      "41      1.384283e-02 ||-3.237123e+03 -1.830179e-05 ||-3.237123e+03 -1.830179e-05 \n",
      "42      1.335166e-02 ||-3.237123e+03 -1.706298e-05 ||-3.237123e+03 -1.706297e-05 \n",
      "43      1.288215e-02 ||-3.237123e+03 -1.591133e-05 ||-3.237123e+03 -1.591133e-05 \n",
      "44      1.243207e-02 ||-3.237123e+03 -1.483907e-05 ||-3.237123e+03 -1.483907e-05 \n",
      "45      1.199977e-02 ||-3.237123e+03 -1.383943e-05 ||-3.237123e+03 -1.383943e-05 \n",
      "46      1.158398e-02 ||-3.237123e+03 -1.290706e-05 ||-3.237123e+03 -1.290706e-05 \n",
      "47      1.118364e-02 ||-3.237123e+03 -1.203752e-05 ||-3.237123e+03 -1.203752e-05 \n",
      "48      1.069198e-02 ||-3.237123e+03 -1.091602e-05 ||-3.237123e+03 -1.091602e-05 \n",
      "49      1.036457e-02 ||-3.237123e+03 -1.042120e-05 ||-3.237123e+03 -1.042120e-05 \n",
      "50      1.002875e-02 ||-3.237123e+03 -9.773794e-06 ||-3.237123e+03 -9.773783e-06 \n",
      "51      9.595824e-03 ||-3.237123e+03 -8.834526e-06 ||-3.237123e+03 -8.834526e-06 \n",
      "converged with 51 step, Max Force = 9.595824e-03 (eV/Ang), dE = -8.834526e-06 (eV)\n",
      "CPU times: user 5.55 s, sys: 1.16 s, total: 6.71 s\n",
      "Wall time: 5.39 s\n"
     ]
    }
   ],
   "source": [
    "%%time\n",
    "torch.manual_seed(0)\n",
    "files = ['coronene.xyz', 'coronene.xyz']\n",
    "\n",
    "species, coordinates = read_xyz(files)\n",
    "species = torch.as_tensor(species,dtype=torch.int64, device=device)[:]\n",
    "coordinates = torch.tensor(coordinates, device=device)[:]\n",
    "const = Constants().to(device)\n",
    "#may need to add scaling factor for length and energy on const, check constants.py\n",
    "\n",
    "elements = [0]+sorted(set(species.reshape(-1).tolist()))\n",
    "seqm_parameters = {\n",
    "                   'method' : 'AM1',  # AM1, MNDO, PM3, PM6, PM6_SP. PM6_SP is PM6 without d-orbitals. Effectively, PM6 for the first two rows of periodic table\n",
    "                   'scf_eps' : 1.0e-6,  # unit eV, change of electric energy, as nuclear energy doesnt' change during SCF\n",
    "                   'scf_converger' : [2,0.0], # converger used for scf loop\n",
    "                                         # [0, 0.1], [0, alpha] constant mixing, P = alpha*P + (1.0-alpha)*Pnew\n",
    "                                         # [1], adaptive mixing\n",
    "                                         # [2], adaptive mixing, then pulay\n",
    "                   'sp2' : [False, 1.0e-5],  # whether to use sp2 algorithm in scf loop,\n",
    "                                            #[True, eps] or [False], eps for SP2 conve criteria\n",
    "                   'elements' : elements, #[0,1,6,8],\n",
    "                   'learned' : [], # learned parameters name list, e.g ['U_ss']\n",
    "                   #'parameter_file_dir' : '../seqm/params/', # file directory for other required parameters\n",
    "                   'pair_outer_cutoff' : 1.0e10, # consistent with the unit on coordinates\n",
    "                   'eig' : True\n",
    "                   }\n",
    "\n",
    "molecule = Molecule(const, seqm_parameters, coordinates, species).to(device)\n",
    "\n",
    "opt =  Geometry_Optimization_SD(seqm_parameters, alpha=0.007, force_tol=1.0e-2, max_evl=60).to(device)\n",
    "max_force, dE =  opt.run(molecule)"
   ]
  },
  {
   "cell_type": "markdown",
   "id": "b929e41f-c665-41fc-9dc2-74321ccb7e7a",
   "metadata": {},
   "source": [
    "### Alternatively, use zero-padding in .xyz files for molecules of different lengths."
   ]
  },
  {
   "cell_type": "code",
   "execution_count": 11,
   "id": "c9ede1a5-90b8-4f84-a3ae-ef539f1901eb",
   "metadata": {
    "scrolled": true,
    "tags": []
   },
   "outputs": [
    {
     "name": "stdout",
     "output_type": "stream",
     "text": [
      "Step,  Max_Force,      Etot(eV),     dE(eV)\n",
      "1      6.242236e-01 ||-3.237053e+03 -3.237053e+03 ||-8.503173e+02 -8.503173e+02 \n",
      "2      2.846696e-01 ||-3.237106e+03 -5.207994e-02 ||-8.503303e+02 -1.305697e-02 \n",
      "3      1.721282e-01 ||-3.237114e+03 -8.720733e-03 ||-8.503324e+02 -2.044671e-03 \n",
      "4      1.387342e-01 ||-3.237117e+03 -3.229139e-03 ||-8.503336e+02 -1.214895e-03 \n",
      "5      1.147022e-01 ||-3.237119e+03 -1.526679e-03 ||-8.503344e+02 -8.351382e-04 \n",
      "6      9.538084e-02 ||-3.237120e+03 -8.114295e-04 ||-8.503350e+02 -5.785304e-04 \n",
      "7      7.943185e-02 ||-3.237120e+03 -4.873330e-04 ||-8.503354e+02 -4.012143e-04 \n",
      "8      6.595378e-02 ||-3.237121e+03 -3.310854e-04 ||-8.503357e+02 -2.779792e-04 \n",
      "9      5.515255e-02 ||-3.237121e+03 -2.542099e-04 ||-8.503359e+02 -1.929875e-04 \n",
      "10      4.597942e-02 ||-3.237121e+03 -2.125263e-04 ||-8.503360e+02 -1.341497e-04 \n",
      "11      4.395084e-02 ||-3.237121e+03 -1.834084e-04 ||-8.503361e+02 -9.272896e-05 \n",
      "12      4.211763e-02 ||-3.237121e+03 -1.655973e-04 ||-8.503362e+02 -6.472449e-05 \n",
      "13      4.040424e-02 ||-3.237122e+03 -1.510165e-04 ||-8.503362e+02 -4.506623e-05 \n",
      "14      3.878837e-02 ||-3.237122e+03 -1.386753e-04 ||-8.503362e+02 -3.144409e-05 \n",
      "15      3.714979e-02 ||-3.237122e+03 -1.273758e-04 ||-8.503363e+02 -2.200761e-05 \n",
      "16      3.575547e-02 ||-3.237122e+03 -1.178894e-04 ||-8.503363e+02 -1.530608e-05 \n",
      "17      3.428817e-02 ||-3.237122e+03 -1.088335e-04 ||-8.503363e+02 -1.070023e-05 \n",
      "18      3.292993e-02 ||-3.237122e+03 -1.005821e-04 ||-8.503363e+02 -7.519003e-06 \n",
      "19      3.164840e-02 ||-3.237122e+03 -9.318502e-05 ||-8.503363e+02 -5.189905e-06 \n",
      "20      3.043173e-02 ||-3.237122e+03 -8.638813e-05 ||-8.503363e+02 -3.628459e-06 \n",
      "21      2.927054e-02 ||-3.237122e+03 -8.012388e-05 ||-8.503363e+02 -2.560593e-06 \n",
      "22      2.815987e-02 ||-3.237123e+03 -7.433763e-05 ||-8.503363e+02 -1.822536e-06 \n",
      "23      2.698997e-02 ||-3.237123e+03 -6.860886e-05 ||-8.503363e+02 -1.307281e-06 \n",
      "24      2.602960e-02 ||-3.237123e+03 -6.392341e-05 ||-8.503363e+02 -9.441387e-07 \n",
      "25      2.497446e-02 ||-3.237123e+03 -5.912984e-05 ||-8.503363e+02 -6.859564e-07 \n",
      "26      2.403808e-02 ||-3.237123e+03 -5.478848e-05 ||-8.503363e+02 -5.009297e-07 \n",
      "27      2.316856e-02 ||-3.237123e+03 -5.090230e-05 ||-8.503363e+02 -3.673913e-07 \n",
      "28      2.234002e-02 ||-3.237123e+03 -4.732111e-05 ||-8.503363e+02 -2.704128e-07 \n",
      "29      2.154644e-02 ||-3.237123e+03 -4.400797e-05 ||-8.503363e+02 -1.996209e-07 \n",
      "30      2.078434e-02 ||-3.237123e+03 -4.093298e-05 ||-8.503363e+02 -1.477001e-07 \n",
      "31      2.005124e-02 ||-3.237123e+03 -3.807766e-05 ||-8.503363e+02 -1.094882e-07 \n",
      "32      1.934533e-02 ||-3.237123e+03 -3.542523e-05 ||-8.503363e+02 -8.127017e-08 \n",
      "33      1.866518e-02 ||-3.237123e+03 -3.296078e-05 ||-8.503363e+02 -6.039363e-08 \n",
      "34      1.790528e-02 ||-3.237123e+03 -3.033630e-05 ||-8.503363e+02 -4.490812e-08 \n",
      "35      1.732822e-02 ||-3.237123e+03 -2.846356e-05 ||-8.503363e+02 -3.341165e-08 \n",
      "36      1.663944e-02 ||-3.237123e+03 -2.624928e-05 ||-8.503363e+02 -2.486559e-08 \n",
      "37      1.611933e-02 ||-3.237123e+03 -2.469447e-05 ||-8.503363e+02 -1.850412e-08 \n",
      "38      1.548500e-02 ||-3.237123e+03 -2.276022e-05 ||-8.503363e+02 -1.377384e-08 \n",
      "39      1.490512e-02 ||-3.237123e+03 -2.110981e-05 ||-8.503363e+02 -1.024955e-08 \n",
      "40      1.436024e-02 ||-3.237123e+03 -1.964844e-05 ||-8.503363e+02 -7.626113e-09 \n",
      "41      1.384454e-02 ||-3.237123e+03 -1.830634e-05 ||-8.503363e+02 -5.670245e-09 \n",
      "42      1.335332e-02 ||-3.237123e+03 -1.706726e-05 ||-8.503363e+02 -4.215963e-09 \n",
      "43      1.288375e-02 ||-3.237123e+03 -1.591532e-05 ||-8.503363e+02 -3.136392e-09 \n",
      "44      1.243361e-02 ||-3.237123e+03 -1.484276e-05 ||-8.503363e+02 -2.328306e-09 \n",
      "45      1.200126e-02 ||-3.237123e+03 -1.384282e-05 ||-8.503363e+02 -1.728495e-09 \n",
      "46      1.158541e-02 ||-3.237123e+03 -1.291032e-05 ||-8.503363e+02 -1.281933e-09 \n",
      "47      1.118503e-02 ||-3.237123e+03 -1.204055e-05 ||-8.503363e+02 -9.517862e-10 \n",
      "48      1.069330e-02 ||-3.237123e+03 -1.091868e-05 ||-8.503363e+02 -7.075869e-10 \n",
      "49      1.036585e-02 ||-3.237123e+03 -1.042376e-05 ||-8.503363e+02 -5.220500e-10 \n",
      "50      1.002999e-02 ||-3.237123e+03 -9.776264e-06 ||-8.503363e+02 -3.883542e-10 \n",
      "51      9.597012e-03 ||-3.237123e+03 -8.836698e-06 ||-8.503363e+02 -2.883098e-10 \n",
      "converged with 51 step, Max Force = 9.597012e-03 (eV/Ang), dE = -4.418493e-06 (eV)\n",
      "CPU times: user 4.22 s, sys: 582 ms, total: 4.8 s\n",
      "Wall time: 4.21 s\n"
     ]
    }
   ],
   "source": [
    "%%time\n",
    "torch.manual_seed(0)\n",
    "files = ['coronene.xyz', 'benzene_zero_pad.xyz']\n",
    "\n",
    "species, coordinates = read_xyz(files)\n",
    "species = torch.as_tensor(species,dtype=torch.int64, device=device)[:]\n",
    "coordinates = torch.tensor(coordinates, device=device)[:]\n",
    "const = Constants().to(device)\n",
    "#may need to add scaling factor for length and energy on const, check constants.py\n",
    "\n",
    "elements = [0]+sorted(set(species.reshape(-1).tolist()))\n",
    "seqm_parameters = {\n",
    "                   'method' : 'AM1',  # AM1, MNDO, PM3, PM6, PM6_SP. PM6_SP is PM6 without d-orbitals. Effectively, PM6 for the first two rows of periodic table\n",
    "                   'scf_eps' : 1.0e-6,  # unit eV, change of electric energy, as nuclear energy doesnt' change during SCF\n",
    "                   'scf_converger' : [2,0.0], # converger used for scf loop\n",
    "                                         # [0, 0.1], [0, alpha] constant mixing, P = alpha*P + (1.0-alpha)*Pnew\n",
    "                                         # [1], adaptive mixing\n",
    "                                         # [2], adaptive mixing, then pulay\n",
    "                   'sp2' : [False, 1.0e-5],  # whether to use sp2 algorithm in scf loop,\n",
    "                                            #[True, eps] or [False], eps for SP2 conve criteria\n",
    "                   'elements' : elements, #[0,1,6,8],\n",
    "                   'learned' : [], # learned parameters name list, e.g ['U_ss']\n",
    "                   #'parameter_file_dir' : '../seqm/params/', # file directory for other required parameters\n",
    "                   'pair_outer_cutoff' : 1.0e10, # consistent with the unit on coordinates\n",
    "                   'eig' : True\n",
    "                   }\n",
    "\n",
    "molecule = Molecule(const, seqm_parameters, coordinates, species).to(device)\n",
    "\n",
    "opt =  Geometry_Optimization_SD(seqm_parameters, alpha=0.007, force_tol=1.0e-2, max_evl=60).to(device)\n",
    "max_force, dE =  opt.run(molecule)"
   ]
  }
 ],
 "metadata": {
  "kernelspec": {
   "display_name": "base",
   "language": "python",
   "name": "python3"
  },
  "language_info": {
   "codemirror_mode": {
    "name": "ipython",
    "version": 3
   },
   "file_extension": ".py",
   "mimetype": "text/x-python",
   "name": "python",
   "nbconvert_exporter": "python",
   "pygments_lexer": "ipython3",
   "version": "3.11.10"
  }
 },
 "nbformat": 4,
 "nbformat_minor": 5
}
