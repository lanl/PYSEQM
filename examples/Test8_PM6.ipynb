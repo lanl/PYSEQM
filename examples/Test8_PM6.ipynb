{
 "cells": [
  {
   "cell_type": "code",
   "execution_count": 3,
   "id": "04aef426-ee13-4824-947c-ce8f62b3bac6",
   "metadata": {},
   "outputs": [],
   "source": [
    "import torch\n",
    "import seqm\n",
    "from seqm.seqm_functions.constants import Constants\n",
    "from seqm.Molecule import Molecule\n",
    "from seqm.ElectronicStructure import Electronic_Structure\n",
    "seqm.seqm_functions.scf_loop.debug=True # print SCF steps \n",
    "seqm.seqm_functions.scf_loop.MAX_ITER=500 # MAX number of SCF iterations\n",
    "\n",
    "DTYPE = torch.float64\n",
    "torch.set_default_dtype(DTYPE)\n",
    "if torch.cuda.is_available():\n",
    "    device = torch.device('cuda')\n",
    "else:\n",
    "    device = torch.device('cpu')"
   ]
  },
  {
   "cell_type": "code",
   "execution_count": 4,
   "id": "1b6aef5a-f107-4151-bd46-e19af5a759dc",
   "metadata": {
    "scrolled": true,
    "tags": []
   },
   "outputs": [
    {
     "name": "stderr",
     "output_type": "stream",
     "text": [
      "/Users/vishikh/projects/PYSEQM/seqm/seqm_functions/diag_d.py:109: UserWarning: torch.symeig is deprecated in favor of torch.linalg.eigh and will be removed in a future PyTorch release.\n",
      "The default behavior has changed from using the upper triangular portion of the matrix by default to using the lower triangular portion.\n",
      "L, _ = torch.symeig(A, upper=upper)\n",
      "should be replaced with\n",
      "L = torch.linalg.eigvalsh(A, UPLO='U' if upper else 'L')\n",
      "and\n",
      "L, V = torch.symeig(A, eigenvectors=True)\n",
      "should be replaced with\n",
      "L, V = torch.linalg.eigh(A, UPLO='U' if upper else 'L') (Triggered internally at /Users/runner/miniforge3/conda-bld/pytorch-recipe_1675740396714/work/aten/src/ATen/native/BatchLinearAlgebra.cpp:2806.)\n",
      "  e0,v = torch.symeig(x0,eigenvectors=True,upper=True)\n"
     ]
    },
    {
     "name": "stdout",
     "output_type": "stream",
     "text": [
      "scf direct step  :   0 | E[   4]: -358.65836462 | MAX ΔE[   4]: -81.77464670 | MAX ΔDM[   4]:    0.2552329 | MAX ΔDM_ij[   4]:  1.5960220  | N not converged: 5\n",
      "scf direct step  :   1 | E[   1]: -208.74995365 | MAX ΔE[   1]: -10.25221378 | MAX ΔDM[   4]:    0.2373771 | MAX ΔDM_ij[   4]:  1.3746724  | N not converged: 5\n",
      "scf direct step  :   2 | E[   4]: -374.51357253 | MAX ΔE[   4]: -23.77403292 | MAX ΔDM[   4]:    0.2111070 | MAX ΔDM_ij[   4]:  1.3256652  | N not converged: 5\n",
      "scf direct step  :   3 | E[   4]: -361.67538351 | MAX ΔE[   4]:  12.83818902 | MAX ΔDM[   4]:    0.2170586 | MAX ΔDM_ij[   4]:  1.3941663  | N not converged: 5\n",
      "scf direct step  :   4 | E[   4]: -378.55304744 | MAX ΔE[   4]: -16.87766393 | MAX ΔDM[   4]:    0.2015102 | MAX ΔDM_ij[   4]:  1.2433544  | N not converged: 5\n",
      "scf direct step  :   5 | E[   4]: -371.40942608 | MAX ΔE[   4]:   7.14362136 | MAX ΔDM[   4]:    0.1931167 | MAX ΔDM_ij[   4]:  1.1463584  | N not converged: 5\n",
      "scf direct step  :   6 | E[   4]: -383.12296960 | MAX ΔE[   4]: -11.71354352 | MAX ΔDM[   4]:    0.1793226 | MAX ΔDM_ij[   4]:  1.0512391  | N not converged: 5\n",
      "scf direct step  :   7 | E[   4]: -381.87463767 | MAX ΔE[   4]:   1.24833193 | MAX ΔDM[   4]:    0.1628957 | MAX ΔDM_ij[   4]:  0.9065188  | N not converged: 5\n",
      "scf direct step  :   8 | E[   4]: -389.25512659 | MAX ΔE[   4]:  -7.38048892 | MAX ΔDM[   4]:    0.1419894 | MAX ΔDM_ij[   4]:  0.7881245  | N not converged: 5\n",
      "scf direct step  :   9 | E[   4]: -391.16962390 | MAX ΔE[   4]:  -1.91449731 | MAX ΔDM[   4]:    0.1227725 | MAX ΔDM_ij[   4]:  0.6976000  | N not converged: 5\n",
      "scf direct step  :  10 | E[   4]: -395.21673088 | MAX ΔE[   4]:  -4.04710698 | MAX ΔDM[   4]:    0.0973430 | MAX ΔDM_ij[   4]:  0.5733424  | N not converged: 4\n",
      "scf direct step  :  11 | E[   4]: -397.24779641 | MAX ΔE[   4]:  -2.03106553 | MAX ΔDM[   4]:    0.0787140 | MAX ΔDM_ij[   4]:  0.4708839  | N not converged: 4\n",
      "scf direct step  :  12 | E[   4]: -399.03293473 | MAX ΔE[   4]:  -1.78513832 | MAX ΔDM[   4]:    0.0554434 | MAX ΔDM_ij[   4]:  0.3352891  | N not converged: 4\n",
      "scf direct step  :  13 | E[   4]: -399.99893937 | MAX ΔE[   4]:  -0.96600464 | MAX ΔDM[   4]:    0.0412866 | MAX ΔDM_ij[   4]:  0.2559234  | N not converged: 4\n",
      "scf direct step  :  14 | E[   4]: -400.57846807 | MAX ΔE[   4]:  -0.57952871 | MAX ΔDM[   4]:    0.0263660 | MAX ΔDM_ij[   4]:  0.1554177  | N not converged: 4\n",
      "scf direct step  :  15 | E[   1]: -213.76713621 | MAX ΔE[   1]:  -0.48607490 | MAX ΔDM[   1]:    0.0205614 | MAX ΔDM_ij[   1]:  0.1707219  | N not converged: 4\n",
      "scf direct step  :  16 | E[   1]: -214.42758403 | MAX ΔE[   1]:  -0.66044781 | MAX ΔDM[   1]:    0.0234821 | MAX ΔDM_ij[   1]:  0.1990144  | N not converged: 4\n",
      "scf direct step  :  17 | E[   1]: -215.19852234 | MAX ΔE[   1]:  -0.77093831 | MAX ΔDM[   1]:    0.0246504 | MAX ΔDM_ij[   1]:  0.2040488  | N not converged: 4\n",
      "scf direct step  :  18 | E[   1]: -215.93610268 | MAX ΔE[   1]:  -0.73758034 | MAX ΔDM[   1]:    0.0233129 | MAX ΔDM_ij[   1]:  0.1791637  | N not converged: 4\n",
      "scf direct step  :  19 | E[   1]: -216.51990069 | MAX ΔE[   1]:  -0.58379801 | MAX ΔDM[   1]:    0.0200741 | MAX ΔDM_ij[   1]:  0.1371036  | N not converged: 4\n",
      "scf direct step  :  20 | E[   1]: -216.91820028 | MAX ΔE[   1]:  -0.39829958 | MAX ΔDM[   1]:    0.0161344 | MAX ΔDM_ij[   1]:  0.0951505  | N not converged: 4\n",
      "scf direct step  :  21 | E[   1]: -217.16265132 | MAX ΔE[   1]:  -0.24445104 | MAX ΔDM[   1]:    0.0123784 | MAX ΔDM_ij[   1]:  0.0792383  | N not converged: 4\n",
      "scf direct step  :  22 | E[   1]: -217.30214028 | MAX ΔE[   1]:  -0.13948896 | MAX ΔDM[   1]:    0.0092085 | MAX ΔDM_ij[   1]:  0.0624102  | N not converged: 4\n",
      "scf direct step  :  23 | E[   1]: -217.37788621 | MAX ΔE[   1]:  -0.07574593 | MAX ΔDM[   1]:    0.0067118 | MAX ΔDM_ij[   1]:  0.0470332  | N not converged: 4\n",
      "scf direct step  :  24 | E[   1]: -217.41765891 | MAX ΔE[   1]:  -0.03977270 | MAX ΔDM[   1]:    0.0048262 | MAX ΔDM_ij[   1]:  0.0344885  | N not converged: 4\n",
      "scf direct step  :  25 | E[   1]: -217.43807270 | MAX ΔE[   1]:  -0.02041379 | MAX ΔDM[   1]:    0.0034391 | MAX ΔDM_ij[   1]:  0.0248607  | N not converged: 3\n",
      "scf direct step  :  26 | E[   1]: -217.44838960 | MAX ΔE[   1]:  -0.01031690 | MAX ΔDM[   4]:    0.0025579 | MAX ΔDM_ij[   1]:  0.0177278  | N not converged: 3\n",
      "scf direct step  :  27 | E[   4]: -401.38146491 | MAX ΔE[   4]:  -0.00807131 | MAX ΔDM[   4]:    0.0023028 | MAX ΔDM_ij[   4]:  0.0157879  | N not converged: 3\n",
      "scf direct step  :  28 | E[   4]: -401.38800938 | MAX ΔE[   4]:  -0.00654447 | MAX ΔDM[   4]:    0.0020722 | MAX ΔDM_ij[   4]:  0.0142689  | N not converged: 3\n",
      "scf direct step  :  29 | E[   4]: -401.39330270 | MAX ΔE[   4]:  -0.00529332 | MAX ΔDM[   4]:    0.0018620 | MAX ΔDM_ij[   4]:  0.0128829  | N not converged: 3\n",
      "scf direct step  :  30 | E[   4]: -401.39757469 | MAX ΔE[   4]:  -0.00427199 | MAX ΔDM[   4]:    0.0016718 | MAX ΔDM_ij[   4]:  0.0116088  | N not converged: 3\n",
      "scf direct step  :  31 | E[   4]: -401.40101568 | MAX ΔE[   4]:  -0.00344099 | MAX ΔDM[   4]:    0.0014996 | MAX ΔDM_ij[   4]:  0.0104494  | N not converged: 3\n",
      "scf direct step  :  32 | E[   4]: -401.40378256 | MAX ΔE[   4]:  -0.00276688 | MAX ΔDM[   4]:    0.0013441 | MAX ΔDM_ij[   4]:  0.0093947  | N not converged: 2\n",
      "scf direct step  :  33 | E[   4]: -401.40600402 | MAX ΔE[   4]:  -0.00222146 | MAX ΔDM[   4]:    0.0012039 | MAX ΔDM_ij[   4]:  0.0084391  | N not converged: 2\n",
      "scf direct step  :  34 | E[   4]: -401.40778519 | MAX ΔE[   4]:  -0.00178118 | MAX ΔDM[   4]:    0.0010778 | MAX ΔDM_ij[   4]:  0.0075747  | N not converged: 2\n",
      "scf direct step  :  35 | E[   4]: -401.40921168 | MAX ΔE[   4]:  -0.00142649 | MAX ΔDM[   4]:    0.0009643 | MAX ΔDM_ij[   4]:  0.0067945  | N not converged: 2\n",
      "scf direct step  :  36 | E[   4]: -401.41035295 | MAX ΔE[   4]:  -0.00114126 | MAX ΔDM[   4]:    0.0008624 | MAX ΔDM_ij[   4]:  0.0060911  | N not converged: 2\n",
      "scf direct step  :  37 | E[   4]: -401.41126520 | MAX ΔE[   4]:  -0.00091225 | MAX ΔDM[   4]:    0.0007709 | MAX ΔDM_ij[   4]:  0.0054579  | N not converged: 2\n",
      "scf direct step  :  38 | E[   4]: -401.41199382 | MAX ΔE[   4]:  -0.00072863 | MAX ΔDM[   4]:    0.0006889 | MAX ΔDM_ij[   4]:  0.0048885  | N not converged: 2\n",
      "scf direct step  :  39 | E[   4]: -401.41257539 | MAX ΔE[   4]:  -0.00058157 | MAX ΔDM[   4]:    0.0006154 | MAX ΔDM_ij[   4]:  0.0043769  | N not converged: 2\n",
      "scf direct step  :  40 | E[   4]: -401.41303930 | MAX ΔE[   4]:  -0.00046391 | MAX ΔDM[   4]:    0.0005496 | MAX ΔDM_ij[   4]:  0.0039175  | N not converged: 1\n",
      "scf direct step  :  41 | E[   4]: -401.41340917 | MAX ΔE[   4]:  -0.00036987 | MAX ΔDM[   4]:    0.0004908 | MAX ΔDM_ij[   4]:  0.0035054  | N not converged: 1\n",
      "scf direct step  :  42 | E[   4]: -401.41370392 | MAX ΔE[   4]:  -0.00029475 | MAX ΔDM[   4]:    0.0004381 | MAX ΔDM_ij[   4]:  0.0031358  | N not converged: 1\n",
      "scf direct step  :  43 | E[   4]: -401.41393873 | MAX ΔE[   4]:  -0.00023480 | MAX ΔDM[   4]:    0.0003911 | MAX ΔDM_ij[   4]:  0.0028046  | N not converged: 1\n",
      "scf direct step  :  44 | E[   4]: -401.41412571 | MAX ΔE[   4]:  -0.00018698 | MAX ΔDM[   4]:    0.0003490 | MAX ΔDM_ij[   4]:  0.0025078  | N not converged: 1\n",
      "scf direct step  :  45 | E[   4]: -401.41427457 | MAX ΔE[   4]:  -0.00014886 | MAX ΔDM[   4]:    0.0003114 | MAX ΔDM_ij[   4]:  0.0022420  | N not converged: 1\n",
      "scf direct step  :  46 | E[   4]: -401.41439305 | MAX ΔE[   4]:  -0.00011848 | MAX ΔDM[   4]:    0.0002778 | MAX ΔDM_ij[   4]:  0.0020041  | N not converged: 1\n",
      "scf direct step  :  47 | E[   4]: -401.41448732 | MAX ΔE[   4]:  -0.00009428 | MAX ΔDM[   4]:    0.0002478 | MAX ΔDM_ij[   4]:  0.0017911  | N not converged: 1\n",
      "scf direct step  :  48 | E[   4]: -401.41456233 | MAX ΔE[   4]:  -0.00007500 | MAX ΔDM[   4]:    0.0002211 | MAX ΔDM_ij[   4]:  0.0016006  | N not converged: 1\n",
      "scf direct step  :  49 | E[   4]: -401.41462199 | MAX ΔE[   4]:  -0.00005966 | MAX ΔDM[   4]:    0.0001972 | MAX ΔDM_ij[   4]:  0.0014301  | N not converged: 1\n",
      "scf direct step  :  50 | E[   4]: -401.41466944 | MAX ΔE[   4]:  -0.00004745 | MAX ΔDM[   4]:    0.0001759 | MAX ΔDM_ij[   4]:  0.0012776  | N not converged: 1\n",
      "scf direct step  :  51 | E[   4]: -401.41470717 | MAX ΔE[   4]:  -0.00003773 | MAX ΔDM[   4]:    0.0001569 | MAX ΔDM_ij[   4]:  0.0011413  | N not converged: 1\n",
      "scf direct step  :  52 | E[   4]: -401.41473717 | MAX ΔE[   4]:  -0.00003000 | MAX ΔDM[   4]:    0.0001399 | MAX ΔDM_ij[   4]:  0.0010194  | N not converged: 1\n",
      "scf direct step  :  53 | E[   4]: -401.41476103 | MAX ΔE[   4]:  -0.00002385 | MAX ΔDM[   4]:    0.0001247 | MAX ΔDM_ij[   4]:  0.0009104  | N not converged: 1\n",
      "scf direct step  :  54 | E[   4]: -401.41477999 | MAX ΔE[   4]:  -0.00001896 | MAX ΔDM[   4]:    0.0001112 | MAX ΔDM_ij[   4]:  0.0008130  | N not converged: 1\n",
      "scf direct step  :  55 | E[   4]: -401.41479507 | MAX ΔE[   4]:  -0.00001508 | MAX ΔDM[   4]:    0.0000992 | MAX ΔDM_ij[   4]:  0.0007260  | N not converged: 1\n",
      "scf direct step  :  56 | E[   4]: -401.41480705 | MAX ΔE[   4]:  -0.00001198 | MAX ΔDM[   4]:    0.0000884 | MAX ΔDM_ij[   4]:  0.0006482  | N not converged: 1\n",
      "scf direct step  :  57 | E[   4]: -401.41481658 | MAX ΔE[   4]:  -0.00000953 | MAX ΔDM[   4]:    0.0000789 | MAX ΔDM_ij[   4]:  0.0005787  | N not converged: 1\n",
      "scf direct step  :  58 | E[   4]: -401.41482415 | MAX ΔE[   4]:  -0.00000757 | MAX ΔDM[   4]:    0.0000703 | MAX ΔDM_ij[   4]:  0.0005166  | N not converged: 1\n",
      "scf direct step  :  59 | E[   4]: -401.41483017 | MAX ΔE[   4]:  -0.00000602 | MAX ΔDM[   4]:    0.0000627 | MAX ΔDM_ij[   4]:  0.0004612  | N not converged: 1\n",
      "scf direct step  :  60 | E[   4]: -401.41483495 | MAX ΔE[   4]:  -0.00000478 | MAX ΔDM[   4]:    0.0000559 | MAX ΔDM_ij[   4]:  0.0004116  | N not converged: 1\n",
      "scf direct step  :  61 | E[   4]: -401.41483875 | MAX ΔE[   4]:  -0.00000380 | MAX ΔDM[   4]:    0.0000498 | MAX ΔDM_ij[   4]:  0.0003674  | N not converged: 1\n",
      "scf direct step  :  62 | E[   4]: -401.41484177 | MAX ΔE[   4]:  -0.00000302 | MAX ΔDM[   4]:    0.0000444 | MAX ΔDM_ij[   4]:  0.0003279  | N not converged: 1\n",
      "scf direct step  :  63 | E[   3]: -849.69251409 | MAX ΔE[   3]:  -0.00000293 | MAX ΔDM[   4]:    0.0000396 | MAX ΔDM_ij[   4]:  0.0002926  | N not converged: 1\n",
      "scf direct step  :  64 | E[   3]: -849.69251409 | MAX ΔE[   3]:  -0.00000293 | MAX ΔDM[   4]:    0.0000353 | MAX ΔDM_ij[   4]:  0.0002612  | N not converged: 1\n",
      "scf direct step  :  65 | E[   3]: -849.69251409 | MAX ΔE[   3]:  -0.00000293 | MAX ΔDM[   4]:    0.0000315 | MAX ΔDM_ij[   4]:  0.0002330  | N not converged: 1\n",
      "scf direct step  :  66 | E[   3]: -849.69251409 | MAX ΔE[   3]:  -0.00000293 | MAX ΔDM[   4]:    0.0000281 | MAX ΔDM_ij[   4]:  0.0002079  | N not converged: 1\n",
      "scf direct step  :  67 | E[   3]: -849.69251409 | MAX ΔE[   3]:  -0.00000293 | MAX ΔDM[   4]:    0.0000250 | MAX ΔDM_ij[   4]:  0.0001855  | N not converged: 1\n",
      "scf direct step  :  68 | E[   3]: -849.69251409 | MAX ΔE[   3]:  -0.00000293 | MAX ΔDM[   4]:    0.0000223 | MAX ΔDM_ij[   4]:  0.0001655  | N not converged: 1\n",
      "scf direct step  :  69 | E[   3]: -849.69251409 | MAX ΔE[   3]:  -0.00000293 | MAX ΔDM[   4]:    0.0000199 | MAX ΔDM_ij[   4]:  0.0001477  | N not converged: 0\n",
      "scf direct step  :  69 | E[   3]: -849.69251409 | MAX ΔE[   3]:  -0.00000293 | MAX ΔDM[   4]:    0.0000199 | MAX ΔDM_ij[   4]:  0.0001477  | N not converged: 0\n"
     ]
    }
   ],
   "source": [
    "species = torch.as_tensor([[16,16],[22,22],[22,16],[35,17],[24,22]],dtype=torch.int64, device=device)\n",
    "\n",
    "coordinates = torch.tensor([\n",
    "        [[0.0000,    0.0,    0.0000],\n",
    "         [0.0000,    1.2,    0.0000]],\n",
    "    \n",
    "        [[0.0000,    0.0,    0.0000],\n",
    "         [0.0000,    1.2,    0.0000]],\n",
    "    \n",
    "        [[0.0000,    0.0,    0.0000],\n",
    "         [0.0000,    1.2,    0.0000]],\n",
    "    \n",
    "        [[0.0000,    0.0,    0.0000],\n",
    "         [0.0000,    1.2,    0.0000]],\n",
    "    \n",
    "        [[0.0000,    0.0,    0.0000],\n",
    "         [0.0000,    1.2,    0.0000]],\n",
    "                 ], device=device)\n",
    "\n",
    "\n",
    "const = Constants().to(device)\n",
    "\n",
    "seqm_parameters = {\n",
    "                   'method' : 'PM6',  # AM1, MNDO, PM3, PM6, PM6_SP. PM6_SP is PM6 without d-orbitals. Effectively, PM6 for the first two rows of periodic table\n",
    "                   'scf_eps' : 1.0e-5,  # unit eV, change of electric energy, as nuclear energy doesnt' change during SCF\n",
    "                   'scf_converger' : [0, 0.2], # converger used for scf loop\n",
    "                                         # [0, 0.1], [0, alpha] constant mixing, P = alpha*P + (1.0-alpha)*Pnew\n",
    "                                         # [1], adaptive mixing\n",
    "                                         # [2], adaptive mixing, then pulay\n",
    "                   'sp2' : [False, 1.0e-5],  # whether to use sp2 algorithm in scf loop,\n",
    "                                            #[True, eps] or [False], eps for SP2 conve criteria\n",
    "                   'learned' : [], # learned parameters name list, e.g ['U_ss']\n",
    "                   #'parameter_file_dir' : '../seqm/params/', # file directory for other required parameters\n",
    "                   'pair_outer_cutoff' : 1.0e10, # consistent with the unit on coordinates\n",
    "                   'eig' : True,\n",
    "                    \"Hf_flag\": True,\n",
    "                    'scf_backward' : 0,\n",
    "                    'UHF' : False, # open shell is currently not supported for PM6\n",
    "                   }\n",
    "\n",
    "molecules = Molecule(const, seqm_parameters, coordinates, species).to(device)\n",
    "esdriver = Electronic_Structure(seqm_parameters).to(device)\n",
    "esdriver(molecules)"
   ]
  },
  {
   "cell_type": "markdown",
   "id": "6b1f1b1a-4e34-4e8f-8973-d7bcd081b103",
   "metadata": {},
   "source": [
    "# Total E"
   ]
  },
  {
   "cell_type": "code",
   "execution_count": 5,
   "id": "816c2ba7-1cec-43c5-9e9a-c2b582ceed4b",
   "metadata": {},
   "outputs": [
    {
     "data": {
      "text/plain": [
       "tensor(-333.8298)"
      ]
     },
     "execution_count": 5,
     "metadata": {},
     "output_type": "execute_result"
    }
   ],
   "source": [
    "molecules.Etot[0] # S2. MOPAC Etot = -333.8287 EV"
   ]
  },
  {
   "cell_type": "code",
   "execution_count": 6,
   "id": "cb7e8201-5cf4-4500-85da-16f93f0eb4ad",
   "metadata": {},
   "outputs": [
    {
     "data": {
      "text/plain": [
       "tensor(-120.0663)"
      ]
     },
     "execution_count": 6,
     "metadata": {},
     "output_type": "execute_result"
    }
   ],
   "source": [
    "molecules.Etot[1] # Ti2. MOPAC Etot = -120.0651 EV"
   ]
  },
  {
   "cell_type": "code",
   "execution_count": 8,
   "id": "f24a4e38-8197-449a-87a2-28e4930f8ecd",
   "metadata": {},
   "outputs": [
    {
     "data": {
      "text/plain": [
       "tensor(-221.2703)"
      ]
     },
     "execution_count": 8,
     "metadata": {},
     "output_type": "execute_result"
    }
   ],
   "source": [
    "molecules.Etot[2] # TiS. MOPAC Etot = -221.2701 EV"
   ]
  },
  {
   "cell_type": "code",
   "execution_count": 9,
   "id": "6a339a48-2992-479b-b6c1-6a31f170d5b7",
   "metadata": {},
   "outputs": [
    {
     "data": {
      "text/plain": [
       "tensor(-458.5839)"
      ]
     },
     "execution_count": 9,
     "metadata": {},
     "output_type": "execute_result"
    }
   ],
   "source": [
    "molecules.Etot[3] # BrCl. MOPAC Etot = -458.5855 EV"
   ]
  },
  {
   "cell_type": "code",
   "execution_count": 10,
   "id": "c1009387-c3e4-49b3-b17f-71c1ec716ced",
   "metadata": {},
   "outputs": [
    {
     "data": {
      "text/plain": [
       "tensor(-255.8133)"
      ]
     },
     "execution_count": 10,
     "metadata": {},
     "output_type": "execute_result"
    }
   ],
   "source": [
    "molecules.Etot[4] # CrTi. MOPAC Etot = -150.3163 EV  !!! Wrong nuclear rep parameters"
   ]
  },
  {
   "cell_type": "code",
   "execution_count": null,
   "id": "0ee5f699-d1c9-488e-8be2-f136c75be7f4",
   "metadata": {},
   "outputs": [],
   "source": []
  },
  {
   "cell_type": "markdown",
   "id": "2abfacdd-f954-43d3-8986-7d00281f9411",
   "metadata": {},
   "source": [
    "# Nuclear repulsion"
   ]
  },
  {
   "cell_type": "code",
   "execution_count": 11,
   "id": "be316495-70b8-4949-91d4-4d93f53b0026",
   "metadata": {},
   "outputs": [
    {
     "data": {
      "text/plain": [
       "tensor(290.8621)"
      ]
     },
     "execution_count": 11,
     "metadata": {},
     "output_type": "execute_result"
    }
   ],
   "source": [
    "molecules.Enuc[0] # S2. MOPAC Enuc = 290.8693 EV"
   ]
  },
  {
   "cell_type": "code",
   "execution_count": 12,
   "id": "9337ff83-8f7b-4db4-a7cf-45545d04e355",
   "metadata": {},
   "outputs": [
    {
     "data": {
      "text/plain": [
       "tensor(97.3923)"
      ]
     },
     "execution_count": 12,
     "metadata": {},
     "output_type": "execute_result"
    }
   ],
   "source": [
    "molecules.Enuc[1] # Ti2. MOPAC Enuc = 97.3923 EV"
   ]
  },
  {
   "cell_type": "code",
   "execution_count": 13,
   "id": "917c576c-97a1-4c93-be8a-8163e3e54c9e",
   "metadata": {},
   "outputs": [
    {
     "data": {
      "text/plain": [
       "tensor(176.1491)"
      ]
     },
     "execution_count": 13,
     "metadata": {},
     "output_type": "execute_result"
    }
   ],
   "source": [
    "molecules.Enuc[2] # TiS. MOPAC Enuc = 176.1518 EV"
   ]
  },
  {
   "cell_type": "code",
   "execution_count": 14,
   "id": "c06f9c0d-8cb9-4534-b47d-986969d8478e",
   "metadata": {},
   "outputs": [
    {
     "data": {
      "text/plain": [
       "tensor(391.1087)"
      ]
     },
     "execution_count": 14,
     "metadata": {},
     "output_type": "execute_result"
    }
   ],
   "source": [
    "molecules.Enuc[3] # BrCl. MOPAC Enuc = 391.1161 EV"
   ]
  },
  {
   "cell_type": "code",
   "execution_count": 15,
   "id": "f8cf1105-3324-4f27-86c3-73f4dcdb7e25",
   "metadata": {},
   "outputs": [
    {
     "data": {
      "text/plain": [
       "tensor(145.6016)"
      ]
     },
     "execution_count": 15,
     "metadata": {},
     "output_type": "execute_result"
    }
   ],
   "source": [
    "molecules.Enuc[4] # CrTi. MOPAC Enuc = 251.0941 EV  !!! Wrong nuclear rep parameters"
   ]
  },
  {
   "cell_type": "code",
   "execution_count": null,
   "id": "28472491-fcf9-4a2a-b2fd-104bf8565939",
   "metadata": {},
   "outputs": [],
   "source": []
  }
 ],
 "metadata": {
  "kernelspec": {
   "display_name": "base",
   "language": "python",
   "name": "python3"
  },
  "language_info": {
   "codemirror_mode": {
    "name": "ipython",
    "version": 3
   },
   "file_extension": ".py",
   "mimetype": "text/x-python",
   "name": "python",
   "nbconvert_exporter": "python",
   "pygments_lexer": "ipython3",
   "version": "3.11.10"
  }
 },
 "nbformat": 4,
 "nbformat_minor": 5
}
