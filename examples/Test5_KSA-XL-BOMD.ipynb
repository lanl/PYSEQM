{
 "cells": [
  {
   "cell_type": "markdown",
   "id": "6c88f6b0-f6cc-4ab9-b0e6-3ab3e95cd977",
   "metadata": {},
   "source": [
    "# Krylov Subspace Approximation XL-BOMD (KSA-XL-BOMD)\n",
    "### see https://pubs.acs.org/doi/full/10.1021/acs.jctc.0c00264 for details."
   ]
  },
  {
   "cell_type": "code",
   "execution_count": 4,
   "id": "2abd45e9-9b13-40a1-b3ae-730270169cfd",
   "metadata": {},
   "outputs": [],
   "source": [
    "import torch\n",
    "from seqm.seqm_functions.constants import Constants\n",
    "from seqm.Molecule import Molecule\n",
    "from seqm.MolecularDynamics import KSA_XL_BOMD\n",
    "\n",
    "torch.set_default_dtype(torch.float64)\n",
    "if torch.cuda.is_available():\n",
    "    device = torch.device('cuda')\n",
    "else:\n",
    "    device = torch.device('cpu')"
   ]
  },
  {
   "cell_type": "code",
   "execution_count": 5,
   "id": "90a457d9-7eff-4e0b-8e77-3b19cc54fdf7",
   "metadata": {},
   "outputs": [
    {
     "name": "stdout",
     "output_type": "stream",
     "text": [
      "Step,    Temp,    E(kinetic),  E(potential),  E(total)\n",
      "     1   398.75   2.061721e-01 -4.755812e+02 -4.753750e+02 ||    424.80   2.196388e-01 -1.091492e+02 -1.089295e+02 || \n",
      "     2   377.09   1.949717e-01 -4.755707e+02 -4.753757e+02 ||    466.20   2.410460e-01 -1.091710e+02 -1.089300e+02 || \n",
      "     3   340.14   1.758650e-01 -4.755514e+02 -4.753755e+02 ||    517.41   2.675232e-01 -1.091979e+02 -1.089304e+02 || \n",
      "     4   293.25   1.516229e-01 -4.755262e+02 -4.753746e+02 ||    568.75   2.940665e-01 -1.092247e+02 -1.089307e+02 || \n",
      "     5   241.68   1.249566e-01 -4.754993e+02 -4.753743e+02 ||    609.19   3.149771e-01 -1.092460e+02 -1.089310e+02 || \n",
      "     6   191.30   9.891194e-02 -4.754731e+02 -4.753741e+02 ||    628.85   3.251396e-01 -1.092564e+02 -1.089312e+02 || \n",
      "     7   148.11   7.657781e-02 -4.754509e+02 -4.753743e+02 ||    621.72   3.214554e-01 -1.092529e+02 -1.089314e+02 || \n",
      "     8   116.26   6.011237e-02 -4.754345e+02 -4.753744e+02 ||    587.72   3.038739e-01 -1.092352e+02 -1.089313e+02 || \n",
      "     9    97.04   5.017463e-02 -4.754244e+02 -4.753742e+02 ||    533.06   2.756159e-01 -1.092066e+02 -1.089309e+02 || \n",
      "    10    89.39   4.621746e-02 -4.754204e+02 -4.753742e+02 ||    468.97   2.424780e-01 -1.091728e+02 -1.089304e+02 || \n",
      "CPU times: user 619 ms, sys: 22.1 ms, total: 641 ms\n",
      "Wall time: 648 ms\n"
     ]
    }
   ],
   "source": [
    "%%time\n",
    "torch.manual_seed(0)\n",
    "\n",
    "species = torch.as_tensor([[8,6,1,1],[5,1,1,1]],dtype=torch.int64, device=device)\n",
    "coordinates = torch.tensor([\n",
    "                  [\n",
    "                   [ 0.00,  0.0,  0.0],\n",
    "                   [ 1.22,  0.0,  0.0],\n",
    "                   [ 1.82,  0.94, 0.0],\n",
    "                   [ 1.82, -0.94, 0.0]\n",
    "                  ],\n",
    "                  [\n",
    "                   [ 0.00,  0.00,  0.00],\n",
    "                   [ 1.20,  0.00,  0.00],\n",
    "                   [-0.60,  1.03,  0.00],\n",
    "                   [-0.60, -1.03,  0.00]\n",
    "                  ]\n",
    "                 ], device=device)[:]\n",
    "\n",
    "const = Constants().to(device)\n",
    "\n",
    "seqm_parameters = {\n",
    "                   'method' : 'AM1',  # AM1, MNDO, PM#\n",
    "                   'scf_eps' : 1.0e-6,  # unit eV, change of electric energy, as nuclear energy doesnt' change during SCF\n",
    "                   'scf_converger' : [1], # converger used for scf loop\n",
    "                   }\n",
    "\n",
    "\n",
    "molecule = Molecule(const, seqm_parameters, coordinates, species).to(device)\n",
    "\n",
    "# Set max_rank for a low-rank approximation. See https://pubs.acs.org/doi/full/10.1021/acs.jctc.0c00264 for details.\n",
    "# Set err_threshold for low-rank approximation error tollerance. Set err_threshold=0.0 to keep max_rank constant.\n",
    "# T_el - electronic temperature for thermmal HF.\n",
    "# Set k for the dissipative electronic force term. See https://aip.scitation.org/doi/full/10.1063/1.3148075 for details.\n",
    "\n",
    "output = {\n",
    "'molid': [0,1],\n",
    "'prefix': 'Outputs/5_KSA_XL-BOMD',\n",
    "'print_every': 1,\n",
    "# write a .xyz file\n",
    "\"xyz\": 1,\n",
    "# write an HDF5 file\n",
    "\"h5\": {\n",
    "    \"data\": 1,      # write T/Ek/Ep, excitations, MO, etc.; 0 disables\n",
    "    },\n",
    "}\n",
    "xl_bomd_params={'k':6, 'max_rank':3, 'err_threshold':0.0, 'T_el':1500}\n",
    "\n",
    "md = KSA_XL_BOMD(xl_bomd_params=xl_bomd_params, Temp = 400.0,\n",
    "                   seqm_parameters=seqm_parameters, timestep=0.4, output=output).to(device)\n",
    "#remove center of mass velocity\n",
    "_ = md.run(molecule, 10)"
   ]
  },
  {
   "cell_type": "markdown",
   "id": "ca93e2c4-3915-4904-83cb-dd6c059a4355",
   "metadata": {},
   "source": [
    "## Langevin Thermostat"
   ]
  },
  {
   "cell_type": "code",
   "execution_count": 6,
   "id": "fc30cc21-1342-4e0c-8beb-d759d6ce41b5",
   "metadata": {},
   "outputs": [
    {
     "name": "stdout",
     "output_type": "stream",
     "text": [
      "Step,    Temp,    E(kinetic),  E(potential),  E(total)\n",
      "     1   400.71   2.071846e-01 -4.755815e+02 -4.753743e+02 ||    436.12   2.254929e-01 -1.091469e+02 -1.089214e+02 || \n",
      "     2   388.46   2.008505e-01 -4.755711e+02 -4.753702e+02 ||    458.60   2.371141e-01 -1.091662e+02 -1.089291e+02 || \n",
      "     3   335.99   1.737204e-01 -4.755515e+02 -4.753778e+02 ||    450.97   2.331715e-01 -1.091906e+02 -1.089575e+02 || \n",
      "     4   276.04   1.427260e-01 -4.755253e+02 -4.753826e+02 ||    479.40   2.478694e-01 -1.092167e+02 -1.089688e+02 || \n",
      "     5   270.92   1.400757e-01 -4.754974e+02 -4.753573e+02 ||    538.20   2.782732e-01 -1.092427e+02 -1.089644e+02 || \n",
      "     6   214.75   1.110335e-01 -4.754676e+02 -4.753565e+02 ||    572.65   2.960805e-01 -1.092624e+02 -1.089663e+02 || \n",
      "     7   156.99   8.117014e-02 -4.754414e+02 -4.753603e+02 ||    617.62   3.193333e-01 -1.092692e+02 -1.089499e+02 || \n",
      "     8   138.61   7.166889e-02 -4.754189e+02 -4.753472e+02 ||    681.27   3.522421e-01 -1.092571e+02 -1.089048e+02 || \n",
      "     9   134.70   6.964394e-02 -4.754029e+02 -4.753332e+02 ||    637.46   3.295914e-01 -1.092272e+02 -1.088976e+02 || \n",
      "    10   118.09   6.105556e-02 -4.753933e+02 -4.753322e+02 ||    506.64   2.619510e-01 -1.091897e+02 -1.089278e+02 || \n",
      "CPU times: user 657 ms, sys: 17.8 ms, total: 674 ms\n",
      "Wall time: 675 ms\n"
     ]
    }
   ],
   "source": [
    "%%time\n",
    "torch.manual_seed(0)\n",
    "\n",
    "species = torch.as_tensor([[8,6,1,1],[5,1,1,1]],dtype=torch.int64, device=device)\n",
    "coordinates = torch.tensor([\n",
    "                  [\n",
    "                   [ 0.00,  0.0,  0.0],\n",
    "                   [ 1.22,  0.0,  0.0],\n",
    "                   [ 1.82,  0.94, 0.0],\n",
    "                   [ 1.82, -0.94, 0.0]\n",
    "                  ],\n",
    "                  [\n",
    "                   [ 0.00,  0.00,  0.00],\n",
    "                   [ 1.20,  0.00,  0.00],\n",
    "                   [-0.60,  1.03,  0.00],\n",
    "                   [-0.60, -1.03,  0.00]\n",
    "                  ]\n",
    "                 ], device=device)[:]\n",
    "\n",
    "const = Constants().to(device)\n",
    "\n",
    "elements = [0]+sorted(set(species.reshape(-1).tolist()))\n",
    "seqm_parameters = {\n",
    "                   'method' : 'AM1',  # AM1, MNDO, PM#\n",
    "                   'scf_eps' : 1.0e-6,  # unit eV, change of electric energy, as nuclear energy doesnt' change during SCF\n",
    "                   'scf_converger' : [2,0.0], # converger used for scf loop\n",
    "                                         # [0, 0.1], [0, alpha] constant mixing, P = alpha*P + (1.0-alpha)*Pnew\n",
    "                                         # [1], adaptive mixing\n",
    "                                         # [2], adaptive mixing, then pulay\n",
    "                   }\n",
    "\n",
    "\n",
    "molecule = Molecule(const, seqm_parameters, coordinates, species).to(device)\n",
    "\n",
    "# Set max_rank for a low-rank approximation. See https://pubs.acs.org/doi/full/10.1021/acs.jctc.0c00264 for details.\n",
    "# Set err_threshold for low-rank approximation error tollerance. Set err_threshold=0.0 to keep max_rank constant.\n",
    "# T_el - electronic temperature for thermmal HF.\n",
    "# Set k for the dissipative electronic force term. See https://aip.scitation.org/doi/full/10.1063/1.3148075 for details.\n",
    "\n",
    "output = {\n",
    "'molid': [0,1],\n",
    "'prefix': 'Outputs/5_KSA_XL-BOMD_Langevin',\n",
    "'print every': 1,\n",
    "# write a .xyz file\n",
    "\"xyz\": 1,\n",
    "# write an HDF5 file\n",
    "\"h5\": {\n",
    "    \"data\": 1,      # write T/Ek/Ep, excitations, MO, etc.; 0 disables\n",
    "    \"coordinates\": 1,   # write vel/forces/coords; 0 disables\n",
    "    },\n",
    "}\n",
    "xl_bomd_params={'k':6, 'max_rank':3, 'err_threshold':0.0, 'T_el':1500}\n",
    "\n",
    "md = KSA_XL_BOMD(xl_bomd_params=xl_bomd_params, damp=50.0,\n",
    "                   seqm_parameters=seqm_parameters, Temp=400.0, timestep=0.4, output=output).to(device)\n",
    "#remove center of mass velocity\n",
    "_ = md.run(molecule, 10, remove_com=('angular',1))"
   ]
  }
 ],
 "metadata": {
  "kernelspec": {
   "display_name": "base",
   "language": "python",
   "name": "python3"
  },
  "language_info": {
   "codemirror_mode": {
    "name": "ipython",
    "version": 3
   },
   "file_extension": ".py",
   "mimetype": "text/x-python",
   "name": "python",
   "nbconvert_exporter": "python",
   "pygments_lexer": "ipython3",
   "version": "3.11.10"
  }
 },
 "nbformat": 4,
 "nbformat_minor": 5
}
