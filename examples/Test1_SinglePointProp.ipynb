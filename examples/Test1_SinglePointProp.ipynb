{
 "cells": [
  {
   "cell_type": "markdown",
   "id": "9d27d34b-66d6-42ab-9b25-9f716aad7fba",
   "metadata": {},
   "source": [
    "# Example to get energies (total, electronic, nuclear, heat of formation, orbital), charges, dipole, forces, density matrix."
   ]
  },
  {
   "cell_type": "code",
   "execution_count": null,
   "id": "3adb4c7f-91e0-4bd5-a479-38ba12ba4a0b",
   "metadata": {},
   "outputs": [],
   "source": [
    "import sys\n",
    "### path to PYSEQM ###\n",
    "sys.path.insert(1, \"/home/maxim/Projects/git2/PYSEQM_dev/\")\n",
    "import torch\n",
    "from seqm.seqm_functions.constants import Constants\n",
    "from seqm.Molecule import Molecule\n",
    "from seqm.ElectronicStructure import Electronic_Structure\n",
    "torch.set_default_dtype(torch.float64)\n",
    "if torch.cuda.is_available():\n",
    "    device = torch.device('cuda')\n",
    "else:\n",
    "    device = torch.device('cpu')\n",
    "    \n",
    "#device = torch.device('cpu')"
   ]
  },
  {
   "cell_type": "code",
   "execution_count": null,
   "id": "39b07b14-8393-4bb4-bf87-75c00c060e11",
   "metadata": {
    "scrolled": true,
    "tags": []
   },
   "outputs": [],
   "source": [
    "%%time\n",
    "\n",
    "### create molecule object:\n",
    "species = torch.as_tensor([[8,6,1,1],\n",
    "                           [8,6,1,1],\n",
    "                           [8,8,6,0]], # zero-padding for batching\n",
    "                          dtype=torch.int64, device=device)\n",
    "\n",
    "coordinates = torch.tensor([\n",
    "                              [\n",
    "                               [0.00,    0.00,    0.00],\n",
    "                               [1.22,    0.00,    0.00],\n",
    "                               [1.82,    0.94,    0.00],\n",
    "                               [1.82,   -0.94,    0.00]\n",
    "                              ],\n",
    "                              [\n",
    "                               [0.00,    0.00,    0.00],\n",
    "                               [1.22,    0.00,    0.00],\n",
    "                               [1.82,    0.94,    0.00],\n",
    "                               [1.82,   -0.94,    0.00]\n",
    "                              ],\n",
    "                              [\n",
    "                               [0.00,    0.00,    0.00],\n",
    "                               [1.23,    0.00,    0.00],\n",
    "                               [1.82,    0.94,    0.00],\n",
    "                               [0.0,0.0,0.0]            # zero-padding for batching\n",
    "                              ]\n",
    "                            ], device=device)\n",
    "\n",
    "const = Constants().to(device)\n",
    "\n",
    "elements = [0]+sorted(set(species.reshape(-1).tolist()))\n",
    "\n",
    "seqm_parameters = {\n",
    "                   'method' : 'AM1',  # AM1, MNDO, PM3, PM6, PM6_SP. PM6_SP is PM6 without d-orbitals. Effectively, PM6 for the first two rows of periodic table\n",
    "                   'scf_eps' : 1.0e-6,  # unit eV, change of electric energy, as nuclear energy doesnt' change during SCF\n",
    "                   'scf_converger' : [0,0.0], # converger used for scf loop\n",
    "                                         # [0, 0.1], [0, alpha] constant mixing, P = alpha*P + (1.0-alpha)*Pnew\n",
    "                                         # [1], adaptive mixing\n",
    "                                         # [2], adaptive mixing, then pulay\n",
    "                   'sp2' : [False, 1.0e-5],  # whether to use sp2 algorithm in scf loop,\n",
    "                                            #[True, eps] or [False], eps for SP2 conve criteria\n",
    "                   'elements' : elements, #[0,1,6,8],\n",
    "                   'learned' : [], # learned parameters name list, e.g ['U_ss']\n",
    "                   #'parameter_file_dir' : '../seqm/params/', # file directory for other required parameters\n",
    "                   'pair_outer_cutoff' : 1.0e10, # consistent with the unit on coordinates\n",
    "                   'eig' : True, # store orbital energies\n",
    "                   }\n",
    "\n",
    "molecules = Molecule(const, seqm_parameters, coordinates, species).to(device)\n",
    "\n",
    "### Create electronic structure driver:\n",
    "esdriver = Electronic_Structure(seqm_parameters).to(device)\n",
    "\n",
    "### Run esdriver on molecules:\n",
    "esdriver(molecules)"
   ]
  },
  {
   "cell_type": "code",
   "execution_count": null,
   "id": "eca8583f-74aa-4474-9cf0-3bf78dd6f5df",
   "metadata": {},
   "outputs": [],
   "source": [
    "molecules.nocc"
   ]
  },
  {
   "cell_type": "code",
   "execution_count": null,
   "id": "f76a6ee0-d8dc-4142-933c-7b5cfe309f6f",
   "metadata": {
    "scrolled": true,
    "tags": []
   },
   "outputs": [],
   "source": [
    "print(' Total Energy (eV):\\n', molecules.Etot)\n",
    "print('\\n Electronic Energy (eV): ', molecules.Eelec)\n",
    "print('\\n Nuclear Energy (eV):\\n', molecules.Enuc)\n",
    "print('\\n Heat of Formation (ev):\\n', molecules.Hf)\n",
    "print('\\n HOMO-LUMO gap (eV):\\n', molecules.e_gap)\n",
    "print('\\n Orbital energies (eV):\\n', molecules.e_mo)\n",
    "print('\\n Charges:\\n', molecules.q)\n",
    "print('\\n Dipole:\\n', molecules.d)\n",
    "print('\\n Forces (eV/A):\\n', molecules.force)"
   ]
  },
  {
   "cell_type": "code",
   "execution_count": null,
   "id": "74537d21-d1b4-4671-9ae0-d327bb88ebef",
   "metadata": {
    "scrolled": true,
    "tags": []
   },
   "outputs": [],
   "source": [
    "print('\\n Density matrix:\\n', molecules.dm)"
   ]
  },
  {
   "cell_type": "code",
   "execution_count": null,
   "id": "11adc003-5c2e-427d-ab14-534d7392e4c4",
   "metadata": {},
   "outputs": [],
   "source": [
    "molecules.coordinates"
   ]
  }
 ],
 "metadata": {
  "kernelspec": {
   "display_name": ".venv",
   "language": "python",
   "name": "python3"
  },
  "language_info": {
   "codemirror_mode": {
    "name": "ipython",
    "version": 3
   },
   "file_extension": ".py",
   "mimetype": "text/x-python",
   "name": "python",
   "nbconvert_exporter": "python",
   "pygments_lexer": "ipython3",
   "version": "3.9.6"
  }
 },
 "nbformat": 4,
 "nbformat_minor": 5
}
