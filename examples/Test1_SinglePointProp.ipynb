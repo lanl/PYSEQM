{
 "cells": [
  {
   "cell_type": "markdown",
   "id": "9d27d34b-66d6-42ab-9b25-9f716aad7fba",
   "metadata": {},
   "source": [
    "# Example to get energies (total, electronic, nuclear, heat of formation, orbital), charges, dipole, forces, density matrix."
   ]
  },
  {
   "cell_type": "code",
   "execution_count": 7,
   "id": "3adb4c7f-91e0-4bd5-a479-38ba12ba4a0b",
   "metadata": {},
   "outputs": [],
   "source": [
    "import sys\n",
    "### path to PYSEQM ###\n",
    "sys.path.insert(1, \"/home/maxim/Projects/git2/PYSEQM_dev/\")\n",
    "import torch\n",
    "from seqm.seqm_functions.constants import Constants\n",
    "from seqm.Molecule import Molecule\n",
    "from seqm.ElectronicStructure import Electronic_Structure\n",
    "torch.set_default_dtype(torch.float64)\n",
    "if torch.cuda.is_available():\n",
    "    device = torch.device('cuda')\n",
    "else:\n",
    "    device = torch.device('cpu')\n",
    "    \n",
    "#device = torch.device('cpu')"
   ]
  },
  {
   "cell_type": "code",
   "execution_count": 8,
   "id": "39b07b14-8393-4bb4-bf87-75c00c060e11",
   "metadata": {
    "scrolled": true,
    "tags": []
   },
   "outputs": [
    {
     "name": "stderr",
     "output_type": "stream",
     "text": [
      "/vast/home/vishikh/projects/PYSEQM/seqm/seqm_functions/rcis_batch.py:217: SyntaxWarning: invalid escape sequence '\\s'\n",
      "  \"\"\"\n"
     ]
    },
    {
     "ename": "ValueError",
     "evalue": "All molecules in the batch should be of the same type with same number of orbitals and electrons",
     "output_type": "error",
     "traceback": [
      "\u001b[0;31m---------------------------------------------------------------------------\u001b[0m",
      "\u001b[0;31mValueError\u001b[0m                                Traceback (most recent call last)",
      "File \u001b[0;32m<timed exec>:55\u001b[0m\n",
      "File \u001b[0;32m~/.conda/envs/x86_gpu/lib/python3.12/site-packages/torch/nn/modules/module.py:1736\u001b[0m, in \u001b[0;36mModule._wrapped_call_impl\u001b[0;34m(self, *args, **kwargs)\u001b[0m\n\u001b[1;32m   1734\u001b[0m     \u001b[38;5;28;01mreturn\u001b[39;00m \u001b[38;5;28mself\u001b[39m\u001b[38;5;241m.\u001b[39m_compiled_call_impl(\u001b[38;5;241m*\u001b[39margs, \u001b[38;5;241m*\u001b[39m\u001b[38;5;241m*\u001b[39mkwargs)  \u001b[38;5;66;03m# type: ignore[misc]\u001b[39;00m\n\u001b[1;32m   1735\u001b[0m \u001b[38;5;28;01melse\u001b[39;00m:\n\u001b[0;32m-> 1736\u001b[0m     \u001b[38;5;28;01mreturn\u001b[39;00m \u001b[38;5;28mself\u001b[39m\u001b[38;5;241m.\u001b[39m_call_impl(\u001b[38;5;241m*\u001b[39margs, \u001b[38;5;241m*\u001b[39m\u001b[38;5;241m*\u001b[39mkwargs)\n",
      "File \u001b[0;32m~/.conda/envs/x86_gpu/lib/python3.12/site-packages/torch/nn/modules/module.py:1747\u001b[0m, in \u001b[0;36mModule._call_impl\u001b[0;34m(self, *args, **kwargs)\u001b[0m\n\u001b[1;32m   1742\u001b[0m \u001b[38;5;66;03m# If we don't have any hooks, we want to skip the rest of the logic in\u001b[39;00m\n\u001b[1;32m   1743\u001b[0m \u001b[38;5;66;03m# this function, and just call forward.\u001b[39;00m\n\u001b[1;32m   1744\u001b[0m \u001b[38;5;28;01mif\u001b[39;00m \u001b[38;5;129;01mnot\u001b[39;00m (\u001b[38;5;28mself\u001b[39m\u001b[38;5;241m.\u001b[39m_backward_hooks \u001b[38;5;129;01mor\u001b[39;00m \u001b[38;5;28mself\u001b[39m\u001b[38;5;241m.\u001b[39m_backward_pre_hooks \u001b[38;5;129;01mor\u001b[39;00m \u001b[38;5;28mself\u001b[39m\u001b[38;5;241m.\u001b[39m_forward_hooks \u001b[38;5;129;01mor\u001b[39;00m \u001b[38;5;28mself\u001b[39m\u001b[38;5;241m.\u001b[39m_forward_pre_hooks\n\u001b[1;32m   1745\u001b[0m         \u001b[38;5;129;01mor\u001b[39;00m _global_backward_pre_hooks \u001b[38;5;129;01mor\u001b[39;00m _global_backward_hooks\n\u001b[1;32m   1746\u001b[0m         \u001b[38;5;129;01mor\u001b[39;00m _global_forward_hooks \u001b[38;5;129;01mor\u001b[39;00m _global_forward_pre_hooks):\n\u001b[0;32m-> 1747\u001b[0m     \u001b[38;5;28;01mreturn\u001b[39;00m forward_call(\u001b[38;5;241m*\u001b[39margs, \u001b[38;5;241m*\u001b[39m\u001b[38;5;241m*\u001b[39mkwargs)\n\u001b[1;32m   1749\u001b[0m result \u001b[38;5;241m=\u001b[39m \u001b[38;5;28;01mNone\u001b[39;00m\n\u001b[1;32m   1750\u001b[0m called_always_called_hooks \u001b[38;5;241m=\u001b[39m \u001b[38;5;28mset\u001b[39m()\n",
      "File \u001b[0;32m~/projects/PYSEQM/seqm/ElectronicStructure.py:49\u001b[0m, in \u001b[0;36mElectronic_Structure.forward\u001b[0;34m(self, molecule, learned_parameters, xl_bomd_params, P0, err_threshold, max_rank, T_el, dm_prop, *args, **kwargs)\u001b[0m\n\u001b[1;32m     43\u001b[0m \u001b[38;5;250m\u001b[39m\u001b[38;5;124;03m\"\"\"\u001b[39;00m\n\u001b[1;32m     44\u001b[0m \u001b[38;5;124;03mreturn force in unit of eV/Angstrom\u001b[39;00m\n\u001b[1;32m     45\u001b[0m \u001b[38;5;124;03mreturn force, density matrix, total energy of this batch\u001b[39;00m\n\u001b[1;32m     46\u001b[0m \u001b[38;5;124;03m\"\"\"\u001b[39;00m\n\u001b[1;32m     47\u001b[0m \u001b[38;5;28;01mif\u001b[39;00m dm_prop\u001b[38;5;241m==\u001b[39m\u001b[38;5;124m'\u001b[39m\u001b[38;5;124mSCF\u001b[39m\u001b[38;5;124m'\u001b[39m:\n\u001b[1;32m     48\u001b[0m     molecule\u001b[38;5;241m.\u001b[39mforce, P, molecule\u001b[38;5;241m.\u001b[39mHf, molecule\u001b[38;5;241m.\u001b[39mEtot, molecule\u001b[38;5;241m.\u001b[39mEelec, molecule\u001b[38;5;241m.\u001b[39mEnuc, molecule\u001b[38;5;241m.\u001b[39mEiso, molecule\u001b[38;5;241m.\u001b[39me_mo, molecule\u001b[38;5;241m.\u001b[39me_gap, \u001b[38;5;28mself\u001b[39m\u001b[38;5;241m.\u001b[39mcharge, \u001b[38;5;28mself\u001b[39m\u001b[38;5;241m.\u001b[39mnotconverged \u001b[38;5;241m=\u001b[39m \\\n\u001b[0;32m---> 49\u001b[0m                 \u001b[38;5;28mself\u001b[39m\u001b[38;5;241m.\u001b[39mconservative_force(molecule, P0\u001b[38;5;241m=\u001b[39mP0, learned_parameters\u001b[38;5;241m=\u001b[39mlearned_parameters, \u001b[38;5;241m*\u001b[39margs, \u001b[38;5;241m*\u001b[39m\u001b[38;5;241m*\u001b[39mkwargs)\n\u001b[1;32m     50\u001b[0m     molecule\u001b[38;5;241m.\u001b[39mdm \u001b[38;5;241m=\u001b[39m P\u001b[38;5;241m.\u001b[39mdetach()\n\u001b[1;32m     52\u001b[0m \u001b[38;5;28;01melif\u001b[39;00m dm_prop\u001b[38;5;241m==\u001b[39m\u001b[38;5;124m'\u001b[39m\u001b[38;5;124mXL-BOMD\u001b[39m\u001b[38;5;124m'\u001b[39m:\n",
      "File \u001b[0;32m~/.conda/envs/x86_gpu/lib/python3.12/site-packages/torch/nn/modules/module.py:1736\u001b[0m, in \u001b[0;36mModule._wrapped_call_impl\u001b[0;34m(self, *args, **kwargs)\u001b[0m\n\u001b[1;32m   1734\u001b[0m     \u001b[38;5;28;01mreturn\u001b[39;00m \u001b[38;5;28mself\u001b[39m\u001b[38;5;241m.\u001b[39m_compiled_call_impl(\u001b[38;5;241m*\u001b[39margs, \u001b[38;5;241m*\u001b[39m\u001b[38;5;241m*\u001b[39mkwargs)  \u001b[38;5;66;03m# type: ignore[misc]\u001b[39;00m\n\u001b[1;32m   1735\u001b[0m \u001b[38;5;28;01melse\u001b[39;00m:\n\u001b[0;32m-> 1736\u001b[0m     \u001b[38;5;28;01mreturn\u001b[39;00m \u001b[38;5;28mself\u001b[39m\u001b[38;5;241m.\u001b[39m_call_impl(\u001b[38;5;241m*\u001b[39margs, \u001b[38;5;241m*\u001b[39m\u001b[38;5;241m*\u001b[39mkwargs)\n",
      "File \u001b[0;32m~/.conda/envs/x86_gpu/lib/python3.12/site-packages/torch/nn/modules/module.py:1747\u001b[0m, in \u001b[0;36mModule._call_impl\u001b[0;34m(self, *args, **kwargs)\u001b[0m\n\u001b[1;32m   1742\u001b[0m \u001b[38;5;66;03m# If we don't have any hooks, we want to skip the rest of the logic in\u001b[39;00m\n\u001b[1;32m   1743\u001b[0m \u001b[38;5;66;03m# this function, and just call forward.\u001b[39;00m\n\u001b[1;32m   1744\u001b[0m \u001b[38;5;28;01mif\u001b[39;00m \u001b[38;5;129;01mnot\u001b[39;00m (\u001b[38;5;28mself\u001b[39m\u001b[38;5;241m.\u001b[39m_backward_hooks \u001b[38;5;129;01mor\u001b[39;00m \u001b[38;5;28mself\u001b[39m\u001b[38;5;241m.\u001b[39m_backward_pre_hooks \u001b[38;5;129;01mor\u001b[39;00m \u001b[38;5;28mself\u001b[39m\u001b[38;5;241m.\u001b[39m_forward_hooks \u001b[38;5;129;01mor\u001b[39;00m \u001b[38;5;28mself\u001b[39m\u001b[38;5;241m.\u001b[39m_forward_pre_hooks\n\u001b[1;32m   1745\u001b[0m         \u001b[38;5;129;01mor\u001b[39;00m _global_backward_pre_hooks \u001b[38;5;129;01mor\u001b[39;00m _global_backward_hooks\n\u001b[1;32m   1746\u001b[0m         \u001b[38;5;129;01mor\u001b[39;00m _global_forward_hooks \u001b[38;5;129;01mor\u001b[39;00m _global_forward_pre_hooks):\n\u001b[0;32m-> 1747\u001b[0m     \u001b[38;5;28;01mreturn\u001b[39;00m forward_call(\u001b[38;5;241m*\u001b[39margs, \u001b[38;5;241m*\u001b[39m\u001b[38;5;241m*\u001b[39mkwargs)\n\u001b[1;32m   1749\u001b[0m result \u001b[38;5;241m=\u001b[39m \u001b[38;5;28;01mNone\u001b[39;00m\n\u001b[1;32m   1750\u001b[0m called_always_called_hooks \u001b[38;5;241m=\u001b[39m \u001b[38;5;28mset\u001b[39m()\n",
      "File \u001b[0;32m~/projects/PYSEQM/seqm/basics.py:675\u001b[0m, in \u001b[0;36mForce.forward\u001b[0;34m(self, molecule, learned_parameters, P0, do_force, *args, **kwargs)\u001b[0m\n\u001b[1;32m    672\u001b[0m \u001b[38;5;28;01mif\u001b[39;00m \u001b[38;5;129;01mnot\u001b[39;00m analytical_gradient[\u001b[38;5;241m0\u001b[39m]:\n\u001b[1;32m    673\u001b[0m     molecule\u001b[38;5;241m.\u001b[39mcoordinates\u001b[38;5;241m.\u001b[39mrequires_grad_(\u001b[38;5;28;01mTrue\u001b[39;00m)\n\u001b[1;32m    674\u001b[0m Hf, Etot, Eelec, Enuc, Eiso, EnucAB, e_gap, e, D, charge, notconverged \u001b[38;5;241m=\u001b[39m \\\n\u001b[0;32m--> 675\u001b[0m     \u001b[38;5;28mself\u001b[39m\u001b[38;5;241m.\u001b[39menergy(molecule, learned_parameters\u001b[38;5;241m=\u001b[39mlearned_parameters, all_terms\u001b[38;5;241m=\u001b[39m\u001b[38;5;28;01mTrue\u001b[39;00m, P0\u001b[38;5;241m=\u001b[39mP0, \u001b[38;5;241m*\u001b[39margs, \u001b[38;5;241m*\u001b[39m\u001b[38;5;241m*\u001b[39mkwargs)\n\u001b[1;32m    677\u001b[0m \u001b[38;5;28;01mif\u001b[39;00m \u001b[38;5;28mself\u001b[39m\u001b[38;5;241m.\u001b[39meig:\n\u001b[1;32m    678\u001b[0m     e \u001b[38;5;241m=\u001b[39m e\u001b[38;5;241m.\u001b[39mdetach()\n",
      "File \u001b[0;32m~/.conda/envs/x86_gpu/lib/python3.12/site-packages/torch/nn/modules/module.py:1736\u001b[0m, in \u001b[0;36mModule._wrapped_call_impl\u001b[0;34m(self, *args, **kwargs)\u001b[0m\n\u001b[1;32m   1734\u001b[0m     \u001b[38;5;28;01mreturn\u001b[39;00m \u001b[38;5;28mself\u001b[39m\u001b[38;5;241m.\u001b[39m_compiled_call_impl(\u001b[38;5;241m*\u001b[39margs, \u001b[38;5;241m*\u001b[39m\u001b[38;5;241m*\u001b[39mkwargs)  \u001b[38;5;66;03m# type: ignore[misc]\u001b[39;00m\n\u001b[1;32m   1735\u001b[0m \u001b[38;5;28;01melse\u001b[39;00m:\n\u001b[0;32m-> 1736\u001b[0m     \u001b[38;5;28;01mreturn\u001b[39;00m \u001b[38;5;28mself\u001b[39m\u001b[38;5;241m.\u001b[39m_call_impl(\u001b[38;5;241m*\u001b[39margs, \u001b[38;5;241m*\u001b[39m\u001b[38;5;241m*\u001b[39mkwargs)\n",
      "File \u001b[0;32m~/.conda/envs/x86_gpu/lib/python3.12/site-packages/torch/nn/modules/module.py:1747\u001b[0m, in \u001b[0;36mModule._call_impl\u001b[0;34m(self, *args, **kwargs)\u001b[0m\n\u001b[1;32m   1742\u001b[0m \u001b[38;5;66;03m# If we don't have any hooks, we want to skip the rest of the logic in\u001b[39;00m\n\u001b[1;32m   1743\u001b[0m \u001b[38;5;66;03m# this function, and just call forward.\u001b[39;00m\n\u001b[1;32m   1744\u001b[0m \u001b[38;5;28;01mif\u001b[39;00m \u001b[38;5;129;01mnot\u001b[39;00m (\u001b[38;5;28mself\u001b[39m\u001b[38;5;241m.\u001b[39m_backward_hooks \u001b[38;5;129;01mor\u001b[39;00m \u001b[38;5;28mself\u001b[39m\u001b[38;5;241m.\u001b[39m_backward_pre_hooks \u001b[38;5;129;01mor\u001b[39;00m \u001b[38;5;28mself\u001b[39m\u001b[38;5;241m.\u001b[39m_forward_hooks \u001b[38;5;129;01mor\u001b[39;00m \u001b[38;5;28mself\u001b[39m\u001b[38;5;241m.\u001b[39m_forward_pre_hooks\n\u001b[1;32m   1745\u001b[0m         \u001b[38;5;129;01mor\u001b[39;00m _global_backward_pre_hooks \u001b[38;5;129;01mor\u001b[39;00m _global_backward_hooks\n\u001b[1;32m   1746\u001b[0m         \u001b[38;5;129;01mor\u001b[39;00m _global_forward_hooks \u001b[38;5;129;01mor\u001b[39;00m _global_forward_pre_hooks):\n\u001b[0;32m-> 1747\u001b[0m     \u001b[38;5;28;01mreturn\u001b[39;00m forward_call(\u001b[38;5;241m*\u001b[39margs, \u001b[38;5;241m*\u001b[39m\u001b[38;5;241m*\u001b[39mkwargs)\n\u001b[1;32m   1749\u001b[0m result \u001b[38;5;241m=\u001b[39m \u001b[38;5;28;01mNone\u001b[39;00m\n\u001b[1;32m   1750\u001b[0m called_always_called_hooks \u001b[38;5;241m=\u001b[39m \u001b[38;5;28mset\u001b[39m()\n",
      "File \u001b[0;32m~/projects/PYSEQM/seqm/basics.py:630\u001b[0m, in \u001b[0;36mEnergy.forward\u001b[0;34m(self, molecule, learned_parameters, all_terms, P0, *args, **kwargs)\u001b[0m\n\u001b[1;32m    628\u001b[0m \u001b[38;5;28;01mwith\u001b[39;00m torch\u001b[38;5;241m.\u001b[39mno_grad():\n\u001b[1;32m    629\u001b[0m     \u001b[38;5;28;01mif\u001b[39;00m molecule\u001b[38;5;241m.\u001b[39mnmol \u001b[38;5;241m>\u001b[39m\u001b[38;5;241m=\u001b[39m \u001b[38;5;241m1\u001b[39m:\n\u001b[0;32m--> 630\u001b[0m         excitation_energies, exc_amps \u001b[38;5;241m=\u001b[39m rcis_batch(molecule,w,e,\u001b[38;5;28mself\u001b[39m\u001b[38;5;241m.\u001b[39mexcited_states[\u001b[38;5;241m1\u001b[39m],cis_tol)\n\u001b[1;32m    631\u001b[0m         cis_gradient \u001b[38;5;241m=\u001b[39m kwargs\u001b[38;5;241m.\u001b[39mget(\u001b[38;5;124m'\u001b[39m\u001b[38;5;124mcis_gradient\u001b[39m\u001b[38;5;124m'\u001b[39m,[\u001b[38;5;28;01mFalse\u001b[39;00m])\n\u001b[1;32m    632\u001b[0m         \u001b[38;5;66;03m# if molecule.nmol == 1: rcis_grad(molecule,exc_amps[0,0],w,e,riXH,ri,P)\u001b[39;00m\n",
      "File \u001b[0;32m~/projects/PYSEQM/seqm/seqm_functions/rcis_batch.py:38\u001b[0m, in \u001b[0;36mrcis_batch\u001b[0;34m(mol, w, e_mo, nroots, root_tol)\u001b[0m\n\u001b[1;32m     36\u001b[0m \u001b[38;5;66;03m# print_memory_usage(\"RCIS beginning\")\u001b[39;00m\n\u001b[1;32m     37\u001b[0m \u001b[38;5;28;01mif\u001b[39;00m \u001b[38;5;129;01mnot\u001b[39;00m torch\u001b[38;5;241m.\u001b[39mall(norb \u001b[38;5;241m==\u001b[39m norb[\u001b[38;5;241m0\u001b[39m]) \u001b[38;5;129;01mor\u001b[39;00m \u001b[38;5;129;01mnot\u001b[39;00m torch\u001b[38;5;241m.\u001b[39mall(nocc \u001b[38;5;241m==\u001b[39m nocc[\u001b[38;5;241m0\u001b[39m]):\n\u001b[0;32m---> 38\u001b[0m     \u001b[38;5;28;01mraise\u001b[39;00m \u001b[38;5;167;01mValueError\u001b[39;00m(\n\u001b[1;32m     39\u001b[0m         \u001b[38;5;124m'\u001b[39m\u001b[38;5;124mAll molecules in the batch should be of the same type with same number of orbitals and electrons\u001b[39m\u001b[38;5;124m'\u001b[39m)\n\u001b[1;32m     40\u001b[0m norb \u001b[38;5;241m=\u001b[39m norb[\u001b[38;5;241m0\u001b[39m]\n\u001b[1;32m     41\u001b[0m nocc \u001b[38;5;241m=\u001b[39m nocc[\u001b[38;5;241m0\u001b[39m]\n",
      "\u001b[0;31mValueError\u001b[0m: All molecules in the batch should be of the same type with same number of orbitals and electrons"
     ]
    }
   ],
   "source": [
    "%%time\n",
    "\n",
    "### create molecule object:\n",
    "species = torch.as_tensor([[8,6,1,1],\n",
    "                           [8,6,1,1],\n",
    "                           [8,8,6,0]], # zero-padding for batching\n",
    "                          dtype=torch.int64, device=device)\n",
    "\n",
    "coordinates = torch.tensor([\n",
    "                              [\n",
    "                               [0.00,    0.00,    0.00],\n",
    "                               [1.22,    0.00,    0.00],\n",
    "                               [1.82,    0.94,    0.00],\n",
    "                               [1.82,   -0.94,    0.00]\n",
    "                              ],\n",
    "                              [\n",
    "                               [0.00,    0.00,    0.00],\n",
    "                               [1.22,    0.00,    0.00],\n",
    "                               [1.82,    0.94,    0.00],\n",
    "                               [1.82,   -0.94,    0.00]\n",
    "                              ],\n",
    "                              [\n",
    "                               [0.00,    0.00,    0.00],\n",
    "                               [1.23,    0.00,    0.00],\n",
    "                               [1.82,    0.94,    0.00],\n",
    "                               [0.0,0.0,0.0]            # zero-padding for batching\n",
    "                              ]\n",
    "                            ], device=device)\n",
    "\n",
    "const = Constants().to(device)\n",
    "\n",
    "elements = [0]+sorted(set(species.reshape(-1).tolist()))\n",
    "\n",
    "seqm_parameters = {\n",
    "                   'method' : 'AM1',  # AM1, MNDO, PM3, PM6, PM6_SP. PM6_SP is PM6 without d-orbitals. Effectively, PM6 for the first two rows of periodic table\n",
    "                   'scf_eps' : 1.0e-6,  # unit eV, change of electric energy, as nuclear energy doesnt' change during SCF\n",
    "                   'scf_converger' : [0,0.0], # converger used for scf loop\n",
    "                                         # [0, 0.1], [0, alpha] constant mixing, P = alpha*P + (1.0-alpha)*Pnew\n",
    "                                         # [1], adaptive mixing\n",
    "                                         # [2], adaptive mixing, then pulay\n",
    "                   'sp2' : [False, 1.0e-5],  # whether to use sp2 algorithm in scf loop,\n",
    "                                            #[True, eps] or [False], eps for SP2 conve criteria\n",
    "                   'elements' : elements, #[0,1,6,8],\n",
    "                   'learned' : [], # learned parameters name list, e.g ['U_ss']\n",
    "                   #'parameter_file_dir' : '../seqm/params/', # file directory for other required parameters\n",
    "                   'pair_outer_cutoff' : 1.0e10, # consistent with the unit on coordinates\n",
    "                   'eig' : True, # store orbital energies\n",
    "                   }\n",
    "\n",
    "molecules = Molecule(const, seqm_parameters, coordinates, species).to(device)\n",
    "\n",
    "### Create electronic structure driver:\n",
    "esdriver = Electronic_Structure(seqm_parameters).to(device)\n",
    "\n",
    "### Run esdriver on molecules:\n",
    "esdriver(molecules)"
   ]
  },
  {
   "cell_type": "code",
   "execution_count": 9,
   "id": "eca8583f-74aa-4474-9cf0-3bf78dd6f5df",
   "metadata": {},
   "outputs": [
    {
     "data": {
      "text/plain": [
       "tensor([6, 6, 8], device='cuda:0')"
      ]
     },
     "execution_count": 9,
     "metadata": {},
     "output_type": "execute_result"
    }
   ],
   "source": [
    "molecules.nocc"
   ]
  },
  {
   "cell_type": "code",
   "execution_count": 10,
   "id": "f76a6ee0-d8dc-4142-933c-7b5cfe309f6f",
   "metadata": {
    "scrolled": true,
    "tags": []
   },
   "outputs": [
    {
     "name": "stdout",
     "output_type": "stream",
     "text": [
      " Total Energy (eV):\n",
      " None\n",
      "\n",
      " Electronic Energy (eV):  None\n",
      "\n",
      " Nuclear Energy (eV):\n",
      " None\n",
      "\n",
      " Heat of Formation (ev):\n",
      " None\n",
      "\n",
      " HOMO-LUMO gap (eV):\n",
      " None\n",
      "\n",
      " Orbital energies (eV):\n",
      " None\n",
      "\n",
      " Charges:\n",
      " None\n",
      "\n",
      " Dipole:\n",
      " None\n",
      "\n",
      " Forces (eV/A):\n",
      " None\n"
     ]
    }
   ],
   "source": [
    "print(' Total Energy (eV):\\n', molecules.Etot)\n",
    "print('\\n Electronic Energy (eV): ', molecules.Eelec)\n",
    "print('\\n Nuclear Energy (eV):\\n', molecules.Enuc)\n",
    "print('\\n Heat of Formation (ev):\\n', molecules.Hf)\n",
    "print('\\n HOMO-LUMO gap (eV):\\n', molecules.e_gap)\n",
    "print('\\n Orbital energies (eV):\\n', molecules.e_mo)\n",
    "print('\\n Charges:\\n', molecules.q)\n",
    "print('\\n Dipole:\\n', molecules.d)\n",
    "print('\\n Forces (eV/A):\\n', molecules.force)"
   ]
  },
  {
   "cell_type": "code",
   "execution_count": 11,
   "id": "74537d21-d1b4-4671-9ae0-d327bb88ebef",
   "metadata": {
    "scrolled": true,
    "tags": []
   },
   "outputs": [
    {
     "name": "stdout",
     "output_type": "stream",
     "text": [
      "\n",
      " Density matrix:\n",
      " None\n"
     ]
    }
   ],
   "source": [
    "print('\\n Density matrix:\\n', molecules.dm)"
   ]
  },
  {
   "cell_type": "code",
   "execution_count": 12,
   "id": "11adc003-5c2e-427d-ab14-534d7392e4c4",
   "metadata": {},
   "outputs": [
    {
     "data": {
      "text/plain": [
       "Parameter containing:\n",
       "tensor([[[ 0.0000,  0.0000,  0.0000],\n",
       "         [ 1.2200,  0.0000,  0.0000],\n",
       "         [ 1.8200,  0.9400,  0.0000],\n",
       "         [ 1.8200, -0.9400,  0.0000]],\n",
       "\n",
       "        [[ 0.0000,  0.0000,  0.0000],\n",
       "         [ 1.2200,  0.0000,  0.0000],\n",
       "         [ 1.8200,  0.9400,  0.0000],\n",
       "         [ 1.8200, -0.9400,  0.0000]],\n",
       "\n",
       "        [[ 0.0000,  0.0000,  0.0000],\n",
       "         [ 1.2300,  0.0000,  0.0000],\n",
       "         [ 1.8200,  0.9400,  0.0000],\n",
       "         [ 0.0000,  0.0000,  0.0000]]], device='cuda:0', requires_grad=True)"
      ]
     },
     "execution_count": 12,
     "metadata": {},
     "output_type": "execute_result"
    }
   ],
   "source": [
    "molecules.coordinates"
   ]
  }
 ],
 "metadata": {
  "kernelspec": {
   "display_name": "Python 3 (ipykernel)",
   "language": "python",
   "name": "python3"
  },
  "language_info": {
   "codemirror_mode": {
    "name": "ipython",
    "version": 3
   },
   "file_extension": ".py",
   "mimetype": "text/x-python",
   "name": "python",
   "nbconvert_exporter": "python",
   "pygments_lexer": "ipython3",
   "version": "3.12.0"
  },
  "vscode": {
   "interpreter": {
    "hash": "7eaf19b248fb632f60462f4259de56b0149d6a5aae8e26265fa4c03168ece137"
   }
  }
 },
 "nbformat": 4,
 "nbformat_minor": 5
}
