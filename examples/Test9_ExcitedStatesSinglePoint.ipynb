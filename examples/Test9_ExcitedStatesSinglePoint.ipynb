{
 "cells": [
  {
   "cell_type": "markdown",
   "id": "d102947a",
   "metadata": {},
   "source": [
    "# Excited‐State Calculations with PYSEQM"
   ]
  },
  {
   "cell_type": "code",
   "execution_count": 1,
   "id": "eaa36f8a",
   "metadata": {},
   "outputs": [],
   "source": [
    "import torch\n",
    "from seqm.seqm_functions.constants import Constants\n",
    "from seqm.Molecule import Molecule\n",
    "from seqm.ElectronicStructure import Electronic_Structure\n",
    "torch.set_default_dtype(torch.float64)\n",
    "device = torch.device('cuda' if torch.cuda.is_available() else 'cpu')"
   ]
  },
  {
   "cell_type": "code",
   "execution_count": 2,
   "id": "6bb29191",
   "metadata": {},
   "outputs": [
    {
     "name": "stdout",
     "output_type": "stream",
     "text": [
      "scf pulay step   :  51 | MAX ΔE[   1]:    0.0000000 | MAX ΔDM[   0]:    0.0000000 | MAX ΔDM_ij[   0]:  0.0000001  | N not converged: 0\n",
      "Number of davidson iterations: tensor([4, 2]), number of subspace collapses: tensor([0, 0])\n",
      "Number of excited states: 10\n",
      "\n",
      "Excitation energies E (eV), Transition dipoles d (au), and Oscillator strengths f (unitless)\n",
      "E                   d x          d y          d z      f         \n",
      "-----------------------------------------------------------------\n",
      "Molecule 1:\n",
      "2.840489      -0.000000    -0.000000     0.000000      0.000000  \n",
      "6.145347      -0.000000     0.742219    -0.000000      0.082941  \n",
      "6.889128      -0.376690    -0.000000    -0.000000      0.023949  \n",
      "7.709153      -0.000000     0.836986    -0.000000      0.132312  \n",
      "8.541518      -0.000000    -0.000000     0.114948      0.002765  \n",
      "9.238824      -1.436849    -0.000000    -0.000000      0.467301  \n",
      "9.435159       0.000000    -0.000000     0.000000      0.000000  \n",
      "9.719392       0.000000    -0.000000    -0.255935      0.015598  \n",
      "10.792585      0.000000     0.000000    -0.000000      0.000000  \n",
      "11.383941      0.000000     0.000000     0.180694      0.009106  \n",
      "\n",
      "Molecule 2:\n",
      "2.444129       0.001554    -0.204613    -0.027184      0.002551  \n",
      "6.104997       0.041400    -0.783114    -0.108465      0.093742  \n",
      "6.607228       0.345604    -0.033484    -0.402588      0.045752  \n",
      "7.416993      -0.046163     0.773661     0.047096      0.109555  \n",
      "7.804152      -0.628686    -0.023771     0.004026      0.075681  \n",
      "8.715745      -0.870435    -0.015393    -0.184350      0.169091  \n",
      "8.764598      -0.599582     0.047590    -0.145992      0.082258  \n",
      "9.856539      -0.854955    -0.009109     0.110748      0.179491  \n",
      "10.262667     -0.025823     0.019780    -0.020923      0.000376  \n",
      "10.945777      0.059290     0.023394    -0.176641      0.009457  \n",
      "\n"
     ]
    }
   ],
   "source": [
    "species = torch.as_tensor([[8,6,1,1],\n",
    "                           [8,6,1,1],],\n",
    "                        dtype=torch.int64, device=device)\n",
    "\n",
    "coordinates = torch.tensor([\n",
    "                              [\n",
    "                              [0.00,    0.00,    0.00],\n",
    "                              [1.22,    0.00,    0.00],\n",
    "                              [1.82,    0.94,    0.00],\n",
    "                              [1.82,   -0.94,    0.00]\n",
    "                              ],\n",
    "                              [\n",
    "                               [0.00,    0.00,    0.00],\n",
    "                               [1.22,    0.00,    0.20],\n",
    "                               [1.82,    0.94,    0.00],\n",
    "                               [1.81,   -0.93,    -0.20]\n",
    "                              ],\n",
    "                           ], device=device)\n",
    "\n",
    "const = Constants().to(device)\n",
    "\n",
    "seqm_parameters = {\n",
    "   'method': 'AM1',\n",
    "   'scf_eps': 1.0e-8,\n",
    "   'scf_converger': [2, 0.0],\n",
    "   'excited_states': {'n_states': 10}, \n",
    "}\n",
    "\n",
    "molecules = Molecule(const, seqm_parameters, coordinates, species).to(device)\n",
    "esdriver = Electronic_Structure(seqm_parameters).to(device)\n",
    "esdriver(molecules)"
   ]
  }
 ],
 "metadata": {
  "kernelspec": {
   "display_name": "base",
   "language": "python",
   "name": "python3"
  },
  "language_info": {
   "codemirror_mode": {
    "name": "ipython",
    "version": 3
   },
   "file_extension": ".py",
   "mimetype": "text/x-python",
   "name": "python",
   "nbconvert_exporter": "python",
   "pygments_lexer": "ipython3",
   "version": "3.11.10"
  }
 },
 "nbformat": 4,
 "nbformat_minor": 5
}
