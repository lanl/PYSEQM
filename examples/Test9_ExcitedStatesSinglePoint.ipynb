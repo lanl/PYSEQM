{
 "cells": [
  {
   "cell_type": "markdown",
   "id": "d102947a",
   "metadata": {},
   "source": [
    "# Excited‐State Calculations with PYSEQM"
   ]
  },
  {
   "cell_type": "code",
   "execution_count": 1,
   "id": "eaa36f8a",
   "metadata": {},
   "outputs": [],
   "source": [
    "import torch\n",
    "from seqm.seqm_functions.constants import Constants\n",
    "from seqm.Molecule import Molecule\n",
    "from seqm.ElectronicStructure import Electronic_Structure\n",
    "torch.set_default_dtype(torch.float64)\n",
    "device = torch.device('cuda' if torch.cuda.is_available() else 'cpu')"
   ]
  },
  {
   "cell_type": "code",
   "execution_count": 2,
   "id": "6bb29191",
   "metadata": {},
   "outputs": [
    {
     "name": "stdout",
     "output_type": "stream",
     "text": [
      "scf pulay step   :  51 | MAX ΔE[   1]:    0.0000000 | MAX ΔDM[   0]:    0.0000000 | MAX ΔDM_ij[   0]:  0.0000001  | N not converged: 0\n",
      "Number of davidson iterations: tensor([4, 2]), number of subspace collapses: tensor([0, 0])\n",
      "Number of excited states: 10\n",
      "\n",
      "Excitation energies E (eV), Transition dipoles d (au), and Oscillator strengths f (unitless)\n",
      "E                   d x          d y          d z      f         \n",
      "-----------------------------------------------------------------\n",
      "Molecule 1:\n",
      "2.840489      -0.000000    -0.000000     0.000000      0.000000  \n",
      "6.145347      -0.000000     0.742219    -0.000000      0.082941  \n",
      "6.889128      -0.376690    -0.000000    -0.000000      0.023949  \n",
      "7.709153      -0.000000     0.836986    -0.000000      0.132312  \n",
      "8.541518      -0.000000    -0.000000     0.114948      0.002765  \n",
      "9.238824      -1.436849    -0.000000    -0.000000      0.467301  \n",
      "9.435159       0.000000    -0.000000     0.000000      0.000000  \n",
      "9.719392       0.000000    -0.000000    -0.255935      0.015598  \n",
      "10.792585      0.000000     0.000000    -0.000000      0.000000  \n",
      "11.383941      0.000000     0.000000     0.180694      0.009106  \n",
      "\n",
      "Molecule 2:\n",
      "2.444129       0.001554    -0.204613    -0.027184      0.002551  \n",
      "6.104997       0.041400    -0.783114    -0.108465      0.093742  \n",
      "6.607228       0.345604    -0.033484    -0.402588      0.045752  \n",
      "7.416993      -0.046163     0.773661     0.047096      0.109555  \n",
      "7.804152      -0.628686    -0.023771     0.004026      0.075681  \n",
      "8.715745      -0.870435    -0.015393    -0.184350      0.169091  \n",
      "8.764598      -0.599582     0.047590    -0.145992      0.082258  \n",
      "9.856539      -0.854955    -0.009109     0.110748      0.179491  \n",
      "10.262667     -0.025823     0.019780    -0.020923      0.000376  \n",
      "10.945777      0.059290     0.023394    -0.176641      0.009457  \n",
      "\n"
     ]
    }
   ],
   "source": [
    "species = torch.as_tensor([[8,6,1,1],\n",
    "                           [8,6,1,1],],\n",
    "                        dtype=torch.int64, device=device)\n",
    "\n",
    "coordinates = torch.tensor([\n",
    "                              [\n",
    "                              [0.00,    0.00,    0.00],\n",
    "                              [1.22,    0.00,    0.00],\n",
    "                              [1.82,    0.94,    0.00],\n",
    "                              [1.82,   -0.94,    0.00]\n",
    "                              ],\n",
    "                              [\n",
    "                               [0.00,    0.00,    0.00],\n",
    "                               [1.22,    0.00,    0.20],\n",
    "                               [1.82,    0.94,    0.00],\n",
    "                               [1.81,   -0.93,    -0.20]\n",
    "                              ],\n",
    "                           ], device=device)\n",
    "\n",
    "const = Constants().to(device)\n",
    "\n",
    "seqm_parameters = {\n",
    "   'method': 'AM1',\n",
    "   'scf_eps': 1.0e-8,\n",
    "   'scf_converger': [2, 0.0],\n",
    "   'excited_states': {'n_states': 10}, \n",
    "}\n",
    "\n",
    "molecules = Molecule(const, seqm_parameters, coordinates, species).to(device)\n",
    "esdriver = Electronic_Structure(seqm_parameters).to(device)\n",
    "esdriver(molecules)"
   ]
  },
  {
   "cell_type": "markdown",
   "id": "a31d2506",
   "metadata": {},
   "source": [
    "CIS excited state calculation for heterogenous batch"
   ]
  },
  {
   "cell_type": "code",
   "execution_count": 2,
   "id": "077a6cac",
   "metadata": {},
   "outputs": [
    {
     "name": "stdout",
     "output_type": "stream",
     "text": [
      "scf pulay step   :  31 | MAX ΔE[   1]:    0.0000000 | MAX ΔDM[   0]:    0.0000000 | MAX ΔDM_ij[   0]:  0.0000000  | N not converged: 0\n",
      "Number of davidson iterations: tensor([3, 4]), number of subspace collapses: tensor([0, 0])\n",
      "Number of excited states: 10\n",
      "\n",
      "Excitation energies E (eV), Transition dipoles d (au), and Oscillator strengths f (unitless)\n",
      "E                   d x          d y          d z      f         \n",
      "-----------------------------------------------------------------\n",
      "Molecule 1:\n",
      "2.840489      -0.000000    -0.000000    -0.000000      0.000000  \n",
      "6.145347      -0.000000    -0.742219     0.000000      0.082941  \n",
      "6.889128       0.376690     0.000000    -0.000000      0.023949  \n",
      "7.709153       0.000000    -0.836986    -0.000000      0.132312  \n",
      "8.541518      -0.000000    -0.000000    -0.114948      0.002765  \n",
      "9.238824      -1.436849    -0.000000     0.000000      0.467301  \n",
      "9.435159      -0.000000    -0.000000     0.000000      0.000000  \n",
      "9.719392       0.000000     0.000000     0.255935      0.015598  \n",
      "10.792585      0.000000     0.000000     0.000000      0.000000  \n",
      "11.383941     -0.000000    -0.000000     0.180694      0.009106  \n",
      "\n",
      "Molecule 2:\n",
      "1.700195       0.005254    -0.010172    -0.032047      0.000048  \n",
      "1.763827       0.039436     0.015132     0.001662      0.000077  \n",
      "3.508727       0.008922    -0.017275    -0.054427      0.000287  \n",
      "4.302809       0.406084     0.276820    -0.021293      0.025510  \n",
      "4.624202       0.003779    -0.007317    -0.023052      0.000068  \n",
      "4.957361       0.875788     0.436552     0.005008      0.116304  \n",
      "6.311685      -0.067532     0.528524    -0.178827      0.048845  \n",
      "7.782855      -0.083082     0.160861     0.506800      0.055225  \n",
      "8.074945      -0.032305     0.062547     0.197059      0.008663  \n",
      "8.462295      -0.452972    -0.197818    -0.011469      0.050679  \n",
      "\n"
     ]
    }
   ],
   "source": [
    "species = torch.as_tensor([[8,6,1,1],\n",
    "                           [8,8,6,0],],\n",
    "                        dtype=torch.int64, device=device)\n",
    "\n",
    "coordinates = torch.tensor([\n",
    "                              [\n",
    "                              [0.00,    0.00,    0.00],\n",
    "                              [1.22,    0.00,    0.00],\n",
    "                              [1.82,    0.94,    0.00],\n",
    "                              [1.82,   -0.94,    0.00]\n",
    "                              ],\n",
    "                              [\n",
    "                               [0.00,    0.00,    0.00],\n",
    "                               [1.22,    0.00,    0.20],\n",
    "                               [1.82,    0.94,    0.00],\n",
    "                               [1.81,   -0.93,    -0.20]\n",
    "                              ],\n",
    "                           ], device=device)\n",
    "\n",
    "const = Constants().to(device)\n",
    "\n",
    "seqm_parameters = {\n",
    "   'method': 'AM1',\n",
    "   'scf_eps': 1.0e-8,\n",
    "   'scf_converger': [2, 0.0],\n",
    "   'excited_states': {'n_states': 10}, \n",
    "}\n",
    "\n",
    "molecules = Molecule(const, seqm_parameters, coordinates, species).to(device)\n",
    "esdriver = Electronic_Structure(seqm_parameters).to(device)\n",
    "esdriver(molecules)"
   ]
  },
  {
   "cell_type": "markdown",
   "id": "c22d2cdc",
   "metadata": {},
   "source": [
    "Orbital-window selection to restrict active orbitals"
   ]
  },
  {
   "cell_type": "code",
   "execution_count": 3,
   "id": "de570487",
   "metadata": {},
   "outputs": [
    {
     "name": "stdout",
     "output_type": "stream",
     "text": [
      "scf pulay step   :  28 | MAX ΔE[   1]:    0.0000000 | MAX ΔDM[   0]:    0.0000000 | MAX ΔDM_ij[   0]:  0.0000000  | N not converged: 0\n",
      "Number of davidson iterations: tensor([2, 2]), number of subspace collapses: tensor([0, 0])\n",
      "Number of excited states: 10\n",
      "\n",
      "Excitation energies E (eV), Transition dipoles d (au), and Oscillator strengths f (unitless)\n",
      "E                   d x          d y          d z      f         \n",
      "-----------------------------------------------------------------\n",
      "Molecule 1:\n",
      "2.840489      -0.000000     0.000000     0.000000      0.000000  \n",
      "6.591765      -0.000000     1.004917    -0.000000      0.163087  \n",
      "6.919990      -0.343737    -0.000000     0.000000      0.020032  \n",
      "8.596335       0.000000    -0.000000     0.100534      0.002129  \n",
      "9.435159       0.000000    -0.000000     0.000000      0.000000  \n",
      "9.775288      -1.844114    -0.000000     0.000000      0.814447  \n",
      "10.551889      0.000000    -0.000000     0.359432      0.033398  \n",
      "10.792585     -0.000000    -0.000000     0.000000      0.000000  \n",
      "11.825309      0.446698     0.000000    -0.000000      0.057809  \n",
      "12.064465     -0.000000     0.653198     0.000000      0.126112  \n",
      "\n",
      "Molecule 2:\n",
      "2.452785      -0.001276     0.201839     0.027765      0.002495  \n",
      "6.444913      -0.104022     1.000153     0.197361      0.165805  \n",
      "6.660258      -0.319255    -0.185869     0.393947      0.047592  \n",
      "7.940767       0.530963    -0.007350     0.006607      0.054866  \n",
      "8.698824       0.109520    -0.065895    -0.001392      0.003482  \n",
      "9.291865      -1.595560     0.052692    -0.322166      0.603804  \n",
      "10.259396      0.182993     0.014687    -0.056002      0.009259  \n",
      "10.463161      0.785661     0.003001    -0.189836      0.167471  \n",
      "11.727333     -0.060576     0.262266     0.246040      0.038209  \n",
      "11.886295      0.160050     0.609591    -0.020694      0.115798  \n",
      "\n"
     ]
    }
   ],
   "source": [
    "species = torch.as_tensor([[8,6,1,1],\n",
    "                           [8,6,1,1],],\n",
    "                        dtype=torch.int64, device=device)\n",
    "\n",
    "coordinates = torch.tensor([\n",
    "                              [\n",
    "                              [0.00,    0.00,    0.00],\n",
    "                              [1.22,    0.00,    0.00],\n",
    "                              [1.82,    0.94,    0.00],\n",
    "                              [1.82,   -0.94,    0.00]\n",
    "                              ],\n",
    "                              [\n",
    "                               [0.00,    0.00,    0.00],\n",
    "                               [1.22,    0.00,    0.20],\n",
    "                               [1.82,    0.94,    0.00],\n",
    "                               [1.81,   -0.93,    -0.20]\n",
    "                              ],\n",
    "                           ], device=device)\n",
    "\n",
    "const = Constants().to(device)\n",
    "\n",
    "seqm_parameters = {\n",
    "   'method': 'AM1',\n",
    "   'scf_eps': 1.0e-8,\n",
    "   'scf_converger': [2, 0.0],\n",
    "   'excited_states': {'n_states': 10, 'orbital_window':[4,3]}, # take 4 orbitals below HOMO and 3 orbitals above LUMO in the active space\n",
    "}\n",
    "\n",
    "molecules = Molecule(const, seqm_parameters, coordinates, species).to(device)\n",
    "esdriver = Electronic_Structure(seqm_parameters).to(device)\n",
    "esdriver(molecules)"
   ]
  }
 ],
 "metadata": {
  "kernelspec": {
   "display_name": "base",
   "language": "python",
   "name": "python3"
  },
  "language_info": {
   "codemirror_mode": {
    "name": "ipython",
    "version": 3
   },
   "file_extension": ".py",
   "mimetype": "text/x-python",
   "name": "python",
   "nbconvert_exporter": "python",
   "pygments_lexer": "ipython3",
   "version": "3.11.10"
  }
 },
 "nbformat": 4,
 "nbformat_minor": 5
}
