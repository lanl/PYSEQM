{
 "cells": [
  {
   "cell_type": "markdown",
   "id": "9c594baf-e601-4f39-ace7-832bed008aaf",
   "metadata": {},
   "source": [
    "# Normal modes analysis of methanol via semi-numerical method. <br /> Forces of displaced geometries are computed via automatic differentiation. <br /> Then, Hessian is computed numerically."
   ]
  },
  {
   "cell_type": "code",
   "execution_count": 1,
   "id": "a9cc35a1-6280-4815-8d4d-396a94af4472",
   "metadata": {},
   "outputs": [],
   "source": [
    "import torch\n",
    "from seqm.seqm_functions.constants import Constants\n",
    "from seqm.Molecule import Molecule\n",
    "from seqm.MolecularDynamics import Geometry_Optimization_SD\n",
    "from seqm.ElectronicStructure import Electronic_Structure\n",
    "\n",
    "import numpy as np\n",
    "import matplotlib.pyplot as plt\n",
    "\n",
    "torch.set_default_dtype(torch.float64)\n",
    "if torch.cuda.is_available():\n",
    "    device = torch.device('cuda')\n",
    "else:\n",
    "    device = torch.device('cpu')\n",
    "\n",
    "device = torch.device('cpu')"
   ]
  },
  {
   "cell_type": "markdown",
   "id": "b178cb2a-ea55-48b1-8b5c-47ab8c6f0326",
   "metadata": {},
   "source": [
    "## Normal modes from optimized geometry"
   ]
  },
  {
   "cell_type": "code",
   "execution_count": 2,
   "id": "56c4bc11-7999-4fe4-9749-683f9aaf152b",
   "metadata": {},
   "outputs": [],
   "source": [
    "dr = 0.001 # atomic displacements\n",
    "Ndisp = 18 # number of displacements (3N degrees of freedom)"
   ]
  },
  {
   "cell_type": "markdown",
   "id": "cb4177e7-b18c-45c0-800e-6aa580f170b3",
   "metadata": {},
   "source": [
    "### Backward displacements XYZ"
   ]
  },
  {
   "cell_type": "code",
   "execution_count": 3,
   "id": "614326da-233d-4911-80ad-97ae08b65771",
   "metadata": {},
   "outputs": [],
   "source": [
    "\n",
    "coordinates_d = torch.tensor([[-dr, 0.0000, 0.0000],\n",
    "                            [0.0000, 0.0000, 0.0000],\n",
    "                            [0.0000, 0.0000, 0.0000],\n",
    "                            [0.0000, 0.0000, 0.0000],\n",
    "                            [0.0000, 0.0000, 0.0000],\n",
    "                            [0.0000, 0.0000, 0.0000]])\n",
    "\n",
    "outputs = []\n",
    "for i in range(Ndisp):\n",
    "    outputs.append(torch.roll(coordinates_d,shifts = (i) ))\n",
    "outputs = torch.stack(outputs)\n",
    "coordinates = outputs.clone() + torch.tensor([\n",
    "                              [\n",
    "                              [0.702557224724283, 0.009082218612640677, 0.0032799875195913897],\n",
    "                              [-0.707614145212714, -0.016445490928756433, -0.0053160302976097504],\n",
    "                              [-1.0976860826353918, -0.7955775292486926, 0.6962719690854523],\n",
    "                              [-1.097755234761741, -0.2082662697782238, -1.0360554595036433],\n",
    "                              [-1.020222647310211, 1.001104652073342, 0.33967650723822534],\n",
    "                              [1.0046208851957734, -0.8579975807303093, -0.29065697404201524]\n",
    "                              ]\n",
    "                            ])\n",
    "coordinates_0 = coordinates.to(device)\n",
    "#coordinates_0"
   ]
  },
  {
   "cell_type": "markdown",
   "id": "d1c0c6e5-51a4-4738-a69d-7619dcb8e866",
   "metadata": {},
   "source": [
    "### Forward displacements XYZ"
   ]
  },
  {
   "cell_type": "code",
   "execution_count": 4,
   "id": "d89bcd2b-270c-4f95-871e-f7830bd5f6d8",
   "metadata": {},
   "outputs": [],
   "source": [
    "coordinates_d = torch.tensor([[dr, 0.0000, 0.0000],\n",
    "                            [0.0000, 0.0000, 0.0000],\n",
    "                            [0.0000, 0.0000, 0.0000],\n",
    "                            [0.0000, 0.0000, 0.0000],\n",
    "                            [0.0000, 0.0000, 0.0000],\n",
    "                            [0.0000, 0.0000, 0.0000]])\n",
    "\n",
    "outputs = []\n",
    "for i in range(Ndisp):\n",
    "    outputs.append(torch.roll(coordinates_d,shifts = (i) ))\n",
    "outputs = torch.stack(outputs)\n",
    "coordinates = outputs.clone() + torch.tensor([\n",
    "                              [\n",
    "                              [0.702557224724283, 0.009082218612640677, 0.0032799875195913897],\n",
    "                              [-0.707614145212714, -0.016445490928756433, -0.0053160302976097504],\n",
    "                              [-1.0976860826353918, -0.7955775292486926, 0.6962719690854523],\n",
    "                              [-1.097755234761741, -0.2082662697782238, -1.0360554595036433],\n",
    "                              [-1.020222647310211, 1.001104652073342, 0.33967650723822534],\n",
    "                              [1.0046208851957734, -0.8579975807303093, -0.29065697404201524]\n",
    "                              ]\n",
    "                            ])\n",
    "coordinates_1 = coordinates.to(device)\n",
    "\n"
   ]
  },
  {
   "cell_type": "markdown",
   "id": "2e0f5616-5a02-4a2c-bf10-e8eb128c6899",
   "metadata": {},
   "source": [
    "### Elements"
   ]
  },
  {
   "cell_type": "code",
   "execution_count": 5,
   "id": "5c742784-604e-4e8f-bb42-98b43e852324",
   "metadata": {},
   "outputs": [],
   "source": [
    "species = torch.as_tensor([[8,6,1,1,1,1]],dtype=torch.int64, device=device) \\\n",
    "               .expand(Ndisp,6)"
   ]
  },
  {
   "cell_type": "markdown",
   "id": "48b4aa41-de5c-49b3-a97f-8d2ff49b5d53",
   "metadata": {},
   "source": [
    "### Backward displacements calculation "
   ]
  },
  {
   "cell_type": "code",
   "execution_count": 6,
   "id": "2c480ee8-4ebd-4e5a-af6a-49156f8e2c2d",
   "metadata": {},
   "outputs": [
    {
     "name": "stdout",
     "output_type": "stream",
     "text": [
      "scf pulay step   :  36 | MAX ΔE[   3]:    0.0000000 | MAX ΔDM[   3]:    0.0000000 | MAX ΔDM_ij[   3]:  0.0000002  | N not converged: 0\n"
     ]
    }
   ],
   "source": [
    "const = Constants().to(device)\n",
    "\n",
    "\n",
    "seqm_parameters = {\n",
    "                   'method' : 'AM1',  # AM1, MNDO, PM#\n",
    "                   'scf_eps' : 1.0e-7,  # unit eV, change of electric energy, as nuclear energy doesnt' change during SCF\n",
    "                   'scf_converger' : [2,0.0], # converger used for scf loop\n",
    "                                         # [0, 0.1], [0, alpha] constant mixing, P = alpha*P + (1.0-alpha)*Pnew\n",
    "                                         # [1], adaptive mixing\n",
    "                                         # [2], adaptive mixing, then pulay\n",
    "                   'sp2' : [False, 1.0e-5],  # whether to use sp2 algorithm in scf loop,\n",
    "                                            #[True, eps] or [False], eps for SP2 conve criteria\n",
    "                   'learned' : [], # learned parameters name list, e.g ['U_ss']\n",
    "                   #'parameter_file_dir' : '../seqm/params/', # file directory for other required parameters\n",
    "                   'pair_outer_cutoff' : 1.0e10, # consistent with the unit on coordinates\n",
    "                   'eig' : True\n",
    "                   }\n",
    "\n",
    "molecule = Molecule(const, seqm_parameters, coordinates_0, species).to(device)\n",
    "\n",
    "### Create electronic structure driver:\n",
    "esdriver = Electronic_Structure(seqm_parameters).to(device)\n",
    "\n",
    "### Run esdriver on molecules:\n",
    "esdriver(molecule);\n",
    "\n",
    "force_0 = molecule.force"
   ]
  },
  {
   "cell_type": "markdown",
   "id": "eeee7e38-cc98-4076-9429-43bcd970e03f",
   "metadata": {},
   "source": [
    "### Forward displacements calculation "
   ]
  },
  {
   "cell_type": "code",
   "execution_count": 7,
   "id": "e72c4081-9a5d-4e24-9332-c0ae814d5163",
   "metadata": {},
   "outputs": [
    {
     "name": "stdout",
     "output_type": "stream",
     "text": [
      "scf pulay step   :  36 | MAX ΔE[   6]:    0.0000000 | MAX ΔDM[   0]:    0.0000000 | MAX ΔDM_ij[   0]:  0.0000002  | N not converged: 0\n"
     ]
    }
   ],
   "source": [
    "molecule = Molecule(const, seqm_parameters, coordinates_1, species).to(device)\n",
    "\n",
    "### Create electronic structure driver:\n",
    "esdriver = Electronic_Structure(seqm_parameters).to(device)\n",
    "\n",
    "### Run esdriver on molecules:\n",
    "esdriver(molecule);\n",
    "\n",
    "force_1 = molecule.force"
   ]
  },
  {
   "cell_type": "markdown",
   "id": "a3bf7df0-f363-4e3c-ad02-70282214e5c1",
   "metadata": {},
   "source": [
    "### Hessian matrix"
   ]
  },
  {
   "cell_type": "code",
   "execution_count": 8,
   "id": "ea45a414-3fc2-4bc5-8fbb-145e3f22c4af",
   "metadata": {},
   "outputs": [],
   "source": [
    "Hess = -((force_1 - force_0)/(2*dr)).view(18,18) #* 23.06 * 6.9477 / 1000\n"
   ]
  },
  {
   "cell_type": "markdown",
   "id": "6d082a2f-8adf-4b32-9bc6-b30807f07f09",
   "metadata": {},
   "source": [
    "### Mass-weighted Hessian "
   ]
  },
  {
   "cell_type": "code",
   "execution_count": 9,
   "id": "0c570c79-0fbb-40af-9514-70d26fb884c5",
   "metadata": {},
   "outputs": [],
   "source": [
    "M_inv_rt = torch.tensor(np.diag([0.25, 0.25, 0.25,\n",
    "                                 0.289, 0.289, 0.289,\n",
    "                                 0.996, 0.996, 0.996,\n",
    "                                 0.996, 0.996, 0.996,\n",
    "                                 0.996, 0.996, 0.996,\n",
    "                                 0.996, 0.996, 0.996]), device = device)\n",
    "\n",
    "WeightedHess = M_inv_rt@(Hess.clone()@M_inv_rt)"
   ]
  },
  {
   "cell_type": "code",
   "execution_count": 10,
   "id": "9461c619-52bb-4ac7-8a82-52015c97ff5c",
   "metadata": {},
   "outputs": [],
   "source": [
    "### Eigenvalues and eigenvectors"
   ]
  },
  {
   "cell_type": "code",
   "execution_count": 11,
   "id": "907e6afb-759c-4312-8e91-46c1529f7803",
   "metadata": {},
   "outputs": [],
   "source": [
    "e_val, e_vec = torch.linalg.eigh(WeightedHess)"
   ]
  },
  {
   "cell_type": "markdown",
   "id": "59f35efd-fbb4-41c3-b8a0-7496ee123b01",
   "metadata": {},
   "source": [
    "### Convert Eigenvalues to cm$^{-1}$"
   ]
  },
  {
   "cell_type": "code",
   "execution_count": 12,
   "id": "94aa36ee-367c-428d-b0d4-6b9734989b81",
   "metadata": {},
   "outputs": [],
   "source": [
    "const = (23.06054 * 6.9477 / 1000)**0.5*1302.8\n",
    "freq_ar = []\n",
    "for e in e_val[6:]:\n",
    "    freq_ar.append((e.item())**0.5*const)"
   ]
  },
  {
   "cell_type": "markdown",
   "id": "3ac8af5d-7cfc-4a2b-9672-cfebad7d2a61",
   "metadata": {},
   "source": [
    "## Intensities"
   ]
  },
  {
   "cell_type": "markdown",
   "id": "df10b46e-9408-4bed-aef8-3a9305a87461",
   "metadata": {},
   "source": [
    "### Get vibrational coordinates"
   ]
  },
  {
   "cell_type": "code",
   "execution_count": 13,
   "id": "d7f78da6-8a6a-4384-b882-ffc70ae0308e",
   "metadata": {},
   "outputs": [],
   "source": [
    "vib_coord = []\n",
    "for e in e_vec[6:]:\n",
    "    vib_coord.append(e.view(6,3))\n",
    "vib_coord = torch.stack(vib_coord)"
   ]
  },
  {
   "cell_type": "markdown",
   "id": "233c48f1-2579-4f8f-adb6-89bad1031ad3",
   "metadata": {},
   "source": [
    "### Displacements along vibrational coordinates (backward and forward)"
   ]
  },
  {
   "cell_type": "code",
   "execution_count": 14,
   "id": "40dc219f-94cd-418b-9177-dfccf2cd3475",
   "metadata": {},
   "outputs": [],
   "source": [
    "dq = 0.001\n",
    "coordinates = -vib_coord.clone()*dq + torch.tensor([\n",
    "                              [\n",
    "                              [0.702557224724283, 0.009082218612640677, 0.0032799875195913897],\n",
    "                              [-0.707614145212714, -0.016445490928756433, -0.0053160302976097504],\n",
    "                              [-1.0976860826353918, -0.7955775292486926, 0.6962719690854523],\n",
    "                              [-1.097755234761741, -0.2082662697782238, -1.0360554595036433],\n",
    "                              [-1.020222647310211, 1.001104652073342, 0.33967650723822534],\n",
    "                              [1.0046208851957734, -0.8579975807303093, -0.29065697404201524]\n",
    "                              ]\n",
    "                            ], device = device)\n",
    "coordinates_0 = coordinates.to(device)\n",
    "species = torch.as_tensor([[8,6,1,1,1,1]],dtype=torch.int64, device=device) \\\n",
    "               .expand(vib_coord.shape[0],6)\n",
    "\n",
    "\n",
    "coordinates = vib_coord.clone()*dq + torch.tensor([\n",
    "                              [\n",
    "                              [0.702557224724283, 0.009082218612640677, 0.0032799875195913897],\n",
    "                              [-0.707614145212714, -0.016445490928756433, -0.0053160302976097504],\n",
    "                              [-1.0976860826353918, -0.7955775292486926, 0.6962719690854523],\n",
    "                              [-1.097755234761741, -0.2082662697782238, -1.0360554595036433],\n",
    "                              [-1.020222647310211, 1.001104652073342, 0.33967650723822534],\n",
    "                              [1.0046208851957734, -0.8579975807303093, -0.29065697404201524]\n",
    "                              ]\n",
    "                            ], device = device)\n",
    "coordinates_1 = coordinates.to(device)\n",
    "species = torch.as_tensor([[8,6,1,1,1,1]],dtype=torch.int64, device=device) \\\n",
    "               .expand(vib_coord.shape[0],6)"
   ]
  },
  {
   "cell_type": "markdown",
   "id": "34f920b1-7526-4d7f-ad17-bad6b4797426",
   "metadata": {},
   "source": [
    "### Backward displacements calculation "
   ]
  },
  {
   "cell_type": "code",
   "execution_count": 15,
   "id": "3b07b596-6d3f-4b3b-9eef-7276b22a9166",
   "metadata": {},
   "outputs": [
    {
     "name": "stdout",
     "output_type": "stream",
     "text": [
      "scf pulay step   :  36 | MAX ΔE[   2]:    0.0000000 | MAX ΔDM[   2]:    0.0000000 | MAX ΔDM_ij[   2]:  0.0000002  | N not converged: 0\n"
     ]
    }
   ],
   "source": [
    "const = Constants().to(device)\n",
    "\n",
    "molecule = Molecule(const, seqm_parameters, coordinates_0, species).to(device)\n",
    "\n",
    "### Create electronic structure driver:\n",
    "esdriver = Electronic_Structure(seqm_parameters).to(device)\n",
    "\n",
    "### Run esdriver on molecules:\n",
    "esdriver(molecule);\n",
    "\n",
    "d_0 = molecule.d\n",
    "D_0 = (d_0[:,0]**2 + d_0[:,1]**2 + d_0[:,2]**2)**0.5"
   ]
  },
  {
   "cell_type": "markdown",
   "id": "990e7bd4-d179-4a48-84ca-a7e080cc24d4",
   "metadata": {},
   "source": [
    "### Forward displacements calculation "
   ]
  },
  {
   "cell_type": "code",
   "execution_count": 17,
   "id": "0941d877-01a4-43b6-a521-109a4ef7c3e5",
   "metadata": {},
   "outputs": [
    {
     "name": "stdout",
     "output_type": "stream",
     "text": [
      "scf pulay step   :  36 | MAX ΔE[   8]:    0.0000000 | MAX ΔDM[   8]:    0.0000000 | MAX ΔDM_ij[   8]:  0.0000002  | N not converged: 0\n"
     ]
    }
   ],
   "source": [
    "const = Constants().to(device)\n",
    "#may need to add scaling factor for length and energy on const, check constants.py\n",
    "\n",
    "molecule = Molecule(const, seqm_parameters, coordinates_1, species).to(device)\n",
    "\n",
    "### Create electronic structure driver:\n",
    "esdriver = Electronic_Structure(seqm_parameters).to(device)\n",
    "\n",
    "### Run esdriver on molecules:\n",
    "esdriver(molecule);\n",
    "\n",
    "d_0 = molecule.d\n",
    "D_1 = (d_0[:,0]**2 + d_0[:,1]**2 + d_0[:,2]**2)**0.5"
   ]
  },
  {
   "cell_type": "markdown",
   "id": "951552db-0d18-4b8d-b45a-918a837a8c99",
   "metadata": {},
   "source": [
    "### Calculate intensities"
   ]
  },
  {
   "cell_type": "code",
   "execution_count": 18,
   "id": "2e53e1c9-201e-4a1b-885c-594eeb362a71",
   "metadata": {},
   "outputs": [],
   "source": [
    "intensity = (  (D_1 - D_0)/dq )**2\n"
   ]
  },
  {
   "cell_type": "markdown",
   "id": "9a6cd2af-0502-4c78-ae47-9c37913c97d7",
   "metadata": {},
   "source": [
    "### Plot"
   ]
  },
  {
   "cell_type": "code",
   "execution_count": 19,
   "id": "830d07fc-4ac7-4ede-ad88-9a1d5052e830",
   "metadata": {},
   "outputs": [
    {
     "data": {
      "text/plain": [
       "Text(0.5, 0, '$\\\\nu$ (cm$^{-1}$)')"
      ]
     },
     "execution_count": 19,
     "metadata": {},
     "output_type": "execute_result"
    },
    {
     "data": {
      "image/png": "[encoded data removed]",
      "text/plain": [
       "<Figure size 1000x500 with 1 Axes>"
      ]
     },
     "metadata": {},
     "output_type": "display_data"
    }
   ],
   "source": [
    "plt.figure().set_size_inches(10,5)\n",
    "plt.yticks([])\n",
    "\n",
    "plt.vlines(x=freq_ar, ymin=0, ymax=intensity, colors='r', ls='-', lw=1, label='Normal modes')\n",
    "plt.xlabel(r'$\\nu$ (cm$^{-1}$)', fontsize=16)\n"
   ]
  },
  {
   "cell_type": "code",
   "execution_count": null,
   "id": "42853ac9-358d-44cc-b51c-90a238998e69",
   "metadata": {},
   "outputs": [],
   "source": []
  }
 ],
 "metadata": {
  "kernelspec": {
   "display_name": "base",
   "language": "python",
   "name": "python3"
  },
  "language_info": {
   "codemirror_mode": {
    "name": "ipython",
    "version": 3
   },
   "file_extension": ".py",
   "mimetype": "text/x-python",
   "name": "python",
   "nbconvert_exporter": "python",
   "pygments_lexer": "ipython3",
   "version": "3.11.10"
  }
 },
 "nbformat": 4,
 "nbformat_minor": 5
}
