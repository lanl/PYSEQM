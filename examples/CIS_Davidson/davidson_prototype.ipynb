{
 "cells": [
  {
   "cell_type": "markdown",
   "metadata": {},
   "source": [
    "### 🟢 Less messy MVP that works (most functions were split into modules)\n",
    "\n",
    "🔴 Note: lots of profiling/logging dependencies and debug messages to trace all matrices and compare with nexmd"
   ]
  },
  {
   "cell_type": "code",
   "execution_count": 1,
   "metadata": {},
   "outputs": [
    {
     "ename": "NameError",
     "evalue": "name 'sys' is not defined",
     "output_type": "error",
     "traceback": [
      "\u001b[0;31m---------------------------------------------------------------------------\u001b[0m",
      "\u001b[0;31mNameError\u001b[0m                                 Traceback (most recent call last)",
      "\u001b[0;32m/tmp/ipykernel_1811392/2179704960.py\u001b[0m in \u001b[0;36m<module>\u001b[0;34m\u001b[0m\n\u001b[1;32m      5\u001b[0m \u001b[0;34m\u001b[0m\u001b[0m\n\u001b[1;32m      6\u001b[0m \u001b[0;31m# === IMPORTS ===\u001b[0m\u001b[0;34m\u001b[0m\u001b[0;34m\u001b[0m\u001b[0;34m\u001b[0m\u001b[0m\n\u001b[0;32m----> 7\u001b[0;31m \u001b[0msys\u001b[0m\u001b[0;34m.\u001b[0m\u001b[0mpath\u001b[0m\u001b[0;34m.\u001b[0m\u001b[0mappend\u001b[0m\u001b[0;34m(\u001b[0m\u001b[0;34m'/vast/projects/ml4chem/NikitaFedik/GITHUB/PYSEQM_davidson'\u001b[0m\u001b[0;34m)\u001b[0m\u001b[0;34m\u001b[0m\u001b[0;34m\u001b[0m\u001b[0m\n\u001b[0m\u001b[1;32m      8\u001b[0m \u001b[0;32mimport\u001b[0m \u001b[0mlogging\u001b[0m\u001b[0;34m,\u001b[0m \u001b[0msys\u001b[0m\u001b[0;34m\u001b[0m\u001b[0;34m\u001b[0m\u001b[0m\n\u001b[1;32m      9\u001b[0m \u001b[0;32mimport\u001b[0m \u001b[0mtorch\u001b[0m\u001b[0;34m\u001b[0m\u001b[0;34m\u001b[0m\u001b[0m\n",
      "\u001b[0;31mNameError\u001b[0m: name 'sys' is not defined"
     ]
    }
   ],
   "source": [
    "%load_ext autoreload\n",
    "\n",
    "%autoreload 2\n",
    "%reload_ext autoreload\n",
    "\n",
    "# === IMPORTS ===\n",
    "sys.path.append('/vast/projects/ml4chem/NikitaFedik/GITHUB/PYSEQM_davidson')\n",
    "import logging, sys\n",
    "import torch\n",
    "import seqm\n",
    "from ase.io import read as ase_read\n",
    "from seqm.seqm_functions.constants import Constants\n",
    "from seqm.Molecule import Molecule\n",
    "from seqm.ElectronicStructure import Electronic_Structure\n",
    "from termcolor import colored\n",
    "\n",
    "\n",
    "from seqm.seqm_functions.fock import fock\n",
    "from seqm.seqm_functions.pack import unpack\n",
    "import seqm.seqm_functions.pack as pack\n",
    "import torch.nn.functional as F\n",
    "\n",
    "#=== TORCH OPTIONS ===\n",
    "\n",
    "device = torch.device('cpu')\n",
    "\n",
    "torch.set_default_dtype(torch.float64)\n",
    "# if torch.cuda.is_available():\n",
    "#     device = torch.device('cuda')\n",
    "# else:\n",
    "#     device = torch.device('cpu')\n",
    "dtype = torch.float64\n",
    "# torch.set_printoptions(precision=5, linewidth=200, profile=\"full\", sci_mode=False)\n",
    "torch.set_printoptions(precision=5, linewidth=200, sci_mode=False, profile = 'short')"
   ]
  },
  {
   "cell_type": "markdown",
   "metadata": {},
   "source": [
    "### NOTES\n",
    "\n",
    "1) QM part seems to be working fine\n",
    "2) full diagonalization agrees with NEXMD\n",
    "3) Davidson eigenvalues almost always agree with nexmd and ORCA (depending on starting and max subspace size, number of eigenvalues to keep and when to collapse subspace, some degenrate eigenvalues are sometimes missed) - basically, small guess space misses relevant vectors, but large guess includes them (probably typical for Krylo algorithms)\n",
    "4) be careful with G_antisym routine - took ideas from PASCAL 1 (nexmd) - might want double check all martrix values for different test cases"
   ]
  },
  {
   "cell_type": "code",
   "execution_count": 98,
   "metadata": {},
   "outputs": [
    {
     "data": {
      "text/plain": [
       "device(type='cpu')"
      ]
     },
     "execution_count": 98,
     "metadata": {},
     "output_type": "execute_result"
    }
   ],
   "source": [
    "device"
   ]
  },
  {
   "cell_type": "code",
   "execution_count": 99,
   "metadata": {},
   "outputs": [],
   "source": [
    "# colored logging with custom level QM for deeper routines\n",
    "\n",
    "logging.basicConfig(level=logging.DEBUG,\n",
    "                    format='%(funcName)s : %(lineno)d : %(levelname)s : %(message)s')\n",
    "\n",
    "QM1 = evel=logging.DEBUG - 3 # informal level of depth; QM1 - almost always, usually outside of loops\n",
    "QM2 = evel=logging.DEBUG - 4 #                          QM2 - sometimes, in the loops\n",
    "QM3 = evel=logging.DEBUG - 5\n",
    "\n",
    "logging.addLevelName(QM1, \"QM1\")\n",
    "def qm1(self, message, *args, **kwargs):\n",
    "    if self.isEnabledFor(QM1 ):\n",
    "        self._log(QM1, message, args, **kwargs) \n",
    "        \n",
    "logging.addLevelName(QM2, \"QM2\")\n",
    "def qm2(self, message, *args, **kwargs):\n",
    "    if self.isEnabledFor(QM2):\n",
    "        self._log(QM2, message, args, **kwargs) \n",
    " \n",
    "logging.addLevelName(QM3, \"QM3\")\n",
    "def qm3(self, message, *args, **kwargs):\n",
    "    if self.isEnabledFor(QM3 ):\n",
    "        self._log(QM3, message, args, **kwargs) \n",
    "           \n",
    "        \n",
    "logging.Logger.qm1 = qm1   \n",
    "logging.Logger.qm2 = qm2\n",
    "logging.Logger.qm3 = qm3\n",
    "  \n",
    "logger = logging.getLogger()\n",
    "\n",
    "                              \n",
    "colors = {'qm'        : ('cyan',     None, None),\n",
    "          'matrix'    : ('blue',     None, ['bold']),\n",
    "          'vector'    : ('yellow',   None, ['bold']),\n",
    "          'evals'     : ('green',    None, ['bold']),\n",
    "          'warn'     : ('red',    None, ['bold'])\n",
    "          }\n",
    "\n",
    "def fmt_log(data, message, fmt):\n",
    "    \"\"\"\n",
    "    fmt_log : formats log message with color and style using termcolor module\n",
    "\n",
    "    Args:\n",
    "        data (any): data to print\n",
    "        message (str or None): message to print, pass None if no message is needed\n",
    "        fmt (str): style from colors dict\n",
    "\n",
    "    Returns:\n",
    "        str: formatted string with color and style\n",
    "    \"\"\"    \n",
    "\n",
    "    if type(data) is list or type(data) is tuple or type(data) is torch.Tensor:\n",
    "        \n",
    "        mes = f'{colored(message, colors[fmt][0], colors[fmt][1], attrs=colors[fmt][2])}\\n' # add new line to align array\n",
    "    else:\n",
    "        mes = f'{colored(message, colors[fmt][0], colors[fmt][1], attrs=colors[fmt][2])} : '\n",
    "        \n",
    "    if data == None:\n",
    "        return mes\n",
    "    else:\n",
    "        return mes + str(colored(data, colors[fmt][0], colors[fmt][1], attrs=colors[fmt][2]))"
   ]
  },
  {
   "cell_type": "markdown",
   "metadata": {},
   "source": [
    "### QM routines"
   ]
  },
  {
   "cell_type": "code",
   "execution_count": 2,
   "metadata": {},
   "outputs": [],
   "source": [
    "def run_seqm_1mol(xyz):\n",
    "    \"\"\"\n",
    "    run_seqm_1mol : run PYSEQM for a single molecule\n",
    "\n",
    "    Args:\n",
    "        xyz (str): path to xyz file\n",
    "\n",
    "    Returns:\n",
    "        Molecule object: PYSEQM object with molecule data\n",
    "    \"\"\"    \n",
    "    \n",
    "    atoms = ase_read(xyz)\n",
    "    species = torch.tensor([atoms.get_atomic_numbers()], dtype=torch.long, device=device)\n",
    "    coordinates = torch.tensor([atoms.get_positions()], dtype=dtype, device=device)\n",
    "    \n",
    "    const = Constants().to(device)\n",
    "\n",
    "    elements = [0]+sorted(set(species.reshape(-1).tolist()))\n",
    "\n",
    "    seqm_parameters = {\n",
    "                    'method' : 'PM3',  # AM1, MNDO, PM#\n",
    "                    'scf_eps' : 1.0e-6,  # unit eV, change of electric energy, as nuclear energy doesnt' change during SCF\n",
    "                    'scf_converger' : [2,0.0], # converger used for scf loop\n",
    "                                            # [0, 0.1], [0, alpha] constant mixing, P = alpha*P + (1.0-alpha)*Pnew\n",
    "                                            # [1], adaptive mixing\n",
    "                                            # [2], adaptive mixing, then pulay\n",
    "                    'sp2' : [False, 1.0e-5],  # whether to use sp2 algorithm in scf loop,\n",
    "                                                #[True, eps] or [False], eps for SP2 conve criteria\n",
    "                    'elements' : elements, #[0,1,6,8],\n",
    "                    'learned' : [], # learned parameters name list, e.g ['U_ss']\n",
    "                    #'parameter_file_dir' : '../seqm/params/', # file directory for other required parameters\n",
    "                    'pair_outer_cutoff' : 1.0e10, # consistent with the unit on coordinates\n",
    "                    'eig' : True,\n",
    "                    'excited' : True,\n",
    "                    }\n",
    "\n",
    "    mol = seqm.Molecule.Molecule(const, seqm_parameters, coordinates, species).to(device)\n",
    "\n",
    "    ### Create electronic structure driver:\n",
    "    esdriver = Electronic_Structure(seqm_parameters).to(device)\n",
    "\n",
    "    ### Run esdriver on m:\n",
    "    esdriver(mol)\n",
    "    \n",
    "    return mol"
   ]
  },
  {
   "cell_type": "code",
   "execution_count": 101,
   "metadata": {},
   "outputs": [],
   "source": [
    "def run_seqm(xyz_list):\n",
    "    \"\"\"\n",
    "    run_seqm_1mol : run PYSEQM for a single molecule\n",
    "\n",
    "    Args:\n",
    "        xyz (str): path to xyz file\n",
    "\n",
    "    Returns:\n",
    "        Molecule object: PYSEQM object with molecule data\n",
    "    \"\"\"    \n",
    "    \n",
    "    atoms = [ase_read(x) for x in xyz_list]\n",
    "    species = torch.tensor([atoms[x].get_atomic_numbers() for x in range(len(atoms))], dtype=torch.long, device=device)\n",
    "    coordinates = torch.tensor([atoms[x].get_positions() for x in range(len(atoms))], dtype=dtype, device=device)\n",
    "    \n",
    "    const = Constants().to(device)\n",
    "\n",
    "    elements = [0]+sorted(set(species.reshape(-1).tolist()))\n",
    "\n",
    "    seqm_parameters = {\n",
    "                    'method' : 'PM3',  # AM1, MNDO, PM#\n",
    "                    'scf_eps' : 1.0e-6,  # unit eV, change of electric energy, as nuclear energy doesnt' change during SCF\n",
    "                    'scf_converger' : [2,0.0], # converger used for scf loop\n",
    "                                            # [0, 0.1], [0, alpha] constant mixing, P = alpha*P + (1.0-alpha)*Pnew\n",
    "                                            # [1], adaptive mixing\n",
    "                                            # [2], adaptive mixing, then pulay\n",
    "                    'sp2' : [False, 1.0e-5],  # whether to use sp2 algorithm in scf loop,\n",
    "                                                #[True, eps] or [False], eps for SP2 conve criteria\n",
    "                    'elements' : elements, #[0,1,6,8],\n",
    "                    'learned' : [], # learned parameters name list, e.g ['U_ss']\n",
    "                    #'parameter_file_dir' : '../seqm/params/', # file directory for other required parameters\n",
    "                    'pair_outer_cutoff' : 1.0e10, # consistent with the unit on coordinates\n",
    "                    'eig' : True,\n",
    "                    'excited' : True,\n",
    "                    }\n",
    "\n",
    "    mol = seqm.Molecule.Molecule(const, seqm_parameters, coordinates, species).to(device)\n",
    "\n",
    "    ### Create electronic structure driver:\n",
    "    esdriver = Electronic_Structure(seqm_parameters).to(device)\n",
    "\n",
    "    ### Run esdriver on m:\n",
    "    esdriver(mol)\n",
    "    \n",
    "    return mol"
   ]
  },
  {
   "cell_type": "markdown",
   "metadata": {},
   "source": [
    "### DAVIDSON routines"
   ]
  },
  {
   "cell_type": "code",
   "execution_count": 104,
   "metadata": {},
   "outputs": [],
   "source": [
    "logger.setLevel(logging.DEBUG)  # custom logging level; lower than DEBUG\n",
    "                               # printed above QM (QM, DEBUG, INFO, etc)"
   ]
  },
  {
   "cell_type": "code",
   "execution_count": 170,
   "metadata": {},
   "outputs": [],
   "source": [
    "# ALL new modules translated from NEXMD\n",
    "# keep as seqm functions \n",
    "\n",
    "from seqm.seqm_functions.excited import ortho as orthogonalize\n",
    "from seqm.seqm_functions.excited.hamiltonian import gen_V\n",
    "from seqm.seqm_functions.excited.hamiltonian import form_cis\n",
    "import seqm.seqm_functions.excited\n",
    "from seqm.seqm_functions.excited.orb_transform import mo2ao\n",
    "from seqm.seqm_functions.excited.ortho import orthogonalize_matrix"
   ]
  },
  {
   "cell_type": "code",
   "execution_count": 176,
   "metadata": {},
   "outputs": [],
   "source": [
    "def davidson(device, mol, N_exc, keep_n, n_V_max,  max_iter, tol):\n",
    "    \"\"\"\n",
    "    Davidson algorithm for solving eigenvalue problem of large sparse diagonally dominant matrices\n",
    "    Hamiltonian is not generated or stored explicitly, only matrix-vector products are used on-the fly:\n",
    "    guess space V should be orthogonalized at each iteration\n",
    "    M (projection of smaller size) is V.T @ H @ V \n",
    "    #! RPA (TDHF) is not implemented yet, non-Hermitian (non-symmetric), requires also left eigenvectors \n",
    "    note that notation differes between implementations: V.T x A x V is bAb\n",
    "    # TODO: 1) check if convergence of e_vals is needed\n",
    "    # TODO: 2) vectorize and optimize orthogonalization\n",
    "    # TODO: 3) check if some vectors should be dropped \n",
    "    # TODO: 4) eliminate loops \n",
    "    # TODO: 5) check if whole M should be regenerated, or only sub-blocks corresponding to new guess vectors\n",
    "    # TODO: 6) add parameter checker like Krylov dims << N_cis\n",
    "\n",
    "    Args:\n",
    "        mol (PYSEQM object): object to hold all qm data from PYSEQM\n",
    "        N_exc (int)        : number of excited states to calculate\n",
    "        keep_n (int)       : number of e_vals, e_vecs to keep at each iteration\n",
    "        n_V_max (int)      : maximum size of Krylov subspace, \n",
    "                             projected matrix will be no more than M(n_V_max x n_V_max)\n",
    "        max_iter (int)     : maximum number of iterations in Davidson\n",
    "        tol (float)        : treshold for residual\n",
    "        \n",
    "    Returns:\n",
    "        tuple of tensors: eigenvalues (excitation energies in default units, eV) and eigenvectors \n",
    "    \"\"\"    \n",
    "    \n",
    "    n_V_start = N_exc * 2 # dimension of Krylov subspace, analogue of nd1  \n",
    "    N_cis = mol.nocc * mol.nvirt\n",
    "    N_rpa = 2 * N_cis\n",
    "    \n",
    "    term = False  # terminate algorithm\n",
    "    iter = 0\n",
    "    L_xi = torch.zeros((N_cis, n_V_start), device=device)\n",
    "    V = gen_V(device, mol, N_cis, n_V_start) # generate initial guess, V here #! should be renamed\n",
    "    diag = None # create diagonal of M only once\n",
    "    \n",
    "    while iter < max_iter and not term: # Davidson loop\n",
    "        \n",
    "        if iter > 0: # skip first step, as initial V is orthogonal\n",
    "            V = orthogonalize_matrix(V)\n",
    "            \n",
    "        print('=================================', flush=True)\n",
    "        print(colored(f' ITERATION : {iter} ', 'red', 'on_white', attrs=['bold']), flush=True)\n",
    "        print('SUBSPACE SIZE V: ', V.shape, flush=True)\n",
    "        print('=================================')\n",
    "       \n",
    "        # ---------- form A x b product --------------------\n",
    "        L_xi = torch.zeros((N_cis, V.shape[1]), device=device) #! NOT iter here\n",
    "\n",
    "        logger.qm1(fmt_log(V, 'V BEFORE L_xi after ORTO', 'qm'))\n",
    "        for i in range(V.shape[1]): \n",
    "            logger.qm3('Lxi iterations=%s', i)\n",
    "            # L_xi[:,i] = form_L_xi(V[:,i], mol, N_cis, N_rpa)\n",
    "            L_xi[:,i] = form_cis(device, V[:,i], mol, N_cis, N_rpa) # TODO: should be vectorized  \n",
    "\n",
    "    \n",
    "        right_V = L_xi #[N_cis:] # (A)b \n",
    "        \n",
    "        # logger.qm1(fmt_log(right_V.shape, 'right_V shape', 'matrix'))\n",
    "        # logger.qm1(fmt_log(right_V, 'right_V', 'matrix'))       \n",
    "        # ---------- form b.T x Ab product --------------------\n",
    "        \n",
    "        M =  V.T @ right_V\n",
    "        \n",
    "        # logger.debug(fmt_log(M.shape, 'M shape', 'qm'))\n",
    "        # logger.debug(fmt_log(M, 'M', 'qm'))\n",
    "        if iter == 0:\n",
    "            diag = torch.diag(M) # create diagonal only once\n",
    "            \n",
    "        iter += 1\n",
    "        \n",
    "        logger.qm1(fmt_log(diag, 'diag', 'qm'))\n",
    "    \n",
    "        # ---------- diagonalize projection M --------------------\n",
    "        r_eval, r_evec = torch.linalg.eigh(M) # find eigenvalues and eigenvectors\n",
    "       \n",
    "        r_eval = r_eval.real\n",
    "        r_evec = r_evec.real\n",
    "        r_eval, r_idx = torch.sort(r_eval, descending=False) # sort eigenvalues in ascending order\n",
    "        logger.debug(fmt_log(r_eval, 'RIGHT EVALS', 'evals'))\n",
    "        r_evec = r_evec[:, r_idx] # sort eigenvectors accordingly\n",
    "    \n",
    "        e_val_n = r_eval[:keep_n] # keep only the lowest keep_n eigenvalues; full are still stored as e_val\n",
    "        e_vec_n = r_evec[:, :keep_n]\n",
    "        resids = torch.zeros(V.shape[0], len(e_val_n)) # account for left and right evecs\n",
    "\n",
    "        # ---------- calculate residual vectors --------------------\n",
    "        for j in range(len(e_val_n)): # calc residuals \n",
    "            resids[:,j] = right_V @ e_vec_n[:,j] - e_val_n[j] * (V @ e_vec_n[:,j])\n",
    "            \n",
    "       # logger.debug(fmt_log(resids, 'resids', 'matrix'))     \n",
    "        resids_norms_r = torch.tensor([resids[:,x].norm() for x in range(resids.shape[1])])\n",
    "\n",
    "        # ---------- expand guess space V buy not-converged resids --------------------\n",
    "        # !!! PROBABLY HIGHLY INEFFICIENT TODO: vectorize !!! \n",
    "        if torch.any(resids_norms_r > tol):\n",
    "            mask_r = resids_norms_r >= tol\n",
    "            large_res_r = resids[:,mask_r] # residuals larger than tol\n",
    "           # logger.debug(fmt_log(large_res_r, 'LARGE RESIDUALS', 'vector'))           \n",
    "            large_res_r.to(device)\n",
    "            cor_e_val_r = e_val_n[mask_r] # corresponding eigenvalues !!! check if matches\n",
    "            \n",
    "            # ------keep adding new resids --------------------\n",
    "            if V.shape[1] <= n_V_max:     \n",
    "\n",
    "                    for j in range(large_res_r.shape[1]):\n",
    "                        if V.shape[1] <= n_V_max:\n",
    "                            s = large_res_r[:,j] # conditioned residuals > tol\n",
    "\n",
    "                            if s.norm() >= tol:\n",
    "                                logger.debug(fmt_log((s.norm().item()), 'NORM of RESIDUAL', 'warn'))\n",
    "                                denom = (diag[j] - cor_e_val_r[j])\n",
    "                                denom.to(device) \n",
    "                                s = s/denom # conditioned residuals\n",
    "                                s.to(device)\n",
    "                                # logger.debug(fmt_log(s.norm(), 'NORM OF NEW RESIDUAAL', 'vector'))\n",
    "                                V = torch.column_stack((V, s/s.norm()))\n",
    "                            else:\n",
    "                                pass\n",
    "            # ------ collapse (restart) if space V is too large; mix eigenvectors with V------------\n",
    "            else:\n",
    "                logger.debug(fmt_log(None, '!!!! MAX subspace reached !!!!', 'warn'))\n",
    "                #logger.debug(fmt_log(V, 'V before collapse', 'qm'))\n",
    "\n",
    "                V =  V @ r_evec[:, :n_V_start]\n",
    "                logger.debug(fmt_log(V.shape, 'V shape after restart', 'qm'))\n",
    "                #logger.debug(fmt_log(V, 'V AFTER collapse', 'qm'))\n",
    "\n",
    "                continue\n",
    "\n",
    "        else:\n",
    "            term = True\n",
    "            print('============================', flush=True)\n",
    "            print('all residuals are below tolerance')\n",
    "            print('DAVIDSON ALGORITHM CONVERGED', flush=True)\n",
    "            print('============================', flush=True)\n",
    "\n",
    "            return r_eval, r_evec\n",
    "\n",
    "    # runs after big loop if did not converge\n",
    "    print('============================', flush=True)\n",
    "    print('!!! DAVIDSON ALGORITHM DID NOT CONVERGE !!!', flush=True)\n",
    "    print('============================', flush=True)\n",
    "    \n",
    "    return r_eval, r_evec"
   ]
  },
  {
   "cell_type": "markdown",
   "metadata": {},
   "source": [
    "### **INTERACTIVE TESTING**"
   ]
  },
  {
   "cell_type": "code",
   "execution_count": 186,
   "metadata": {},
   "outputs": [
    {
     "name": "stderr",
     "output_type": "stream",
     "text": [
      "<module> : 13 : DEBUG : FINAL eval \n",
      "tensor([ 4.01924,  4.24138,  5.93420,  5.96212,  5.96275,  6.28559,  6.31778,  6.71974,  7.16728,  8.30548,  9.27592, 10.94060, 13.13104, 15.23407, 17.27802, 18.62388, 20.11723, 24.29461, 25.83632,\n",
      "        28.49596, 29.30479, 32.24481, 34.87008, 36.37702, 37.36901, 38.35180, 38.39349, 38.80589], grad_fn=<SortBackward0>)\n"
     ]
    },
    {
     "name": "stdout",
     "output_type": "stream",
     "text": [
      "=================================\n",
      " ITERATION : 0 \n",
      "SUBSPACE SIZE V:  torch.Size([225, 6])\n"
     ]
    },
    {
     "name": "stderr",
     "output_type": "stream",
     "text": [
      "davidson : 101 : DEBUG : RIGHT EVALS\n",
      "tensor([5.12439, 5.34620, 6.98829, 7.01342, 7.01436, 7.37410], grad_fn=<SortBackward0>)\n",
      "davidson : 132 : DEBUG : NORM of RESIDUAL : 1.4043994385202523\n",
      "davidson : 132 : DEBUG : NORM of RESIDUAL : 1.45565761707566\n",
      "davidson : 132 : DEBUG : NORM of RESIDUAL : 1.3550453720699032\n",
      "davidson : 132 : DEBUG : NORM of RESIDUAL : 0.6809422235258806\n"
     ]
    },
    {
     "name": "stdout",
     "output_type": "stream",
     "text": [
      "=================================\n",
      "=================================\n",
      " ITERATION : 1 \n",
      "SUBSPACE SIZE V:  torch.Size([225, 10])\n"
     ]
    },
    {
     "name": "stderr",
     "output_type": "stream",
     "text": [
      "davidson : 101 : DEBUG : RIGHT EVALS\n",
      "tensor([ 4.67871,  4.90330,  6.53368,  6.94334,  7.01436,  7.37410,  9.54983, 10.13041, 11.02730, 13.63008], grad_fn=<SortBackward0>)\n",
      "davidson : 132 : DEBUG : NORM of RESIDUAL : 1.5959327467640572\n",
      "davidson : 132 : DEBUG : NORM of RESIDUAL : 1.5256143152816022\n",
      "davidson : 132 : DEBUG : NORM of RESIDUAL : 1.353134890200715\n",
      "davidson : 132 : DEBUG : NORM of RESIDUAL : 0.7503089513603357\n"
     ]
    },
    {
     "name": "stdout",
     "output_type": "stream",
     "text": [
      "=================================\n",
      "=================================\n",
      " ITERATION : 2 \n",
      "SUBSPACE SIZE V:  torch.Size([225, 14])\n",
      "=================================\n"
     ]
    },
    {
     "name": "stderr",
     "output_type": "stream",
     "text": [
      "davidson : 101 : DEBUG : RIGHT EVALS\n",
      "tensor([ 4.41832,  4.70182,  6.43202,  6.86962,  7.01436,  7.37410,  7.52605,  8.24526,  9.55159, 10.14076, 21.41248, 22.97207, 26.52078, 28.97160], grad_fn=<SortBackward0>)\n",
      "davidson : 132 : DEBUG : NORM of RESIDUAL : 1.543494359260883\n",
      "davidson : 132 : DEBUG : NORM of RESIDUAL : 1.3608197608942334\n",
      "davidson : 132 : DEBUG : NORM of RESIDUAL : 0.662976339837325\n",
      "davidson : 132 : DEBUG : NORM of RESIDUAL : 0.6845055155219069\n"
     ]
    },
    {
     "name": "stdout",
     "output_type": "stream",
     "text": [
      "=================================\n",
      " ITERATION : 3 \n",
      "SUBSPACE SIZE V:  torch.Size([225, 18])\n",
      "=================================\n"
     ]
    },
    {
     "name": "stderr",
     "output_type": "stream",
     "text": [
      "davidson : 101 : DEBUG : RIGHT EVALS\n",
      "tensor([ 4.14681,  4.46742,  6.34304,  6.36459,  6.80734,  6.82957,  7.01436,  7.37410,  8.73041,  8.95050, 12.55070, 13.53255, 13.58925, 20.04181, 30.54262, 32.03011, 32.03381, 33.22875],\n",
      "       grad_fn=<SortBackward0>)\n",
      "davidson : 132 : DEBUG : NORM of RESIDUAL : 1.3520868342973114\n",
      "davidson : 132 : DEBUG : NORM of RESIDUAL : 1.486190706371695\n",
      "davidson : 132 : DEBUG : NORM of RESIDUAL : 0.4420474577003189\n",
      "davidson : 132 : DEBUG : NORM of RESIDUAL : 2.3688966433704244\n"
     ]
    },
    {
     "name": "stdout",
     "output_type": "stream",
     "text": [
      "=================================\n",
      " ITERATION : 4 \n",
      "SUBSPACE SIZE V:  torch.Size([225, 22])\n",
      "=================================\n"
     ]
    },
    {
     "name": "stderr",
     "output_type": "stream",
     "text": [
      "davidson : 101 : DEBUG : RIGHT EVALS\n",
      "tensor([ 4.04618,  4.30504,  6.06321,  6.19792,  6.32596,  6.80081,  6.98557,  7.37390,  8.34620,  8.64971, 11.57969, 11.89710, 11.92235, 14.50419, 20.68797, 23.57895, 24.80408, 26.40143, 33.39402,\n",
      "        34.32485, 36.44474, 36.76783], grad_fn=<SortBackward0>)\n",
      "davidson : 132 : DEBUG : NORM of RESIDUAL : 0.5600937429000034\n",
      "davidson : 132 : DEBUG : NORM of RESIDUAL : 0.7689442018509133\n",
      "davidson : 132 : DEBUG : NORM of RESIDUAL : 0.9603229102485956\n",
      "davidson : 132 : DEBUG : NORM of RESIDUAL : 1.342098438927585\n"
     ]
    },
    {
     "name": "stdout",
     "output_type": "stream",
     "text": [
      "=================================\n",
      " ITERATION : 5 \n",
      "SUBSPACE SIZE V:  torch.Size([225, 26])\n",
      "=================================\n"
     ]
    },
    {
     "name": "stderr",
     "output_type": "stream",
     "text": [
      "davidson : 101 : DEBUG : RIGHT EVALS\n",
      "tensor([ 4.02517,  4.25891,  5.99712,  6.04648,  6.30803,  6.76825,  6.87917,  7.37356,  8.08361,  8.29220, 10.17979, 10.85472, 11.37839, 12.05178, 13.09080, 17.35086, 17.56195, 18.22728, 26.15989,\n",
      "        26.87042, 27.75398, 27.77200, 33.45150, 36.11134, 37.62605, 37.63457], grad_fn=<SortBackward0>)\n",
      "davidson : 132 : DEBUG : NORM of RESIDUAL : 0.214247725012036\n",
      "davidson : 132 : DEBUG : NORM of RESIDUAL : 0.41256627787214833\n",
      "davidson : 132 : DEBUG : NORM of RESIDUAL : 0.4102712190586555\n",
      "davidson : 132 : DEBUG : NORM of RESIDUAL : 0.7699579841392743\n"
     ]
    },
    {
     "name": "stdout",
     "output_type": "stream",
     "text": [
      "=================================\n",
      " ITERATION : 6 \n",
      "SUBSPACE SIZE V:  torch.Size([225, 30])\n",
      "=================================\n"
     ]
    },
    {
     "name": "stderr",
     "output_type": "stream",
     "text": [
      "davidson : 101 : DEBUG : RIGHT EVALS\n",
      "tensor([ 4.02087,  4.24732,  5.97718,  5.99961,  6.30451,  6.65802,  6.81298,  7.36983,  7.91587,  8.28433,  9.80657, 10.32987, 10.58568, 11.44569, 12.68673, 13.29191, 13.98988, 15.03690, 17.17329,\n",
      "        20.74170, 21.14434, 24.30879, 26.49353, 27.03341, 28.39198, 30.18666, 33.45420, 36.12413, 37.81377, 37.91916], grad_fn=<SortBackward0>)\n",
      "davidson : 132 : DEBUG : NORM of RESIDUAL : 0.13541642326130668\n",
      "davidson : 132 : DEBUG : NORM of RESIDUAL : 0.26303700791613815\n",
      "davidson : 132 : DEBUG : NORM of RESIDUAL : 0.3273329284078232\n",
      "davidson : 132 : DEBUG : NORM of RESIDUAL : 0.5660611157656955\n"
     ]
    },
    {
     "name": "stdout",
     "output_type": "stream",
     "text": [
      "=================================\n",
      " ITERATION : 7 \n",
      "SUBSPACE SIZE V:  torch.Size([225, 34])\n",
      "=================================\n"
     ]
    },
    {
     "name": "stderr",
     "output_type": "stream",
     "text": [
      "davidson : 101 : DEBUG : RIGHT EVALS\n",
      "tensor([ 4.01973,  4.24273,  5.96898,  5.97438,  6.29937,  6.39251,  6.80000,  7.36885,  7.56236,  8.26016,  9.10880,  9.58898,  9.61435,  9.98898, 11.30048, 12.19531, 12.28166, 13.43866, 13.54957,\n",
      "        19.13820, 19.48780, 20.34564, 26.22370, 26.90350, 27.03079, 27.53436, 27.62094, 29.78149, 33.44770, 34.03611, 36.26683, 36.54846, 37.85238, 38.53397], grad_fn=<SortBackward0>)\n",
      "davidson : 132 : DEBUG : NORM of RESIDUAL : 0.07552204312042504\n",
      "davidson : 132 : DEBUG : NORM of RESIDUAL : 0.11922282888060043\n",
      "davidson : 132 : DEBUG : NORM of RESIDUAL : 0.22517667403258465\n",
      "davidson : 132 : DEBUG : NORM of RESIDUAL : 0.30776442823129685\n"
     ]
    },
    {
     "name": "stdout",
     "output_type": "stream",
     "text": [
      "=================================\n",
      " ITERATION : 8 \n",
      "SUBSPACE SIZE V:  torch.Size([225, 38])\n",
      "=================================\n"
     ]
    },
    {
     "name": "stderr",
     "output_type": "stream",
     "text": [
      "davidson : 101 : DEBUG : RIGHT EVALS\n",
      "tensor([ 4.01934,  4.24171,  5.96459,  5.96620,  6.27620,  6.29225,  6.79670,  7.04953,  7.36623,  8.19640,  8.51928,  8.83349,  9.13726,  9.16547, 10.44421, 11.68118, 11.69026, 11.85314, 12.97795,\n",
      "        15.11843, 15.56516, 16.49636, 16.87612, 20.97716, 21.70628, 22.67717, 26.27129, 27.07465, 28.07319, 28.17831, 28.78487, 33.45095, 34.73058, 36.18936, 36.27101, 37.50494, 37.89297, 38.87099],\n",
      "       grad_fn=<SortBackward0>)\n",
      "davidson : 132 : DEBUG : NORM of RESIDUAL : 0.04135751327766194\n",
      "davidson : 132 : DEBUG : NORM of RESIDUAL : 0.06434096764122788\n",
      "davidson : 132 : DEBUG : NORM of RESIDUAL : 0.1557351998655342\n"
     ]
    },
    {
     "name": "stdout",
     "output_type": "stream",
     "text": [
      "=================================\n",
      " ITERATION : 9 \n",
      "SUBSPACE SIZE V:  torch.Size([225, 41])\n",
      "=================================\n"
     ]
    },
    {
     "name": "stderr",
     "output_type": "stream",
     "text": [
      "davidson : 101 : DEBUG : RIGHT EVALS\n",
      "tensor([ 4.01925,  4.24144,  5.96296,  5.96313,  6.15699,  6.29215,  6.79585,  7.04446,  7.36621,  8.00734,  8.40515,  8.48759,  8.51475,  8.83761, 10.43981, 11.23481, 11.26284, 11.52934, 12.97314,\n",
      "        13.61964, 14.45876, 14.56672, 15.57973, 18.90350, 20.18746, 20.21222, 25.13128, 26.26976, 26.88383, 27.06180, 27.79186, 28.47220, 29.26157, 29.90885, 33.45095, 36.29491, 36.64551, 37.43829,\n",
      "        37.54433, 38.12813, 38.95291], grad_fn=<SortBackward0>)\n",
      "davidson : 143 : DEBUG : !!!! MAX subspace reached !!!! : \n",
      "davidson : 147 : DEBUG : V shape after restart : torch.Size([225, 6])\n"
     ]
    },
    {
     "name": "stdout",
     "output_type": "stream",
     "text": [
      "=================================\n",
      " ITERATION : 10 \n",
      "SUBSPACE SIZE V:  torch.Size([225, 6])\n"
     ]
    },
    {
     "name": "stderr",
     "output_type": "stream",
     "text": [
      "davidson : 101 : DEBUG : RIGHT EVALS\n",
      "tensor([4.01925, 4.24144, 5.96296, 5.96313, 6.15699, 6.29215], grad_fn=<SortBackward0>)\n",
      "davidson : 132 : DEBUG : NORM of RESIDUAL : 0.009116856785405233\n",
      "davidson : 132 : DEBUG : NORM of RESIDUAL : 0.025815112131191396\n",
      "davidson : 132 : DEBUG : NORM of RESIDUAL : 0.04171818523359231\n",
      "davidson : 132 : DEBUG : NORM of RESIDUAL : 0.09563642246245237\n"
     ]
    },
    {
     "name": "stdout",
     "output_type": "stream",
     "text": [
      "=================================\n",
      "=================================\n",
      " ITERATION : 11 \n",
      "SUBSPACE SIZE V:  torch.Size([225, 10])\n"
     ]
    },
    {
     "name": "stderr",
     "output_type": "stream",
     "text": [
      "davidson : 101 : DEBUG : RIGHT EVALS\n",
      "tensor([ 4.01924,  4.24141,  5.96268,  5.96280,  6.11040,  6.29179, 16.34382, 18.03139, 23.75281, 26.72130], grad_fn=<SortBackward0>)\n",
      "davidson : 132 : DEBUG : NORM of RESIDUAL : 0.0038808516980009815\n",
      "davidson : 132 : DEBUG : NORM of RESIDUAL : 0.01455468059075296\n",
      "davidson : 132 : DEBUG : NORM of RESIDUAL : 0.058366200479632924\n",
      "davidson : 132 : DEBUG : NORM of RESIDUAL : 0.020761949784689177\n"
     ]
    },
    {
     "name": "stdout",
     "output_type": "stream",
     "text": [
      "=================================\n",
      "=================================\n",
      " ITERATION : 12 \n",
      "SUBSPACE SIZE V:  torch.Size([225, 14])\n",
      "=================================\n"
     ]
    },
    {
     "name": "stderr",
     "output_type": "stream",
     "text": [
      "davidson : 101 : DEBUG : RIGHT EVALS\n",
      "tensor([ 4.01924,  4.24139,  5.96231,  5.96277,  6.08005,  6.29121, 10.73041, 11.95054, 12.50290, 14.06763, 26.22167, 28.70737, 35.09718, 37.35365], grad_fn=<SortBackward0>)\n",
      "davidson : 132 : DEBUG : NORM of RESIDUAL : 0.0017453180091060098\n",
      "davidson : 132 : DEBUG : NORM of RESIDUAL : 0.007109311986617246\n",
      "davidson : 132 : DEBUG : NORM of RESIDUAL : 0.035624637489816376\n",
      "davidson : 132 : DEBUG : NORM of RESIDUAL : 0.010891810804917912\n"
     ]
    },
    {
     "name": "stdout",
     "output_type": "stream",
     "text": [
      "=================================\n",
      " ITERATION : 13 \n",
      "SUBSPACE SIZE V:  torch.Size([225, 18])\n",
      "=================================\n"
     ]
    },
    {
     "name": "stderr",
     "output_type": "stream",
     "text": [
      "davidson : 101 : DEBUG : RIGHT EVALS\n",
      "tensor([ 4.01924,  4.24138,  5.96220,  5.96276,  6.04689,  6.29027,  8.63777, 10.20070, 11.24510, 12.07222, 19.05314, 19.91702, 21.84020, 23.47312, 29.74532, 32.59336, 37.59702, 38.12239],\n",
      "       grad_fn=<SortBackward0>)\n",
      "davidson : 132 : DEBUG : NORM of RESIDUAL : 0.0010964990357210569\n",
      "davidson : 132 : DEBUG : NORM of RESIDUAL : 0.003919065771790726\n",
      "davidson : 132 : DEBUG : NORM of RESIDUAL : 0.02378856138497915\n",
      "davidson : 132 : DEBUG : NORM of RESIDUAL : 0.008161930807975275\n"
     ]
    },
    {
     "name": "stdout",
     "output_type": "stream",
     "text": [
      "=================================\n",
      " ITERATION : 14 \n",
      "SUBSPACE SIZE V:  torch.Size([225, 22])\n",
      "=================================\n"
     ]
    },
    {
     "name": "stderr",
     "output_type": "stream",
     "text": [
      "davidson : 101 : DEBUG : RIGHT EVALS\n",
      "tensor([ 4.01924,  4.24138,  5.96215,  5.96276,  6.00293,  6.28896,  7.83256,  9.36956, 10.01413, 10.56577, 12.13556, 15.80588, 15.94346, 16.33102, 23.87385, 26.70485, 27.79513, 29.44920, 33.17061,\n",
      "        36.90985, 38.27708, 38.36527], grad_fn=<SortBackward0>)\n",
      "davidson : 132 : DEBUG : NORM of RESIDUAL : 0.0005469416558345028\n",
      "davidson : 132 : DEBUG : NORM of RESIDUAL : 0.0019899911092367702\n",
      "davidson : 132 : DEBUG : NORM of RESIDUAL : 0.014508532474605138\n",
      "davidson : 132 : DEBUG : NORM of RESIDUAL : 0.005127753785783454\n"
     ]
    },
    {
     "name": "stdout",
     "output_type": "stream",
     "text": [
      "=================================\n",
      " ITERATION : 15 \n",
      "SUBSPACE SIZE V:  torch.Size([225, 26])\n",
      "=================================\n"
     ]
    },
    {
     "name": "stderr",
     "output_type": "stream",
     "text": [
      "davidson : 101 : DEBUG : RIGHT EVALS\n",
      "tensor([ 4.01924,  4.24138,  5.96214,  5.96276,  5.96707,  6.28837,  7.29050,  8.65840,  9.01477,  9.59131, 10.99161, 12.43859, 13.76274, 14.33167, 18.76215, 20.14537, 21.81919, 23.78024, 27.72118,\n",
      "        29.08371, 32.25494, 33.90885, 35.54941, 37.88138, 38.49838, 38.53760], grad_fn=<SortBackward0>)\n",
      "davidson : 132 : DEBUG : NORM of RESIDUAL : 0.0003066599983963341\n",
      "davidson : 132 : DEBUG : NORM of RESIDUAL : 0.0010130428104940944\n",
      "davidson : 132 : DEBUG : NORM of RESIDUAL : 0.009756974637234104\n",
      "davidson : 132 : DEBUG : NORM of RESIDUAL : 0.004040367747399465\n"
     ]
    },
    {
     "name": "stdout",
     "output_type": "stream",
     "text": [
      "=================================\n",
      " ITERATION : 16 \n",
      "SUBSPACE SIZE V:  torch.Size([225, 30])\n",
      "=================================\n"
     ]
    },
    {
     "name": "stderr",
     "output_type": "stream",
     "text": [
      "davidson : 101 : DEBUG : RIGHT EVALS\n",
      "tensor([ 4.01924,  4.24138,  5.95032,  5.96213,  5.96275,  6.28799,  7.09300,  7.96322,  8.54057,  8.93751, 10.29916, 11.63553, 11.83360, 12.49836, 16.27850, 16.72414, 17.54544, 19.58045, 22.11371,\n",
      "        23.23879, 26.81308, 27.97064, 28.79163, 30.59195, 34.98674, 36.41997, 37.00498, 38.01106, 38.59301, 38.74878], grad_fn=<SortBackward0>)\n",
      "davidson : 132 : DEBUG : NORM of RESIDUAL : 0.00020259228995103112\n",
      "davidson : 132 : DEBUG : NORM of RESIDUAL : 0.0005634902279087411\n",
      "davidson : 132 : DEBUG : NORM of RESIDUAL : 0.32942717233848945\n",
      "davidson : 132 : DEBUG : NORM of RESIDUAL : 0.006220409108207432\n"
     ]
    },
    {
     "name": "stdout",
     "output_type": "stream",
     "text": [
      "=================================\n",
      " ITERATION : 17 \n",
      "SUBSPACE SIZE V:  torch.Size([225, 34])\n",
      "=================================\n"
     ]
    },
    {
     "name": "stderr",
     "output_type": "stream",
     "text": [
      "davidson : 101 : DEBUG : RIGHT EVALS\n",
      "tensor([ 4.01924,  4.24138,  5.94071,  5.96213,  5.96275,  6.28790,  7.00248,  7.46457,  8.20766,  8.79106,  9.29684, 10.58851, 11.02683, 11.15071, 13.48098, 14.40347, 15.09526, 15.86020, 19.62216,\n",
      "        20.87362, 22.09673, 23.26203, 25.74988, 27.49823, 28.63807, 29.02932, 30.84115, 33.94376, 35.73332, 37.15872, 37.79461, 38.16862, 38.67893, 38.87904], grad_fn=<SortBackward0>)\n",
      "davidson : 132 : DEBUG : NORM of RESIDUAL : 0.00014216334709144657\n",
      "davidson : 132 : DEBUG : NORM of RESIDUAL : 0.000357093576833964\n",
      "davidson : 132 : DEBUG : NORM of RESIDUAL : 0.1880237884846596\n",
      "davidson : 132 : DEBUG : NORM of RESIDUAL : 0.0048634428359626575\n"
     ]
    },
    {
     "name": "stdout",
     "output_type": "stream",
     "text": [
      "=================================\n",
      " ITERATION : 18 \n",
      "SUBSPACE SIZE V:  torch.Size([225, 38])\n",
      "=================================\n"
     ]
    },
    {
     "name": "stderr",
     "output_type": "stream",
     "text": [
      "davidson : 101 : DEBUG : RIGHT EVALS\n",
      "tensor([ 4.01924,  4.24138,  5.93709,  5.96212,  5.96275,  6.28756,  6.95928,  7.00009,  7.61551,  8.18227,  8.89505,  9.86935,  9.95574, 10.61941, 11.58751, 12.49705, 13.68739, 14.32987, 17.20549,\n",
      "        17.82790, 18.80413, 19.78161, 21.53109, 23.12366, 24.94451, 26.84469, 28.31368, 28.59458, 29.09252, 33.48928, 35.51606, 35.73974, 36.32941, 37.47689, 37.99896, 38.40538, 38.70827, 38.99869],\n",
      "       grad_fn=<SortBackward0>)\n",
      "davidson : 132 : DEBUG : NORM of RESIDUAL : 8.670245669046017e-05\n",
      "davidson : 132 : DEBUG : NORM of RESIDUAL : 0.0002103152746683199\n",
      "davidson : 132 : DEBUG : NORM of RESIDUAL : 0.1307347394792926\n"
     ]
    },
    {
     "name": "stdout",
     "output_type": "stream",
     "text": [
      "=================================\n",
      " ITERATION : 19 \n",
      "SUBSPACE SIZE V:  torch.Size([225, 41])\n",
      "=================================\n"
     ]
    },
    {
     "name": "stderr",
     "output_type": "stream",
     "text": [
      "davidson : 101 : DEBUG : RIGHT EVALS\n",
      "tensor([ 4.01924,  4.24138,  5.93549,  5.96212,  5.96275,  6.28740,  6.73867,  6.95228,  7.35855,  7.92384,  8.64222,  9.25761,  9.31675, 10.34058, 11.18444, 12.06104, 12.20764, 12.95433, 15.47484,\n",
      "        16.31605, 16.42260, 18.74195, 20.42764, 21.18960, 21.74429, 23.51646, 26.67949, 26.84856, 27.42885, 28.89967, 28.99579, 29.54552, 35.73393, 35.96168, 36.65750, 37.25100, 37.93952, 38.12742,\n",
      "        38.46056, 38.71148, 39.14278], grad_fn=<SortBackward0>)\n",
      "davidson : 143 : DEBUG : !!!! MAX subspace reached !!!! : \n",
      "davidson : 147 : DEBUG : V shape after restart : torch.Size([225, 6])\n"
     ]
    },
    {
     "name": "stdout",
     "output_type": "stream",
     "text": [
      "=================================\n",
      " ITERATION : 20 \n",
      "SUBSPACE SIZE V:  torch.Size([225, 6])\n"
     ]
    },
    {
     "name": "stderr",
     "output_type": "stream",
     "text": [
      "davidson : 101 : DEBUG : RIGHT EVALS\n",
      "tensor([4.01924, 4.24138, 5.93549, 5.96212, 5.96275, 6.28740], grad_fn=<SortBackward0>)\n",
      "davidson : 132 : DEBUG : NORM of RESIDUAL : 3.606558450078169e-05\n",
      "davidson : 132 : DEBUG : NORM of RESIDUAL : 0.00012915727002297598\n",
      "davidson : 132 : DEBUG : NORM of RESIDUAL : 0.09090353822053958\n",
      "davidson : 132 : DEBUG : NORM of RESIDUAL : 0.0032056107444745803\n"
     ]
    },
    {
     "name": "stdout",
     "output_type": "stream",
     "text": [
      "=================================\n",
      "=================================\n",
      " ITERATION : 21 \n",
      "SUBSPACE SIZE V:  torch.Size([225, 10])\n"
     ]
    },
    {
     "name": "stderr",
     "output_type": "stream",
     "text": [
      "davidson : 101 : DEBUG : RIGHT EVALS\n",
      "tensor([ 4.01924,  4.24138,  5.93510,  5.96212,  5.96275,  6.28707, 16.51035, 16.72082, 18.76146, 27.97751], grad_fn=<SortBackward0>)\n",
      "davidson : 132 : DEBUG : NORM of RESIDUAL : 2.3636924475865935e-05\n",
      "davidson : 132 : DEBUG : NORM of RESIDUAL : 8.369683912746928e-05\n",
      "davidson : 132 : DEBUG : NORM of RESIDUAL : 0.05085254522350174\n",
      "davidson : 132 : DEBUG : NORM of RESIDUAL : 0.0023526304274427614\n"
     ]
    },
    {
     "name": "stdout",
     "output_type": "stream",
     "text": [
      "=================================\n",
      "=================================\n",
      " ITERATION : 22 \n",
      "SUBSPACE SIZE V:  torch.Size([225, 14])\n",
      "=================================\n"
     ]
    },
    {
     "name": "stderr",
     "output_type": "stream",
     "text": [
      "davidson : 101 : DEBUG : RIGHT EVALS\n",
      "tensor([ 4.01924,  4.24138,  5.93477,  5.96212,  5.96275,  6.28683,  9.93212, 10.55961, 11.24236, 11.68537, 26.51633, 28.63205, 29.77052, 37.03010], grad_fn=<SortBackward0>)\n",
      "davidson : 132 : DEBUG : NORM of RESIDUAL : 1.4284143038554584e-05\n",
      "davidson : 132 : DEBUG : NORM of RESIDUAL : 6.199625129416193e-05\n",
      "davidson : 132 : DEBUG : NORM of RESIDUAL : 0.0414544298398354\n",
      "davidson : 132 : DEBUG : NORM of RESIDUAL : 0.0023264206212875588\n"
     ]
    },
    {
     "name": "stdout",
     "output_type": "stream",
     "text": [
      "=================================\n",
      " ITERATION : 23 \n",
      "SUBSPACE SIZE V:  torch.Size([225, 18])\n",
      "=================================\n"
     ]
    },
    {
     "name": "stderr",
     "output_type": "stream",
     "text": [
      "davidson : 101 : DEBUG : RIGHT EVALS\n",
      "tensor([ 4.01924,  4.24138,  5.93456,  5.96212,  5.96275,  6.28663,  8.21391,  8.67190,  8.85465,  9.10306, 18.03943, 19.82935, 20.83990, 22.66789, 29.51966, 32.76507, 35.27390, 37.87218],\n",
      "       grad_fn=<SortBackward0>)\n",
      "davidson : 132 : DEBUG : NORM of RESIDUAL : 9.646625513082791e-06\n",
      "davidson : 132 : DEBUG : NORM of RESIDUAL : 4.232191745096e-05\n",
      "davidson : 132 : DEBUG : NORM of RESIDUAL : 0.0379512099002736\n",
      "davidson : 132 : DEBUG : NORM of RESIDUAL : 0.002116965251481399\n"
     ]
    },
    {
     "name": "stdout",
     "output_type": "stream",
     "text": [
      "=================================\n",
      " ITERATION : 24 \n",
      "SUBSPACE SIZE V:  torch.Size([225, 22])\n",
      "=================================\n"
     ]
    },
    {
     "name": "stderr",
     "output_type": "stream",
     "text": [
      "davidson : 101 : DEBUG : RIGHT EVALS\n",
      "tensor([ 4.01924,  4.24138,  5.93442,  5.96212,  5.96275,  6.28639,  7.35417,  7.56815,  7.84585,  8.32632, 14.48325, 15.26700, 15.34275, 16.42396, 25.02991, 26.10485, 27.53410, 27.92943, 34.34111,\n",
      "        36.86997, 37.14510, 38.05662], grad_fn=<SortBackward0>)\n",
      "davidson : 132 : DEBUG : NORM of RESIDUAL : 5.651451039843536e-06\n",
      "davidson : 132 : DEBUG : NORM of RESIDUAL : 2.1649075968706077e-05\n",
      "davidson : 132 : DEBUG : NORM of RESIDUAL : 0.030167764255327596\n",
      "davidson : 132 : DEBUG : NORM of RESIDUAL : 0.0015742328124878436\n"
     ]
    },
    {
     "name": "stdout",
     "output_type": "stream",
     "text": [
      "=================================\n",
      " ITERATION : 25 \n",
      "SUBSPACE SIZE V:  torch.Size([225, 26])\n",
      "=================================\n"
     ]
    },
    {
     "name": "stderr",
     "output_type": "stream",
     "text": [
      "davidson : 101 : DEBUG : RIGHT EVALS\n",
      "tensor([ 4.01924,  4.24138,  5.93433,  5.96212,  5.96275,  6.28617,  7.06597,  7.11594,  7.21043,  7.67458, 11.95565, 12.23694, 12.63692, 13.11033, 19.40491, 19.63555, 20.53693, 21.72541, 28.19457,\n",
      "        28.58653, 28.99184, 33.85784, 36.66867, 37.56976, 37.68429, 38.22225], grad_fn=<SortBackward0>)\n",
      "davidson : 132 : DEBUG : NORM of RESIDUAL : 3.4223370120569492e-06\n",
      "davidson : 132 : DEBUG : NORM of RESIDUAL : 1.5225742035583716e-05\n",
      "davidson : 132 : DEBUG : NORM of RESIDUAL : 0.027274795397057763\n",
      "davidson : 132 : DEBUG : NORM of RESIDUAL : 0.0015267346816595577\n"
     ]
    },
    {
     "name": "stdout",
     "output_type": "stream",
     "text": [
      "=================================\n",
      " ITERATION : 26 \n",
      "SUBSPACE SIZE V:  torch.Size([225, 30])\n",
      "=================================\n"
     ]
    },
    {
     "name": "stderr",
     "output_type": "stream",
     "text": [
      "davidson : 101 : DEBUG : RIGHT EVALS\n",
      "tensor([ 4.01924,  4.24138,  5.93426,  5.96212,  5.96275,  6.28596,  6.83594,  6.87851,  6.95323,  7.32934, 10.58687, 10.75494, 10.92378, 11.35681, 15.76343, 17.32311, 17.43502, 18.99510, 22.89703,\n",
      "        24.96427, 26.81659, 27.43655, 29.22008, 30.81639, 31.65702, 36.71150, 37.25101, 37.68989, 37.99983, 38.44070], grad_fn=<SortBackward0>)\n",
      "davidson : 132 : DEBUG : NORM of RESIDUAL : 2.3652014178189743e-06\n",
      "davidson : 132 : DEBUG : NORM of RESIDUAL : 8.45531605751086e-06\n",
      "davidson : 132 : DEBUG : NORM of RESIDUAL : 0.01823168790812483\n",
      "davidson : 132 : DEBUG : NORM of RESIDUAL : 0.001174518416051028\n"
     ]
    },
    {
     "name": "stdout",
     "output_type": "stream",
     "text": [
      "=================================\n",
      " ITERATION : 27 \n",
      "SUBSPACE SIZE V:  torch.Size([225, 34])\n",
      "=================================\n"
     ]
    },
    {
     "name": "stderr",
     "output_type": "stream",
     "text": [
      "davidson : 101 : DEBUG : RIGHT EVALS\n",
      "tensor([ 4.01924,  4.24138,  5.93422,  5.96212,  5.96275,  6.28577,  6.61764,  6.74051,  6.85481,  7.08101,  9.44432,  9.85902, 10.01883, 10.20822, 14.03892, 14.67977, 15.12508, 15.75120, 20.20300,\n",
      "        20.58917, 21.08399, 22.56039, 27.93131, 28.16545, 28.37356, 29.28252, 32.38258, 35.34345, 35.65808, 37.24477, 37.75174, 38.13478, 38.44317, 38.60859], grad_fn=<SortBackward0>)\n",
      "davidson : 132 : DEBUG : NORM of RESIDUAL : 1.4466760572874024e-06\n",
      "davidson : 132 : DEBUG : NORM of RESIDUAL : 4.5099051342687364e-06\n",
      "davidson : 132 : DEBUG : NORM of RESIDUAL : 0.014765853615065654\n",
      "davidson : 132 : DEBUG : NORM of RESIDUAL : 0.000801867538857231\n"
     ]
    },
    {
     "name": "stdout",
     "output_type": "stream",
     "text": [
      "=================================\n",
      " ITERATION : 28 \n",
      "SUBSPACE SIZE V:  torch.Size([225, 38])\n",
      "=================================\n"
     ]
    },
    {
     "name": "stderr",
     "output_type": "stream",
     "text": [
      "davidson : 101 : DEBUG : RIGHT EVALS\n",
      "tensor([ 4.01924,  4.24138,  5.93421,  5.96212,  5.96275,  6.28569,  6.43221,  6.67889,  6.82803,  6.98039,  8.68598,  9.23572,  9.47412,  9.80398, 12.42694, 13.16227, 13.34074, 14.37058, 17.66203,\n",
      "        17.88534, 19.11187, 19.91055, 22.34428, 22.97756, 25.96741, 27.26285, 28.78651, 28.96973, 29.42879, 31.56034, 35.66568, 36.26369, 36.68200, 37.47749, 37.87920, 38.51764, 38.73984, 38.83043],\n",
      "       grad_fn=<SortBackward0>)\n",
      "davidson : 132 : DEBUG : NORM of RESIDUAL : 2.1253952483711136e-06\n",
      "davidson : 132 : DEBUG : NORM of RESIDUAL : 0.007346427702216128\n",
      "davidson : 132 : DEBUG : NORM of RESIDUAL : 0.0004969864008088044\n"
     ]
    },
    {
     "name": "stdout",
     "output_type": "stream",
     "text": [
      "=================================\n",
      " ITERATION : 29 \n",
      "SUBSPACE SIZE V:  torch.Size([225, 41])\n",
      "=================================\n"
     ]
    },
    {
     "name": "stderr",
     "output_type": "stream",
     "text": [
      "davidson : 101 : DEBUG : RIGHT EVALS\n",
      "tensor([ 4.01924,  4.24138,  5.93420,  5.96212,  5.96275,  6.28566,  6.42715,  6.65599,  6.81848,  6.91571,  8.65391,  8.91464,  9.06858,  9.60735, 11.64252, 12.17674, 12.46559, 13.11988, 15.12804,\n",
      "        16.51111, 16.95431, 17.81370, 20.44947, 20.71033, 22.20226, 23.19768, 27.02165, 27.55847, 28.30714, 28.97760, 29.39169, 29.93837, 34.34507, 36.00425, 36.33006, 36.85659, 37.66109, 37.88318,\n",
      "        38.61876, 38.83474, 38.91719], grad_fn=<SortBackward0>)\n",
      "davidson : 143 : DEBUG : !!!! MAX subspace reached !!!! : \n",
      "davidson : 147 : DEBUG : V shape after restart : torch.Size([225, 6])\n"
     ]
    },
    {
     "name": "stdout",
     "output_type": "stream",
     "text": [
      "=================================\n",
      " ITERATION : 30 \n",
      "SUBSPACE SIZE V:  torch.Size([225, 6])\n"
     ]
    },
    {
     "name": "stderr",
     "output_type": "stream",
     "text": [
      "davidson : 101 : DEBUG : RIGHT EVALS\n",
      "tensor([4.01924, 4.24138, 5.93420, 5.96212, 5.96275, 6.28566], grad_fn=<SortBackward0>)\n",
      "davidson : 132 : DEBUG : NORM of RESIDUAL : 1.4524816694876387e-06\n",
      "davidson : 132 : DEBUG : NORM of RESIDUAL : 0.005667062472144775\n",
      "davidson : 132 : DEBUG : NORM of RESIDUAL : 0.0004175555920915533\n"
     ]
    },
    {
     "name": "stdout",
     "output_type": "stream",
     "text": [
      "=================================\n",
      "=================================\n",
      " ITERATION : 31 \n",
      "SUBSPACE SIZE V:  torch.Size([225, 9])\n"
     ]
    },
    {
     "name": "stderr",
     "output_type": "stream",
     "text": [
      "davidson : 101 : DEBUG : RIGHT EVALS\n",
      "tensor([ 4.01924,  4.24138,  5.93420,  5.96212,  5.96275,  6.28565, 19.00380, 23.46753, 27.96226], grad_fn=<SortBackward0>)\n",
      "davidson : 132 : DEBUG : NORM of RESIDUAL : 0.003559179679409766\n",
      "davidson : 132 : DEBUG : NORM of RESIDUAL : 0.00023453993703845578\n"
     ]
    },
    {
     "name": "stdout",
     "output_type": "stream",
     "text": [
      "=================================\n",
      "=================================\n",
      " ITERATION : 32 \n",
      "SUBSPACE SIZE V:  torch.Size([225, 11])\n",
      "=================================\n"
     ]
    },
    {
     "name": "stderr",
     "output_type": "stream",
     "text": [
      "davidson : 101 : DEBUG : RIGHT EVALS\n",
      "tensor([ 4.01924,  4.24138,  5.93420,  5.96212,  5.96275,  6.28563, 10.88016, 11.69185, 22.68513, 31.52198, 36.98374], grad_fn=<SortBackward0>)\n",
      "davidson : 132 : DEBUG : NORM of RESIDUAL : 0.003558247092191616\n",
      "davidson : 132 : DEBUG : NORM of RESIDUAL : 0.00016078254326662908\n"
     ]
    },
    {
     "name": "stdout",
     "output_type": "stream",
     "text": [
      "=================================\n",
      " ITERATION : 33 \n",
      "SUBSPACE SIZE V:  torch.Size([225, 13])\n",
      "=================================\n"
     ]
    },
    {
     "name": "stderr",
     "output_type": "stream",
     "text": [
      "davidson : 101 : DEBUG : RIGHT EVALS\n",
      "tensor([ 4.01924,  4.24138,  5.93420,  5.96212,  5.96275,  6.28562,  8.56103,  9.94600, 20.17761, 22.12352, 26.55969, 35.95921, 37.76160], grad_fn=<SortBackward0>)\n",
      "davidson : 132 : DEBUG : NORM of RESIDUAL : 0.0021015183891449443\n",
      "davidson : 132 : DEBUG : NORM of RESIDUAL : 0.0001092559956432265\n"
     ]
    },
    {
     "name": "stdout",
     "output_type": "stream",
     "text": [
      "=================================\n",
      " ITERATION : 34 \n",
      "SUBSPACE SIZE V:  torch.Size([225, 15])\n",
      "=================================\n"
     ]
    },
    {
     "name": "stderr",
     "output_type": "stream",
     "text": [
      "davidson : 101 : DEBUG : RIGHT EVALS\n",
      "tensor([ 4.01924,  4.24138,  5.93420,  5.96212,  5.96275,  6.28561,  8.02276,  9.11605, 15.99478, 16.76879, 22.45465, 27.69166, 31.01341, 37.07433, 38.08652], grad_fn=<SortBackward0>)\n",
      "davidson : 132 : DEBUG : NORM of RESIDUAL : 0.0016478555255296829\n",
      "davidson : 132 : DEBUG : NORM of RESIDUAL : 7.495235643418243e-05\n"
     ]
    },
    {
     "name": "stdout",
     "output_type": "stream",
     "text": [
      "=================================\n",
      " ITERATION : 35 \n",
      "SUBSPACE SIZE V:  torch.Size([225, 17])\n",
      "=================================\n"
     ]
    },
    {
     "name": "stderr",
     "output_type": "stream",
     "text": [
      "davidson : 101 : DEBUG : RIGHT EVALS\n",
      "tensor([ 4.01924,  4.24138,  5.93420,  5.96212,  5.96275,  6.28561,  7.67403,  8.61719, 12.64096, 13.45470, 19.99802, 23.11330, 26.53735, 30.61478, 35.40264, 37.53361, 38.45897],\n",
      "       grad_fn=<SortBackward0>)\n",
      "davidson : 132 : DEBUG : NORM of RESIDUAL : 0.0012159456616458605\n",
      "davidson : 132 : DEBUG : NORM of RESIDUAL : 5.18859487930663e-05\n"
     ]
    },
    {
     "name": "stdout",
     "output_type": "stream",
     "text": [
      "=================================\n",
      " ITERATION : 36 \n",
      "SUBSPACE SIZE V:  torch.Size([225, 19])\n",
      "=================================\n"
     ]
    },
    {
     "name": "stderr",
     "output_type": "stream",
     "text": [
      "davidson : 101 : DEBUG : RIGHT EVALS\n",
      "tensor([ 4.01924,  4.24138,  5.93420,  5.96212,  5.96275,  6.28561,  7.47676,  8.13205, 11.00497, 11.31484, 17.54500, 18.37156, 23.37029, 26.33901, 27.94176, 33.92840, 36.57850, 37.88405, 38.79732],\n",
      "       grad_fn=<SortBackward0>)\n",
      "davidson : 132 : DEBUG : NORM of RESIDUAL : 0.0009314009883180117\n",
      "davidson : 132 : DEBUG : NORM of RESIDUAL : 3.7284388907061954e-05\n"
     ]
    },
    {
     "name": "stdout",
     "output_type": "stream",
     "text": [
      "=================================\n",
      " ITERATION : 37 \n",
      "SUBSPACE SIZE V:  torch.Size([225, 21])\n",
      "=================================\n"
     ]
    },
    {
     "name": "stderr",
     "output_type": "stream",
     "text": [
      "davidson : 101 : DEBUG : RIGHT EVALS\n",
      "tensor([ 4.01924,  4.24138,  5.93420,  5.96212,  5.96275,  6.28560,  7.25957,  7.87851,  9.56696, 10.54012, 14.77309, 15.89758, 20.25626, 22.98050, 25.75707, 28.64187, 29.34420, 35.74218, 36.79136,\n",
      "        38.27355, 38.88929], grad_fn=<SortBackward0>)\n",
      "davidson : 132 : DEBUG : NORM of RESIDUAL : 0.0007291125991480773\n",
      "davidson : 132 : DEBUG : NORM of RESIDUAL : 3.0271265426440713e-05\n"
     ]
    },
    {
     "name": "stdout",
     "output_type": "stream",
     "text": [
      "=================================\n",
      " ITERATION : 38 \n",
      "SUBSPACE SIZE V:  torch.Size([225, 23])\n",
      "=================================\n"
     ]
    },
    {
     "name": "stderr",
     "output_type": "stream",
     "text": [
      "davidson : 101 : DEBUG : RIGHT EVALS\n",
      "tensor([ 4.01924,  4.24138,  5.93420,  5.96212,  5.96275,  6.28560,  7.08118,  7.62841,  8.81186,  9.81003, 12.99863, 13.65063, 18.55544, 19.20155, 21.39212, 26.59944, 27.12933, 29.42937, 34.85288,\n",
      "        36.07702, 37.17472, 38.38789, 38.99269], grad_fn=<SortBackward0>)\n",
      "davidson : 132 : DEBUG : NORM of RESIDUAL : 0.0006420010598137696\n",
      "davidson : 132 : DEBUG : NORM of RESIDUAL : 2.1784302117642962e-05\n"
     ]
    },
    {
     "name": "stdout",
     "output_type": "stream",
     "text": [
      "=================================\n",
      " ITERATION : 39 \n",
      "SUBSPACE SIZE V:  torch.Size([225, 25])\n",
      "=================================\n"
     ]
    },
    {
     "name": "stderr",
     "output_type": "stream",
     "text": [
      "davidson : 101 : DEBUG : RIGHT EVALS\n",
      "tensor([ 4.01924,  4.24138,  5.93420,  5.96212,  5.96275,  6.28560,  6.97001,  7.43417,  8.46494,  9.28101, 12.05208, 12.25558, 16.81805, 17.14729, 20.27818, 22.26914, 25.92400, 27.41952, 28.49970,\n",
      "        31.63457, 36.03625, 36.24621, 37.73527, 38.43400, 39.10668], grad_fn=<SortBackward0>)\n",
      "davidson : 132 : DEBUG : NORM of RESIDUAL : 0.0005068106145886623\n",
      "davidson : 132 : DEBUG : NORM of RESIDUAL : 1.9750844857209754e-05\n"
     ]
    },
    {
     "name": "stdout",
     "output_type": "stream",
     "text": [
      "=================================\n",
      " ITERATION : 40 \n",
      "SUBSPACE SIZE V:  torch.Size([225, 27])\n",
      "=================================\n"
     ]
    },
    {
     "name": "stderr",
     "output_type": "stream",
     "text": [
      "davidson : 101 : DEBUG : RIGHT EVALS\n",
      "tensor([ 4.01924,  4.24138,  5.93420,  5.96212,  5.96275,  6.28559,  6.85289,  6.98043,  8.13570,  8.42559, 10.66675, 10.89228, 14.45339, 14.52213, 18.67439, 19.78722, 21.20632, 26.04106, 26.78148,\n",
      "        29.13525, 29.34454, 35.53181, 36.25511, 37.15261, 38.02830, 38.54898, 39.18324], grad_fn=<SortBackward0>)\n",
      "davidson : 132 : DEBUG : NORM of RESIDUAL : 0.00033385836331156673\n",
      "davidson : 132 : DEBUG : NORM of RESIDUAL : 1.8127640512752697e-05\n"
     ]
    },
    {
     "name": "stdout",
     "output_type": "stream",
     "text": [
      "=================================\n",
      " ITERATION : 41 \n",
      "SUBSPACE SIZE V:  torch.Size([225, 29])\n",
      "=================================\n"
     ]
    },
    {
     "name": "stderr",
     "output_type": "stream",
     "text": [
      "davidson : 101 : DEBUG : RIGHT EVALS\n",
      "tensor([ 4.01924,  4.24138,  5.93420,  5.96212,  5.96275,  6.28559,  6.78493,  6.82446,  8.03559,  8.23100, 10.40172, 10.46260, 13.71408, 13.94471, 17.86422, 18.90955, 19.99305, 20.85922, 25.45684,\n",
      "        26.56381, 26.98213, 29.42090, 29.89709, 35.77164, 36.28378, 37.61376, 38.06352, 38.63872, 39.19104], grad_fn=<SortBackward0>)\n",
      "davidson : 132 : DEBUG : NORM of RESIDUAL : 0.00018756166185577224\n",
      "davidson : 132 : DEBUG : NORM of RESIDUAL : 1.2635736010587819e-05\n"
     ]
    },
    {
     "name": "stdout",
     "output_type": "stream",
     "text": [
      "=================================\n",
      " ITERATION : 42 \n",
      "SUBSPACE SIZE V:  torch.Size([225, 31])\n",
      "=================================\n"
     ]
    },
    {
     "name": "stderr",
     "output_type": "stream",
     "text": [
      "davidson : 101 : DEBUG : RIGHT EVALS\n",
      "tensor([ 4.01924,  4.24138,  5.93420,  5.96212,  5.96275,  6.28559,  6.73543,  6.79929,  7.97059,  8.17775, 10.06923, 10.29784, 12.74053, 13.45066, 15.64600, 16.38675, 19.17244, 19.86212, 20.93651,\n",
      "        26.04901, 26.67075, 28.79507, 29.00827, 30.67041, 32.45112, 35.84535, 36.30607, 37.77815, 38.07493, 38.68746, 39.19339], grad_fn=<SortBackward0>)\n",
      "davidson : 132 : DEBUG : NORM of RESIDUAL : 0.00013139344616176437\n",
      "davidson : 132 : DEBUG : NORM of RESIDUAL : 7.1964659136218644e-06\n"
     ]
    },
    {
     "name": "stdout",
     "output_type": "stream",
     "text": [
      "=================================\n",
      " ITERATION : 43 \n",
      "SUBSPACE SIZE V:  torch.Size([225, 33])\n",
      "=================================\n"
     ]
    },
    {
     "name": "stderr",
     "output_type": "stream",
     "text": [
      "davidson : 101 : DEBUG : RIGHT EVALS\n",
      "tensor([ 4.01924,  4.24138,  5.93420,  5.96212,  5.96275,  6.28559,  6.70780,  6.78739,  7.92112,  8.14213,  9.61746, 10.16409, 11.66737, 12.23211, 14.45145, 14.59797, 18.27751, 19.51885, 20.15087,\n",
      "        21.08334, 24.77035, 26.45013, 26.79706, 29.20279, 29.68602, 32.99592, 35.85243, 35.99369, 36.47876, 37.86687, 38.08839, 38.71239, 39.19547], grad_fn=<SortBackward0>)\n",
      "davidson : 132 : DEBUG : NORM of RESIDUAL : 9.931178646563658e-05\n",
      "davidson : 132 : DEBUG : NORM of RESIDUAL : 5.27815439560169e-06\n"
     ]
    },
    {
     "name": "stdout",
     "output_type": "stream",
     "text": [
      "=================================\n",
      " ITERATION : 44 \n",
      "SUBSPACE SIZE V:  torch.Size([225, 35])\n",
      "=================================\n"
     ]
    },
    {
     "name": "stderr",
     "output_type": "stream",
     "text": [
      "davidson : 101 : DEBUG : RIGHT EVALS\n",
      "tensor([ 4.01924,  4.24138,  5.93420,  5.96212,  5.96275,  6.28559,  6.67614,  6.77655,  7.83647,  8.03523,  8.82529,  9.07476, 10.47929, 10.82408, 13.73185, 13.77116, 16.33912, 16.79326, 19.16024,\n",
      "        20.11045, 20.50125, 23.74345, 26.46994, 26.56923, 28.70338, 29.57748, 30.46364, 35.08336, 36.02708, 36.22664, 37.09833, 37.91551, 38.12003, 38.72990, 39.19602], grad_fn=<SortBackward0>)\n",
      "davidson : 132 : DEBUG : NORM of RESIDUAL : 8.478478775181695e-05\n",
      "davidson : 132 : DEBUG : NORM of RESIDUAL : 5.108774444027326e-06\n"
     ]
    },
    {
     "name": "stdout",
     "output_type": "stream",
     "text": [
      "=================================\n",
      " ITERATION : 45 \n",
      "SUBSPACE SIZE V:  torch.Size([225, 37])\n",
      "=================================\n"
     ]
    },
    {
     "name": "stderr",
     "output_type": "stream",
     "text": [
      "davidson : 101 : DEBUG : RIGHT EVALS\n",
      "tensor([ 4.01924,  4.24138,  5.93420,  5.96212,  5.96275,  6.28559,  6.65403,  6.76721,  7.67313,  7.82989,  8.37386,  8.49698, 10.37824, 10.50019, 13.14691, 13.51611, 15.39669, 15.85614, 18.70291,\n",
      "        19.71598, 20.21940, 21.85235, 23.95250, 26.08854, 26.47868, 28.93852, 29.14568, 30.86667, 31.41250, 35.70481, 36.21087, 36.57160, 37.35409, 37.95564, 38.15042, 38.74424, 39.19613],\n",
      "       grad_fn=<SortBackward0>)\n",
      "davidson : 132 : DEBUG : NORM of RESIDUAL : 5.9472789185012e-05\n",
      "davidson : 132 : DEBUG : NORM of RESIDUAL : 2.5011723577030614e-06\n"
     ]
    },
    {
     "name": "stdout",
     "output_type": "stream",
     "text": [
      "=================================\n",
      " ITERATION : 46 \n",
      "SUBSPACE SIZE V:  torch.Size([225, 39])\n",
      "=================================\n"
     ]
    },
    {
     "name": "stderr",
     "output_type": "stream",
     "text": [
      "davidson : 101 : DEBUG : RIGHT EVALS\n",
      "tensor([ 4.01924,  4.24138,  5.93420,  5.96212,  5.96275,  6.28559,  6.64770,  6.75560,  7.43521,  7.74886,  8.16171,  8.38663, 10.21493, 10.36171, 12.21420, 13.35367, 14.43957, 15.24266, 17.40521,\n",
      "        17.57641, 19.22397, 20.45248, 20.50441, 23.30701, 26.41436, 26.47662, 27.32195, 29.12608, 29.53297, 31.35446, 33.76417, 35.84634, 36.23650, 37.25723, 37.51702, 38.04911, 38.19403, 38.76722,\n",
      "        39.19639], grad_fn=<SortBackward0>)\n",
      "davidson : 132 : DEBUG : NORM of RESIDUAL : 4.190895453346065e-05\n",
      "davidson : 132 : DEBUG : NORM of RESIDUAL : 1.6212742085005963e-06\n"
     ]
    },
    {
     "name": "stdout",
     "output_type": "stream",
     "text": [
      "=================================\n",
      " ITERATION : 47 \n",
      "SUBSPACE SIZE V:  torch.Size([225, 41])\n",
      "=================================\n"
     ]
    },
    {
     "name": "stderr",
     "output_type": "stream",
     "text": [
      "davidson : 101 : DEBUG : RIGHT EVALS\n",
      "tensor([ 4.01924,  4.24138,  5.93420,  5.96212,  5.96275,  6.28559,  6.64401,  6.74151,  7.21347,  7.68557,  8.05422,  8.34217,  9.82750, 10.33936, 11.22132, 12.12356, 13.61600, 13.77009, 15.80540,\n",
      "        16.07078, 18.78259, 19.41866, 20.42909, 21.56204, 22.15954, 26.04068, 26.48864, 26.91261, 28.73977, 29.40448, 30.29772, 32.06896, 34.63949, 35.88080, 36.24253, 37.37089, 37.61620, 38.10670,\n",
      "        38.24242, 38.77975, 39.19641], grad_fn=<SortBackward0>)\n",
      "davidson : 143 : DEBUG : !!!! MAX subspace reached !!!! : \n",
      "davidson : 147 : DEBUG : V shape after restart : torch.Size([225, 6])\n"
     ]
    },
    {
     "name": "stdout",
     "output_type": "stream",
     "text": [
      "=================================\n",
      " ITERATION : 48 \n",
      "SUBSPACE SIZE V:  torch.Size([225, 6])\n"
     ]
    },
    {
     "name": "stderr",
     "output_type": "stream",
     "text": [
      "davidson : 101 : DEBUG : RIGHT EVALS\n",
      "tensor([4.01924, 4.24138, 5.93420, 5.96212, 5.96275, 6.28559], grad_fn=<SortBackward0>)\n",
      "davidson : 132 : DEBUG : NORM of RESIDUAL : 3.6486173440386845e-05\n",
      "davidson : 132 : DEBUG : NORM of RESIDUAL : 1.4107007775477117e-06\n"
     ]
    },
    {
     "name": "stdout",
     "output_type": "stream",
     "text": [
      "=================================\n",
      "=================================\n",
      " ITERATION : 49 \n",
      "SUBSPACE SIZE V:  torch.Size([225, 8])\n"
     ]
    },
    {
     "name": "stderr",
     "output_type": "stream",
     "text": [
      "davidson : 101 : DEBUG : RIGHT EVALS\n",
      "tensor([ 4.01924,  4.24138,  5.93420,  5.96212,  5.96275,  6.28559, 22.18370, 26.79442], grad_fn=<SortBackward0>)\n",
      "davidson : 132 : DEBUG : NORM of RESIDUAL : 2.136963294716362e-05\n"
     ]
    },
    {
     "name": "stdout",
     "output_type": "stream",
     "text": [
      "=================================\n",
      "=================================\n",
      " ITERATION : 50 \n",
      "SUBSPACE SIZE V:  torch.Size([225, 9])\n",
      "=================================\n"
     ]
    },
    {
     "name": "stderr",
     "output_type": "stream",
     "text": [
      "davidson : 101 : DEBUG : RIGHT EVALS\n",
      "tensor([ 4.01924,  4.24138,  5.93420,  5.96212,  5.96275,  6.28559, 12.10394, 22.96781, 36.00464], grad_fn=<SortBackward0>)\n",
      "davidson : 132 : DEBUG : NORM of RESIDUAL : 1.675627276687862e-05\n"
     ]
    },
    {
     "name": "stdout",
     "output_type": "stream",
     "text": [
      "=================================\n",
      " ITERATION : 51 \n",
      "SUBSPACE SIZE V:  torch.Size([225, 10])\n",
      "=================================\n"
     ]
    },
    {
     "name": "stderr",
     "output_type": "stream",
     "text": [
      "davidson : 101 : DEBUG : RIGHT EVALS\n",
      "tensor([ 4.01924,  4.24138,  5.93420,  5.96212,  5.96275,  6.28559,  8.99092, 20.78091, 23.65805, 37.30762], grad_fn=<SortBackward0>)\n",
      "davidson : 132 : DEBUG : NORM of RESIDUAL : 1.635519033009688e-05\n"
     ]
    },
    {
     "name": "stdout",
     "output_type": "stream",
     "text": [
      "=================================\n",
      " ITERATION : 52 \n",
      "SUBSPACE SIZE V:  torch.Size([225, 11])\n",
      "=================================\n"
     ]
    },
    {
     "name": "stderr",
     "output_type": "stream",
     "text": [
      "davidson : 101 : DEBUG : RIGHT EVALS\n",
      "tensor([ 4.01924,  4.24138,  5.93420,  5.96212,  5.96275,  6.28559,  7.68757, 16.11885, 22.47639, 29.01823, 37.62817], grad_fn=<SortBackward0>)\n",
      "davidson : 132 : DEBUG : NORM of RESIDUAL : 1.4355015709532881e-05\n"
     ]
    },
    {
     "name": "stdout",
     "output_type": "stream",
     "text": [
      "=================================\n",
      " ITERATION : 53 \n",
      "SUBSPACE SIZE V:  torch.Size([225, 12])\n",
      "=================================\n"
     ]
    },
    {
     "name": "stderr",
     "output_type": "stream",
     "text": [
      "davidson : 101 : DEBUG : RIGHT EVALS\n",
      "tensor([ 4.01924,  4.24138,  5.93420,  5.96212,  5.96275,  6.28559,  7.25501, 13.91216, 21.42527, 24.13038, 32.65477, 37.79350], grad_fn=<SortBackward0>)\n",
      "davidson : 132 : DEBUG : NORM of RESIDUAL : 1.2737964471321462e-05\n"
     ]
    },
    {
     "name": "stdout",
     "output_type": "stream",
     "text": [
      "=================================\n",
      " ITERATION : 54 \n",
      "SUBSPACE SIZE V:  torch.Size([225, 13])\n",
      "=================================\n"
     ]
    },
    {
     "name": "stderr",
     "output_type": "stream",
     "text": [
      "davidson : 101 : DEBUG : RIGHT EVALS\n",
      "tensor([ 4.01924,  4.24138,  5.93420,  5.96212,  5.96275,  6.28559,  6.88333, 11.13607, 17.37873, 22.92791, 27.51528, 36.43838, 38.18480], grad_fn=<SortBackward0>)\n",
      "davidson : 132 : DEBUG : NORM of RESIDUAL : 1.0821661817033988e-05\n"
     ]
    },
    {
     "name": "stdout",
     "output_type": "stream",
     "text": [
      "=================================\n",
      " ITERATION : 55 \n",
      "SUBSPACE SIZE V:  torch.Size([225, 14])\n",
      "=================================\n"
     ]
    },
    {
     "name": "stderr",
     "output_type": "stream",
     "text": [
      "davidson : 101 : DEBUG : RIGHT EVALS\n",
      "tensor([ 4.01924,  4.24138,  5.93420,  5.96212,  5.96275,  6.28559,  6.69450,  9.88551, 15.68307, 21.51319, 23.03357, 28.85850, 36.95623, 38.49438], grad_fn=<SortBackward0>)\n",
      "davidson : 132 : DEBUG : NORM of RESIDUAL : 9.069522575802676e-06\n",
      "davidson : 132 : DEBUG : NORM of RESIDUAL : 1.0129057682861447e-06\n"
     ]
    },
    {
     "name": "stdout",
     "output_type": "stream",
     "text": [
      "=================================\n",
      " ITERATION : 56 \n",
      "SUBSPACE SIZE V:  torch.Size([225, 16])\n",
      "=================================\n"
     ]
    },
    {
     "name": "stderr",
     "output_type": "stream",
     "text": [
      "davidson : 101 : DEBUG : RIGHT EVALS\n",
      "tensor([ 4.01924,  4.24138,  5.93420,  5.96212,  5.96275,  6.28559,  6.56710,  8.82607, 10.40613, 14.14080, 18.26556, 26.10623, 29.69442, 34.47500, 37.61030, 38.62385], grad_fn=<SortBackward0>)\n",
      "davidson : 132 : DEBUG : NORM of RESIDUAL : 7.285866032929741e-06\n",
      "davidson : 132 : DEBUG : NORM of RESIDUAL : 1.2137111664566896e-06\n"
     ]
    },
    {
     "name": "stdout",
     "output_type": "stream",
     "text": [
      "=================================\n",
      " ITERATION : 57 \n",
      "SUBSPACE SIZE V:  torch.Size([225, 18])\n"
     ]
    },
    {
     "name": "stderr",
     "output_type": "stream",
     "text": [
      "davidson : 101 : DEBUG : RIGHT EVALS\n",
      "tensor([ 4.01924,  4.24138,  5.93420,  5.96212,  5.96275,  6.28559,  6.50304,  7.46317,  8.94473, 12.73049, 17.14885, 21.56019, 22.87962, 28.15057, 32.07206, 36.40244, 38.19142, 38.66889],\n",
      "       grad_fn=<SortBackward0>)\n",
      "davidson : 132 : DEBUG : NORM of RESIDUAL : 5.440957489402328e-06\n",
      "davidson : 132 : DEBUG : NORM of RESIDUAL : 1.2381102519898976e-06\n"
     ]
    },
    {
     "name": "stdout",
     "output_type": "stream",
     "text": [
      "=================================\n",
      "=================================\n",
      " ITERATION : 58 \n",
      "SUBSPACE SIZE V:  torch.Size([225, 20])\n",
      "=================================\n"
     ]
    },
    {
     "name": "stderr",
     "output_type": "stream",
     "text": [
      "davidson : 101 : DEBUG : RIGHT EVALS\n",
      "tensor([ 4.01924,  4.24138,  5.93420,  5.96212,  5.96275,  6.28559,  6.44966,  7.10672,  8.59015, 11.29852, 14.99722, 17.91539, 18.72979, 24.96037, 28.58064, 28.99015, 34.98824, 36.88300, 38.37781,\n",
      "        38.71057], grad_fn=<SortBackward0>)\n",
      "davidson : 132 : DEBUG : NORM of RESIDUAL : 4.202972497026499e-06\n"
     ]
    },
    {
     "name": "stdout",
     "output_type": "stream",
     "text": [
      "=================================\n",
      " ITERATION : 59 \n",
      "SUBSPACE SIZE V:  torch.Size([225, 21])\n",
      "=================================\n"
     ]
    },
    {
     "name": "stderr",
     "output_type": "stream",
     "text": [
      "davidson : 101 : DEBUG : RIGHT EVALS\n",
      "tensor([ 4.01924,  4.24138,  5.93420,  5.96212,  5.96275,  6.28559,  6.42007,  7.06844,  8.41768, 10.38480, 13.73972, 17.20714, 18.58791, 22.60994, 25.31843, 28.82148, 30.04799, 35.93835, 37.15173,\n",
      "        38.37948, 38.73907], grad_fn=<SortBackward0>)\n",
      "davidson : 132 : DEBUG : NORM of RESIDUAL : 3.1924360004911286e-06\n"
     ]
    },
    {
     "name": "stdout",
     "output_type": "stream",
     "text": [
      "=================================\n",
      " ITERATION : 60 \n",
      "SUBSPACE SIZE V:  torch.Size([225, 22])\n",
      "=================================\n"
     ]
    },
    {
     "name": "stderr",
     "output_type": "stream",
     "text": [
      "davidson : 101 : DEBUG : RIGHT EVALS\n",
      "tensor([ 4.01924,  4.24138,  5.93420,  5.96212,  5.96275,  6.28559,  6.39969,  7.03315,  8.26427,  9.72296, 12.79252, 16.14777, 18.46558, 18.90327, 24.80202, 27.75631, 28.83465, 31.40698, 36.23412,\n",
      "        37.41663, 38.37960, 38.75641], grad_fn=<SortBackward0>)\n",
      "davidson : 132 : DEBUG : NORM of RESIDUAL : 2.6587357460066512e-06\n"
     ]
    },
    {
     "name": "stdout",
     "output_type": "stream",
     "text": [
      "=================================\n",
      " ITERATION : 61 \n",
      "SUBSPACE SIZE V:  torch.Size([225, 23])\n",
      "=================================\n"
     ]
    },
    {
     "name": "stderr",
     "output_type": "stream",
     "text": [
      "davidson : 101 : DEBUG : RIGHT EVALS\n",
      "tensor([ 4.01924,  4.24138,  5.93420,  5.96212,  5.96275,  6.28559,  6.38261,  6.99854,  8.04408,  9.17174, 11.84583, 14.77532, 17.57319, 18.60216, 22.73481, 25.19329, 28.81264, 29.42221, 33.56698,\n",
      "        36.42688, 37.68788, 38.37973, 38.77219], grad_fn=<SortBackward0>)\n",
      "davidson : 132 : DEBUG : NORM of RESIDUAL : 2.035485349896828e-06\n"
     ]
    },
    {
     "name": "stdout",
     "output_type": "stream",
     "text": [
      "=================================\n",
      " ITERATION : 62 \n",
      "SUBSPACE SIZE V:  torch.Size([225, 24])\n",
      "=================================\n"
     ]
    },
    {
     "name": "stderr",
     "output_type": "stream",
     "text": [
      "davidson : 101 : DEBUG : RIGHT EVALS\n",
      "tensor([ 4.01924,  4.24138,  5.93420,  5.96212,  5.96275,  6.28559,  6.36742,  6.95096,  7.83391,  8.82034, 11.03043, 13.82775, 16.91910, 18.35920, 19.28170, 24.66569, 25.78814, 28.84718, 30.12355,\n",
      "        34.60590, 36.51182, 37.85305, 38.38042, 38.78033], grad_fn=<SortBackward0>)\n",
      "davidson : 132 : DEBUG : NORM of RESIDUAL : 1.8906368837060803e-06\n"
     ]
    },
    {
     "name": "stdout",
     "output_type": "stream",
     "text": [
      "=================================\n",
      " ITERATION : 63 \n",
      "SUBSPACE SIZE V:  torch.Size([225, 25])\n",
      "=================================\n"
     ]
    },
    {
     "name": "stderr",
     "output_type": "stream",
     "text": [
      "davidson : 101 : DEBUG : RIGHT EVALS\n",
      "tensor([ 4.01924,  4.24138,  5.93420,  5.96212,  5.96275,  6.28559,  6.35419,  6.90243,  7.59450,  8.60778, 10.42668, 13.02514, 15.71107, 17.85319, 18.62451, 22.90828, 25.21586, 28.24003, 28.92742,\n",
      "        31.24808, 35.28668, 36.57649, 37.95975, 38.38220, 38.78502], grad_fn=<SortBackward0>)\n",
      "davidson : 132 : DEBUG : NORM of RESIDUAL : 1.7140158570436006e-06\n"
     ]
    },
    {
     "name": "stdout",
     "output_type": "stream",
     "text": [
      "=================================\n",
      " ITERATION : 64 \n",
      "SUBSPACE SIZE V:  torch.Size([225, 26])\n",
      "=================================\n"
     ]
    },
    {
     "name": "stderr",
     "output_type": "stream",
     "text": [
      "davidson : 101 : DEBUG : RIGHT EVALS\n",
      "tensor([ 4.01924,  4.24138,  5.93420,  5.96212,  5.96275,  6.28559,  6.33700,  6.82196,  7.36451,  8.43447,  9.85846, 12.20397, 14.65119, 17.33012, 18.49260, 19.85889, 24.50683, 25.63377, 28.81642,\n",
      "        29.69457, 33.27424, 36.14125, 36.80241, 38.11972, 38.38804, 38.79140], grad_fn=<SortBackward0>)\n",
      "davidson : 132 : DEBUG : NORM of RESIDUAL : 1.3327715464785102e-06\n"
     ]
    },
    {
     "name": "stdout",
     "output_type": "stream",
     "text": [
      "=================================\n",
      " ITERATION : 65 \n",
      "SUBSPACE SIZE V:  torch.Size([225, 27])\n",
      "=================================\n"
     ]
    },
    {
     "name": "stderr",
     "output_type": "stream",
     "text": [
      "davidson : 101 : DEBUG : RIGHT EVALS\n",
      "tensor([ 4.01924,  4.24138,  5.93420,  5.96212,  5.96275,  6.28559,  6.32680,  6.77063,  7.28625,  8.35393,  9.61237, 11.82448, 14.15355, 16.72470, 18.29610, 18.72838, 22.86496, 25.16552, 26.57824,\n",
      "        28.85993, 30.08327, 33.84144, 36.32253, 37.05537, 38.22192, 38.39349, 38.79619], grad_fn=<SortBackward0>)\n",
      "davidson : 132 : DEBUG : NORM of RESIDUAL : 1.1127352643852443e-06\n"
     ]
    },
    {
     "name": "stdout",
     "output_type": "stream",
     "text": [
      "=================================\n",
      " ITERATION : 66 \n",
      "SUBSPACE SIZE V:  torch.Size([225, 28])\n",
      "=================================\n"
     ]
    },
    {
     "name": "stderr",
     "output_type": "stream",
     "text": [
      "davidson : 101 : DEBUG : RIGHT EVALS\n",
      "tensor([ 4.01924,  4.24138,  5.93420,  5.96212,  5.96275,  6.28559,  6.31778,  6.71974,  7.16728,  8.30548,  9.27592, 10.94060, 13.13104, 15.23407, 17.27802, 18.62388, 20.11723, 24.29461, 25.83632,\n",
      "        28.49596, 29.30479, 32.24481, 34.87008, 36.37702, 37.36901, 38.35180, 38.39349, 38.80589], grad_fn=<SortBackward0>)\n"
     ]
    },
    {
     "name": "stdout",
     "output_type": "stream",
     "text": [
      "============================\n",
      "all residuals are below tolerance\n",
      "DAVIDSON ALGORITHM CONVERGED\n",
      "============================\n"
     ]
    },
    {
     "name": "stderr",
     "output_type": "stream",
     "text": [
      "<module> : 30 : DEBUG : FINAL eval \n",
      "tensor([ 4.01924,  4.24138,  5.93420,  5.96212,  5.96275,  6.28559,  6.31778,  6.71974,  7.16728,  8.30548,  9.27592, 10.94060, 13.13104, 15.23407, 17.27802, 18.62388, 20.11723, 24.29461, 25.83632,\n",
      "        28.49596, 29.30479, 32.24481, 34.87008, 36.37702, 37.36901, 38.35180, 38.39349, 38.80589], grad_fn=<SortBackward0>)\n"
     ]
    }
   ],
   "source": [
    "%reload_ext autoreload\n",
    "%autoreload 2\n",
    "\n",
    "\n",
    "logger.debug(fmt_log(eval, 'FINAL eval ', 'evals'))\n",
    "from seqm.seqm_functions.excited import ortho as orthogonalize\n",
    "from seqm.seqm_functions.excited.hamiltonian import gen_V\n",
    "from seqm.seqm_functions.excited.hamiltonian import form_cis\n",
    "from seqm.seqm_functions.excited.orb_transform import mo2ao\n",
    "\n",
    "\n",
    "\n",
    "mol = run_seqm_1mol('/vast/projects/ml4chem/NikitaFedik/GITHUB/PYSEQM_davidson/c6h6.xyz')\n",
    "eval, _ = davidson(device = 'cpu', \n",
    "                   mol = mol, \n",
    "                   N_exc = 3,\n",
    "                   keep_n = 4,\n",
    "                   n_V_max = 40, \n",
    "                   max_iter = 200, \n",
    "                   tol = 1e-6)\n",
    "\n",
    "logger.debug(fmt_log(eval, 'FINAL eval ', 'evals'))"
   ]
  }
 ],
 "metadata": {
  "kernelspec": {
   "display_name": "qm",
   "language": "python",
   "name": "qm"
  },
  "orig_nbformat": 4
 },
 "nbformat": 4,
 "nbformat_minor": 2
}
